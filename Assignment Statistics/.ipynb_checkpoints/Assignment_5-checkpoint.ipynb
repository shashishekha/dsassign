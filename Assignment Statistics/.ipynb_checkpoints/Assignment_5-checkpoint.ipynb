{
 "cells": [
  {
   "cell_type": "raw",
   "id": "2305a481",
   "metadata": {},
   "source": [
    "1. Give an example of 3 events A, B, C which are pairwise independent but not independent.\n",
    "Hint: find an example where whether C occurs is completely determined if we know whether\n",
    "A occurred and whether B occurred, but completely undetermined if we know only one of\n",
    "these things.\n"
   ]
  },
  {
   "cell_type": "raw",
   "id": "e37b9299",
   "metadata": {},
   "source": [
    "2. A bag contains one marble which is either green or blue, with equal probabilities. A green\n",
    "marble is put in the bag (so there are 2 marbles now), and then a random marble is taken\n",
    "out. The marble taken out is green. What is the probability that the remaining marble is also\n",
    "green?"
   ]
  }
 ],
 "metadata": {
  "kernelspec": {
   "display_name": "Python 3 (ipykernel)",
   "language": "python",
   "name": "python3"
  },
  "language_info": {
   "codemirror_mode": {
    "name": "ipython",
    "version": 3
   },
   "file_extension": ".py",
   "mimetype": "text/x-python",
   "name": "python",
   "nbconvert_exporter": "python",
   "pygments_lexer": "ipython3",
   "version": "3.9.7"
  }
 },
 "nbformat": 4,
 "nbformat_minor": 5
}
