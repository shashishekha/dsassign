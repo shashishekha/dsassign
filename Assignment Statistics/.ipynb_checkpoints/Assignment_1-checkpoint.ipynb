{
 "cells": [
  {
   "cell_type": "raw",
   "id": "0a53d5fd",
   "metadata": {},
   "source": [
    "1. Harvard Law School courses often have assigned seating to facilitate the “Socratic method.”\n",
    "Suppose that there are 100 first year Harvard Law students, and each takes two courses:\n",
    "Torts and Contracts. Both are held in the same lecture hall (which has 100 seats), and the\n",
    "seating is uniformly random and independent for the two courses.\n",
    "(a) Find the probability that no one has the same seat for both courses (exactly; you should\n",
    "leave your answer as a sum).\n",
    "(b) Find a simple but accurate approximation to the probability that no one has the same\n",
    "seat for both courses.\n",
    "(c) Find a simple but accurate approximation to the probability that at least two students\n",
    "have the same seat for both courses.\n"
   ]
  },
  {
   "cell_type": "code",
   "execution_count": null,
   "id": "ed464fc1",
   "metadata": {},
   "outputs": [],
   "source": []
  },
  {
   "cell_type": "raw",
   "id": "9c3dee7c",
   "metadata": {},
   "source": [
    "2. There are 100 passengers lined up to board an airplane with 100 seats (with each seat\n",
    "assigned to one of the passengers). The first passenger in line crazily decides to sit in a\n",
    "randomly chosen seat (with all seats equally likely). Each subsequent passenger takes his or\n",
    "her assigned seat if available, and otherwise sits in a random available seat. What is the\n",
    "probability that the last passenger in line gets to sit in his or her assigned seat?"
   ]
  },
  {
   "cell_type": "code",
   "execution_count": null,
   "id": "33fda2cb",
   "metadata": {},
   "outputs": [],
   "source": []
  }
 ],
 "metadata": {
  "kernelspec": {
   "display_name": "Python 3 (ipykernel)",
   "language": "python",
   "name": "python3"
  },
  "language_info": {
   "codemirror_mode": {
    "name": "ipython",
    "version": 3
   },
   "file_extension": ".py",
   "mimetype": "text/x-python",
   "name": "python",
   "nbconvert_exporter": "python",
   "pygments_lexer": "ipython3",
   "version": "3.9.7"
  }
 },
 "nbformat": 4,
 "nbformat_minor": 5
}
