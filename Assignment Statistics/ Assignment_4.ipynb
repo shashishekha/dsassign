{
 "cells": [
  {
   "cell_type": "raw",
   "id": "a55eaa0f",
   "metadata": {},
   "source": [
    "1. Is it possible that an event is independent of itself? If so, when?\n"
   ]
  },
  {
   "cell_type": "raw",
   "id": "3b6dd497",
   "metadata": {},
   "source": [
    "2. Is it always true that if A and B are independent events, then Ac and Bc are independent\n",
    "events? Show that it is, or give a counterexample."
   ]
  }
 ],
 "metadata": {
  "kernelspec": {
   "display_name": "Python 3 (ipykernel)",
   "language": "python",
   "name": "python3"
  },
  "language_info": {
   "codemirror_mode": {
    "name": "ipython",
    "version": 3
   },
   "file_extension": ".py",
   "mimetype": "text/x-python",
   "name": "python",
   "nbconvert_exporter": "python",
   "pygments_lexer": "ipython3",
   "version": "3.9.7"
  }
 },
 "nbformat": 4,
 "nbformat_minor": 5
}
