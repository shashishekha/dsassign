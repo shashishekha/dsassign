{
 "cells": [
  {
   "cell_type": "raw",
   "id": "4122536d",
   "metadata": {},
   "source": [
    "1. A chicken lays n eggs. Each egg independently does or doesn’t hatch, with probability p of\n",
    "hatching. For each egg that hatches, the chick does or doesn’t survive (independently of the\n",
    "other eggs), with probability s of survival. Let N ⇠ Bin(n, p) be the number of eggs which\n",
    "hatch, X be the number of chicks which survive, and Y be the number of chicks which hatch\n",
    "but don’t survive (so X + Y = N). Find the marginal PMF of X, and the joint PMF of X and Y .\n",
    "Are they independent?"
   ]
  }
 ],
 "metadata": {
  "kernelspec": {
   "display_name": "Python 3 (ipykernel)",
   "language": "python",
   "name": "python3"
  },
  "language_info": {
   "codemirror_mode": {
    "name": "ipython",
    "version": 3
   },
   "file_extension": ".py",
   "mimetype": "text/x-python",
   "name": "python",
   "nbconvert_exporter": "python",
   "pygments_lexer": "ipython3",
   "version": "3.9.7"
  }
 },
 "nbformat": 4,
 "nbformat_minor": 5
}
