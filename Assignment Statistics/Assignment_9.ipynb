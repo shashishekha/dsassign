{
 "cells": [
  {
   "cell_type": "raw",
   "id": "edfe1506",
   "metadata": {},
   "source": [
    "1. You are going to play 2 games of chess with an opponent whom you have never played\n",
    "against before (for the sake of this problem). Your opponent is equally likely to be a\n",
    "beginner, intermediate, or a master. Depending on\n",
    "(a) What is your probability of winning the first game?\n",
    "(b) Congratulations: you won the first game! Given this information, what is the probability\n",
    "that you will also win the second game\n",
    "(c) Explain the distinction between assuming that the outcomes of the games are\n",
    "independent and assuming that they are conditionally independent given the opponent’s\n",
    "skill level. Which of these assumptions seems more reasonable, and why?"
   ]
  }
 ],
 "metadata": {
  "kernelspec": {
   "display_name": "Python 3 (ipykernel)",
   "language": "python",
   "name": "python3"
  },
  "language_info": {
   "codemirror_mode": {
    "name": "ipython",
    "version": 3
   },
   "file_extension": ".py",
   "mimetype": "text/x-python",
   "name": "python",
   "nbconvert_exporter": "python",
   "pygments_lexer": "ipython3",
   "version": "3.9.7"
  }
 },
 "nbformat": 4,
 "nbformat_minor": 5
}
