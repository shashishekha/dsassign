{
 "cells": [
  {
   "cell_type": "raw",
   "id": "8780459c",
   "metadata": {},
   "source": [
    "1. A group of n 2 people decide to play an exciting game of Rock-Paper Scissors. As you may\n",
    "recall, Rock smashes Scissors, Scissors cuts Paper, and Paper covers Rock (despite Bart\n",
    "Simpson saying “Good old rock, nothing beats that!”). Usually, this game is played with 2\n",
    "players, but it can be extended to more players as follows. If exactly 2 of the 3 choices\n",
    "appear when everyone reveals their choice, say a, b 2 {Rock, P aper, Scissors} where a beats\n",
    "b, the game is decisive: the players who chose a win, and the players who chose b lose.\n",
    "Otherwise, the game is indecisive and the players play again. For example, with 5 players, if\n",
    "one player picks Rock, two pick Scissors, and two pick Paper, the round is indecisive and they\n",
    "play again. But if 3 pick Rock and 2 pick Scissors, then the Rock players win and the Scissors\n",
    "players lose the game. 1 Assume that the n players independently and randomly choose\n",
    "between Rock, Scissors, and Paper, with equal probabilities. Let X, Y, Z be the number of\n",
    "players who pick Rock, Scissors, Paper, respectively in one game.\n",
    "(a) Find the joint PMF of X, Y, Z.\n",
    "(b) Find the probability that the game is decisive. Simplify your answer (it should not involve\n",
    "a sum of many terms).\n",
    "(c) What is the probability that the game is decisive for n = 5? What is the limiting probability\n",
    "that a game is decisive as n ! 1? Explain briefly why your answer makes sense."
   ]
  }
 ],
 "metadata": {
  "kernelspec": {
   "display_name": "Python 3 (ipykernel)",
   "language": "python",
   "name": "python3"
  },
  "language_info": {
   "codemirror_mode": {
    "name": "ipython",
    "version": 3
   },
   "file_extension": ".py",
   "mimetype": "text/x-python",
   "name": "python",
   "nbconvert_exporter": "python",
   "pygments_lexer": "ipython3",
   "version": "3.9.7"
  }
 },
 "nbformat": 4,
 "nbformat_minor": 5
}
