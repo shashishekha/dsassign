{
 "cells": [
  {
   "cell_type": "markdown",
   "id": "1d369983",
   "metadata": {},
   "source": [
    "### 1. What is feature engineering, and how does it work? Explain the various aspects of feature\n",
    "### engineering in depth.\n"
   ]
  },
  {
   "cell_type": "markdown",
   "id": "ff35dffc",
   "metadata": {},
   "source": [
    "### 2. What is feature selection, and how does it work? What is the aim of it? What are the various\n",
    "### methods of function selection?\n"
   ]
  },
  {
   "cell_type": "markdown",
   "id": "fd2a148b",
   "metadata": {},
   "source": [
    "### 3. Describe the function selection filter and wrapper approaches. State the pros and cons of each\n",
    "### approach?\n",
    "\n"
   ]
  },
  {
   "cell_type": "markdown",
   "id": "0b02a6dc",
   "metadata": {},
   "source": [
    "### 4.\n",
    "\n",
    "### i. Describe the overall feature selection process.\n",
    "\n",
    "### ii. Explain the key underlying principle of feature extraction using an example. What are the most\n",
    "### widely used function extraction algorithms?\n",
    "\n"
   ]
  },
  {
   "cell_type": "markdown",
   "id": "8bd4b6a2",
   "metadata": {},
   "source": [
    "### 5. Describe the feature engineering process in the sense of a text categorization issue.\n",
    "\n"
   ]
  },
  {
   "cell_type": "markdown",
   "id": "c50baa7b",
   "metadata": {},
   "source": [
    "### 6. What makes cosine similarity a good metric for text categorization? A document-term matrix has\n",
    "### two rows with values of (2, 3, 2, 0, 2, 3, 3, 0, 1) and (2, 1, 0, 0, 3, 2, 1, 3, 1). Find the resemblance in\n",
    "### cosine.\n",
    "\n"
   ]
  },
  {
   "cell_type": "markdown",
   "id": "eb93fa73",
   "metadata": {},
   "source": [
    "### 7.\n",
    "\n",
    "### i. What is the formula for calculating Hamming distance? Between 10001011 and 11001111,\n",
    "### calculate the Hamming gap.\n",
    "\n",
    "### ii. Compare the Jaccard index and similarity matching coefficient of two features with values (1, 1, 0,\n",
    "### 0, 1, 0, 1, 1) and (1, 1, 0, 0, 0, 1, 1, 1), respectively (1, 0, 0, 1, 1, 0, 0, 1).\n",
    "\n"
   ]
  },
  {
   "cell_type": "markdown",
   "id": "fbee3682",
   "metadata": {},
   "source": [
    "### 8. State what is meant by &quot;high-dimensional data set&quot;? Could you offer a few real-life examples?\n",
    "### What are the difficulties in using machine learning techniques on a data set with many dimensions?\n",
    "### What can be done about it?\n",
    "\n"
   ]
  },
  {
   "cell_type": "markdown",
   "id": "45785980",
   "metadata": {},
   "source": [
    "### 9. Make a few quick notes on:\n",
    "\n",
    "### PCA is an acronym for Personal Computer Analysis.\n",
    "\n",
    "### 2. Use of vectors\n",
    "\n",
    "### 3. Embedded technique\n",
    "\n"
   ]
  },
  {
   "cell_type": "markdown",
   "id": "1c18f213",
   "metadata": {},
   "source": [
    "### 10. Make a comparison between:\n",
    "\n",
    "### 1. Sequential backward exclusion vs. sequential forward selection\n",
    "\n",
    "### 2. Function selection methods: filter vs. wrapper\n",
    "\n",
    "### 3. SMC vs. Jaccard coefficient"
   ]
  },
  {
   "cell_type": "code",
   "execution_count": null,
   "id": "77786aed",
   "metadata": {},
   "outputs": [],
   "source": []
  }
 ],
 "metadata": {
  "kernelspec": {
   "display_name": "Python 3 (ipykernel)",
   "language": "python",
   "name": "python3"
  },
  "language_info": {
   "codemirror_mode": {
    "name": "ipython",
    "version": 3
   },
   "file_extension": ".py",
   "mimetype": "text/x-python",
   "name": "python",
   "nbconvert_exporter": "python",
   "pygments_lexer": "ipython3",
   "version": "3.9.7"
  }
 },
 "nbformat": 4,
 "nbformat_minor": 5
}
