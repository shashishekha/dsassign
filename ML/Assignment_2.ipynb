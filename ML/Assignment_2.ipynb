{
 "cells": [
  {
   "cell_type": "markdown",
   "id": "896c7089",
   "metadata": {},
   "source": [
    "### 1. What is the concept of human learning? Please give two examples.\n"
   ]
  },
  {
   "cell_type": "markdown",
   "id": "4f31278c",
   "metadata": {},
   "source": [
    "Human learn through the process of experience, which helps in gathering knowledge, process it to make it fruitful. examples:\n",
    "1. speaking: The human can learn anything. The baby sees the motion of lips , tongues ang gradually they start speaking the language.\n",
    "2. writing: Learning alphabets then gradually making sentences, then paragraphs."
   ]
  },
  {
   "cell_type": "markdown",
   "id": "ea48105d",
   "metadata": {},
   "source": [
    "### 2. What different forms of human learning are there? Are there any machine learning equivalents?\n"
   ]
  },
  {
   "cell_type": "markdown",
   "id": "f388829a",
   "metadata": {},
   "source": [
    "Different Forms of ML are as follows :\n",
    "\n",
    "Artificial Intelligence Learning Theories. Machine Learning. Reinforcement Learning. Supervised Learning. Unsupervised Learning.\n",
    "\n",
    "ML equivalents like Linear regression, decision trees, random forest and support vector machines are some commonly used techniques that are actually examples of supervised learning."
   ]
  },
  {
   "cell_type": "markdown",
   "id": "6e031b95",
   "metadata": {},
   "source": [
    "### 3. What is machine learning, and how does it work? What are the key responsibilities of machine\n",
    "### learning?\n"
   ]
  },
  {
   "cell_type": "markdown",
   "id": "1fb0b98c",
   "metadata": {},
   "source": [
    " Machine learning is a branch of Artificial intelligence (AI) that teaches computers on how to think in a similar way to how humans do, like by Learning and improving upon past experiences.\n",
    "\n",
    "It works by exploring data and identifying patterns, and involves minimal human intervention.\n",
    "\n",
    "Roles and responsibilities of a machine learning engineer are:\n",
    "\n",
    "Designing ML systems.\n",
    "\n",
    "Researching and implementing ML algorithms and tools. Selecting appropriate data sets.\n",
    "\n",
    "Picking appropriate data representation methods. Identifying differences in data distribution that affects model performance. Verifying data quality."
   ]
  },
  {
   "cell_type": "markdown",
   "id": "8f449833",
   "metadata": {},
   "source": [
    "### 4. Define the terms &quot;penalty&quot; and &quot;reward&quot; in the context of reinforcement learning.\n"
   ]
  },
  {
   "cell_type": "markdown",
   "id": "814e0b97",
   "metadata": {},
   "source": [
    "A Reinforcement Learning Algorithm, which may also be referred to as an agent, learns by interacting with its environment. The agent receives rewards by performing correctly and penalties for performing incorrectly. The agent learns without intervention from a human by maximizing its reward and minimizing its penalty."
   ]
  },
  {
   "cell_type": "markdown",
   "id": "9333c868",
   "metadata": {},
   "source": [
    "### 5. Explain the term &quot;learning as a search&quot;?\n"
   ]
  },
  {
   "cell_type": "markdown",
   "id": "67871d3a",
   "metadata": {},
   "source": [
    "Learning can be viewed as a search through the space of all sentences in a concept description language for a sentence that best describes the data. Alternatively, it can be viewed as a search through all hypotheses in a hypothesis space."
   ]
  },
  {
   "cell_type": "markdown",
   "id": "c495790e",
   "metadata": {},
   "source": [
    "### 6. What are the various goals of machine learning? What is the relationship between these and\n",
    "### human learning?\n"
   ]
  },
  {
   "cell_type": "markdown",
   "id": "1241eca5",
   "metadata": {},
   "source": [
    "The Goal of machine learning, closely coupled with the goal of AI, is to achieve a through understanding about the nature of learning process (both human learning and other forms of learning), about the computational aspects of learning behaviors, and to implant the learning capability in computer systems.\n",
    "\n",
    "Humans have the ability to learn, however with the progress in artificial intelligence, machine learning has become a resource which can augment or even replace human learning. Learning does not happen all at once, but it builds upon and is shaped by previous knowledge."
   ]
  },
  {
   "cell_type": "markdown",
   "id": "de1ec27a",
   "metadata": {},
   "source": [
    "### 7. Illustrate the various elements of machine learning using a real-life illustration.\n"
   ]
  },
  {
   "cell_type": "markdown",
   "id": "1df9be5f",
   "metadata": {},
   "source": [
    "The Various elements of the the Machine Learning are:\n",
    "\n",
    "Data\n",
    "Task\n",
    "Model\n",
    "Loss Function\n",
    "Learning Algorithm\n",
    "Evaluation"
   ]
  },
  {
   "cell_type": "markdown",
   "id": "27362e43",
   "metadata": {},
   "source": [
    "### 8. Provide an example of the abstraction method.\n"
   ]
  },
  {
   "cell_type": "markdown",
   "id": "0f968115",
   "metadata": {},
   "source": [
    "In Machine Learning, Abstraction is supported primarily at the level of modules. This can be justified in two ways: first, Data abstraction is mostly a question of program interfaces and therefore it arises naturally at the point where we have to consider program composition and modules."
   ]
  },
  {
   "cell_type": "markdown",
   "id": "7545bfd3",
   "metadata": {},
   "source": [
    "### 9. What is the concept of generalization? What function does it play in the machine learning\n",
    "### process?\n"
   ]
  },
  {
   "cell_type": "markdown",
   "id": "58822418",
   "metadata": {},
   "source": [
    "Generalization refers to your model's ability to adapt properly to new, previously unseen data, drawn from the same distribution as the one used to create the model.\n",
    "\n",
    "In machine learning, generalization is a definition to demonstrate how well is a trained model to classify or forecast unseen data.This issue can result to classify an actual dog image as a cat from the unseen dataset. Therefore, data diversity is very important factor in order to make a good prediction."
   ]
  },
  {
   "cell_type": "markdown",
   "id": "28836f5a",
   "metadata": {},
   "source": [
    "### 10. What is classification, exactly? What are the main distinctions between classification and regression?\n"
   ]
  },
  {
   "cell_type": "markdown",
   "id": "6bd4f4dc",
   "metadata": {},
   "source": [
    " In Machine Learning, Classification refers to a predictive modeling problem where a class label is predicted for a given example of input data.Classification is the task of predicting a discrete class label. Whereas Regression is the task of predicting a continuous quantity."
   ]
  },
  {
   "cell_type": "markdown",
   "id": "eb9d9a42",
   "metadata": {},
   "source": [
    "### 11. What is regression, and how does it work? Give an example of a real-world problem that was\n",
    "### solved using regression.\n"
   ]
  },
  {
   "cell_type": "markdown",
   "id": "e037c3df",
   "metadata": {},
   "source": [
    "Regression is a Supervised Machine Learning technique which is used to predict continuous values. The ultimate goal of a regression algorithm is to plot a best-fit line or a curve between the data.\n",
    "\n",
    "The three main metrics that are used for evaluating the trained regression model are Variance, Bias and Error.\n",
    "\n",
    "A simple linear regression real life example could mean you finding a relationship between the revenue and temperature, with a sample size for revenue as the dependent variable. In case of multiple variable regression, you can find the relationship between temperature, pricing and number of workers to the revenue."
   ]
  },
  {
   "cell_type": "markdown",
   "id": "97cb5e73",
   "metadata": {},
   "source": [
    "### 12. Describe the clustering mechanism in detail.\n"
   ]
  },
  {
   "cell_type": "markdown",
   "id": "5a080427",
   "metadata": {},
   "source": [
    "Clustering is the task of dividing the population or data points into a number of groups such that data points in the same groups are more similar to other data points in the same group than those in other groups. In simple words, the aim is to segregate groups with similar traits and assign them into clusters."
   ]
  },
  {
   "cell_type": "markdown",
   "id": "36cd3bf1",
   "metadata": {},
   "source": [
    "### 13. Make brief observations on two of the following topics:\n",
    "\n",
    "### i. Machine learning algorithms are used\n",
    "### ii. Studying under supervision\n",
    "### iii. Studying without supervision\n",
    "\n",
    "### iv. Reinforcement learning is a form of learning based on positive reinforcement."
   ]
  },
  {
   "cell_type": "markdown",
   "id": "50dc4f9b",
   "metadata": {},
   "source": [
    "Machine learning algorithms are used: At its Most basic, Machine Learning uses programmed algorithms that receive and analyse input data to predict output values within an acceptable range. As new data is fed to these algorithms, they learn and optimise their operations to improve performance, developing intelligence over time.\n",
    "\n",
    "Studying Under Supervision: In machine learning, there are two important categories- Supervised and Unsupervised learning.Supervised learning, an algorithm learns from a training dataset. We know the correct answers or desired output, the algorithm makes predictions using the given dataset and is corrected by the “supervisor”."
   ]
  },
  {
   "cell_type": "code",
   "execution_count": null,
   "id": "e2d0960b",
   "metadata": {},
   "outputs": [],
   "source": []
  }
 ],
 "metadata": {
  "kernelspec": {
   "display_name": "Python 3 (ipykernel)",
   "language": "python",
   "name": "python3"
  },
  "language_info": {
   "codemirror_mode": {
    "name": "ipython",
    "version": 3
   },
   "file_extension": ".py",
   "mimetype": "text/x-python",
   "name": "python",
   "nbconvert_exporter": "python",
   "pygments_lexer": "ipython3",
   "version": "3.9.7"
  }
 },
 "nbformat": 4,
 "nbformat_minor": 5
}
