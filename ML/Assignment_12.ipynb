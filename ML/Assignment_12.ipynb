{
 "cells": [
  {
   "cell_type": "markdown",
   "id": "43e8ece7",
   "metadata": {},
   "source": [
    "### 1. What is prior probability? Give an example.\n"
   ]
  },
  {
   "cell_type": "code",
   "execution_count": null,
   "id": "15af85fd",
   "metadata": {},
   "outputs": [],
   "source": []
  },
  {
   "cell_type": "markdown",
   "id": "fe3f2518",
   "metadata": {},
   "source": [
    "### 2. What is posterior probability? Give an example.\n"
   ]
  },
  {
   "cell_type": "code",
   "execution_count": null,
   "id": "808ac0f4",
   "metadata": {},
   "outputs": [],
   "source": []
  },
  {
   "cell_type": "markdown",
   "id": "63c871f9",
   "metadata": {},
   "source": [
    "### 3. What is likelihood probability? Give an example.\n",
    "\n"
   ]
  },
  {
   "cell_type": "code",
   "execution_count": null,
   "id": "9dcc98ec",
   "metadata": {},
   "outputs": [],
   "source": []
  },
  {
   "cell_type": "markdown",
   "id": "40d65fcf",
   "metadata": {},
   "source": [
    "### 4. What is Naïve Bayes classifier? Why is it named so?\n"
   ]
  },
  {
   "cell_type": "code",
   "execution_count": null,
   "id": "a6b0cb28",
   "metadata": {},
   "outputs": [],
   "source": []
  },
  {
   "cell_type": "markdown",
   "id": "716db379",
   "metadata": {},
   "source": [
    "\n",
    "### 5. What is optimal Bayes classifier?\n",
    "\n"
   ]
  },
  {
   "cell_type": "code",
   "execution_count": null,
   "id": "0af83f57",
   "metadata": {},
   "outputs": [],
   "source": []
  },
  {
   "cell_type": "markdown",
   "id": "d9d907bf",
   "metadata": {},
   "source": [
    "### 6. Write any two features of Bayesian learning methods.\n",
    "\n"
   ]
  },
  {
   "cell_type": "code",
   "execution_count": null,
   "id": "778c3178",
   "metadata": {},
   "outputs": [],
   "source": []
  },
  {
   "cell_type": "markdown",
   "id": "6cd2e70f",
   "metadata": {},
   "source": [
    "### 7. Define the concept of consistent learners.\n",
    "\n"
   ]
  },
  {
   "cell_type": "code",
   "execution_count": null,
   "id": "1d209a2b",
   "metadata": {},
   "outputs": [],
   "source": []
  },
  {
   "cell_type": "markdown",
   "id": "258bfe02",
   "metadata": {},
   "source": [
    "### 8. Write any two strengths of Bayes classifier.\n",
    "\n"
   ]
  },
  {
   "cell_type": "code",
   "execution_count": null,
   "id": "f303db3f",
   "metadata": {},
   "outputs": [],
   "source": []
  },
  {
   "cell_type": "markdown",
   "id": "bdf49b10",
   "metadata": {},
   "source": [
    "### 9. Write any two weaknesses of Bayes classifier.\n",
    "\n"
   ]
  },
  {
   "cell_type": "code",
   "execution_count": null,
   "id": "75252d39",
   "metadata": {},
   "outputs": [],
   "source": []
  },
  {
   "cell_type": "markdown",
   "id": "304742f5",
   "metadata": {},
   "source": [
    "### 10. Explain how Naïve Bayes classifier is used for\n",
    "\n",
    "### 1. Text classification\n",
    "\n",
    "### 2. Spam filtering\n",
    "\n",
    "### 3. Market sentiment analysis"
   ]
  },
  {
   "cell_type": "code",
   "execution_count": null,
   "id": "c53cdbd7",
   "metadata": {},
   "outputs": [],
   "source": []
  }
 ],
 "metadata": {
  "kernelspec": {
   "display_name": "Python 3 (ipykernel)",
   "language": "python",
   "name": "python3"
  },
  "language_info": {
   "codemirror_mode": {
    "name": "ipython",
    "version": 3
   },
   "file_extension": ".py",
   "mimetype": "text/x-python",
   "name": "python",
   "nbconvert_exporter": "python",
   "pygments_lexer": "ipython3",
   "version": "3.9.7"
  }
 },
 "nbformat": 4,
 "nbformat_minor": 5
}
