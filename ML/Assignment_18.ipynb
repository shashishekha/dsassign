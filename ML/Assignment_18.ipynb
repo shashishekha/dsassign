{
 "cells": [
  {
   "cell_type": "markdown",
   "id": "b9281e02",
   "metadata": {},
   "source": [
    "### 1. What is the difference between supervised and unsupervised learning? Give some examples to\n",
    "### illustrate your point.\n"
   ]
  },
  {
   "cell_type": "code",
   "execution_count": null,
   "id": "e5ed9e7d",
   "metadata": {},
   "outputs": [],
   "source": []
  },
  {
   "cell_type": "markdown",
   "id": "d156da4d",
   "metadata": {},
   "source": [
    "### 2. Mention a few unsupervised learning applications.\n"
   ]
  },
  {
   "cell_type": "code",
   "execution_count": null,
   "id": "c0eb4ec7",
   "metadata": {},
   "outputs": [],
   "source": []
  },
  {
   "cell_type": "markdown",
   "id": "5e3b667a",
   "metadata": {},
   "source": [
    "### 3. What are the three main types of clustering methods? Briefly describe the characteristics of each.\n"
   ]
  },
  {
   "cell_type": "code",
   "execution_count": null,
   "id": "c625c73e",
   "metadata": {},
   "outputs": [],
   "source": []
  },
  {
   "cell_type": "markdown",
   "id": "06a8d902",
   "metadata": {},
   "source": [
    "\n",
    "### 4. Explain how the k-means algorithm determines the consistency of clustering.\n",
    "\n"
   ]
  },
  {
   "cell_type": "code",
   "execution_count": null,
   "id": "3a7d5051",
   "metadata": {},
   "outputs": [],
   "source": []
  },
  {
   "cell_type": "markdown",
   "id": "41856f51",
   "metadata": {},
   "source": [
    "### 5. With a simple illustration, explain the key difference between the k-means and k-medoids\n",
    "### algorithms.\n",
    "\n"
   ]
  },
  {
   "cell_type": "code",
   "execution_count": null,
   "id": "08653bbf",
   "metadata": {},
   "outputs": [],
   "source": []
  },
  {
   "cell_type": "markdown",
   "id": "3ef9305a",
   "metadata": {},
   "source": [
    "### 6. What is a dendrogram, and how does it work? Explain how to do it.\n",
    "\n"
   ]
  },
  {
   "cell_type": "code",
   "execution_count": null,
   "id": "d00fa6de",
   "metadata": {},
   "outputs": [],
   "source": []
  },
  {
   "cell_type": "markdown",
   "id": "bcf0e33e",
   "metadata": {},
   "source": [
    "### 7. What exactly is SSE? What role does it play in the k-means algorithm?\n"
   ]
  },
  {
   "cell_type": "code",
   "execution_count": null,
   "id": "46036224",
   "metadata": {},
   "outputs": [],
   "source": []
  },
  {
   "cell_type": "markdown",
   "id": "c4a37a38",
   "metadata": {},
   "source": [
    "\n",
    "### 8. With a step-by-step algorithm, explain the k-means procedure.\n",
    "\n"
   ]
  },
  {
   "cell_type": "code",
   "execution_count": null,
   "id": "380fd7c2",
   "metadata": {},
   "outputs": [],
   "source": []
  },
  {
   "cell_type": "markdown",
   "id": "578a2e8b",
   "metadata": {},
   "source": [
    "### 9. In the sense of hierarchical clustering, define the terms single link and complete link.\n",
    "\n"
   ]
  },
  {
   "cell_type": "code",
   "execution_count": null,
   "id": "e2f03d20",
   "metadata": {},
   "outputs": [],
   "source": []
  },
  {
   "cell_type": "markdown",
   "id": "92f79207",
   "metadata": {},
   "source": [
    "### 10. How does the apriori concept aid in the reduction of measurement overhead in a business\n",
    "### basket analysis? Give an example to demonstrate your point."
   ]
  },
  {
   "cell_type": "code",
   "execution_count": null,
   "id": "fa371598",
   "metadata": {},
   "outputs": [],
   "source": []
  },
  {
   "cell_type": "code",
   "execution_count": null,
   "id": "820521da",
   "metadata": {},
   "outputs": [],
   "source": []
  }
 ],
 "metadata": {
  "kernelspec": {
   "display_name": "Python 3 (ipykernel)",
   "language": "python",
   "name": "python3"
  },
  "language_info": {
   "codemirror_mode": {
    "name": "ipython",
    "version": 3
   },
   "file_extension": ".py",
   "mimetype": "text/x-python",
   "name": "python",
   "nbconvert_exporter": "python",
   "pygments_lexer": "ipython3",
   "version": "3.9.7"
  }
 },
 "nbformat": 4,
 "nbformat_minor": 5
}
