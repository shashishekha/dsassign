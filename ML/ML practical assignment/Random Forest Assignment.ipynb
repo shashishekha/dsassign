{
 "cells": [
  {
   "cell_type": "code",
   "execution_count": null,
   "id": "24430ce4",
   "metadata": {},
   "outputs": [],
   "source": [
    "Assignment\n",
    "\n",
    "In this assignment students will build the random forest model after\n",
    "normalizing the variable to house pricing from boston data set.\n",
    "Following the code to get data into the environment:\n",
    "import numpy as np\n",
    "import pandas as pd\n",
    "import matplotlib.pyplot as plt\n",
    "import seaborn as sns\n",
    "from sklearn.model_selection import\n",
    "train_test_split from sklearn.preprocessing\n",
    "import StandardScaler from sklearn import\n",
    "datasets boston = datasets.load_boston()\n",
    "features = pd.DataFrame(boston.data,\n",
    "columns=boston.feature_names)\n",
    "targets = boston.target\n",
    "Task: Deploy this assignment in any cloud platform.(Try to look for\n",
    "free cloud platform)\n",
    "Assignment: Submit assignment’s deployable link only."
   ]
  }
 ],
 "metadata": {
  "kernelspec": {
   "display_name": "Python 3 (ipykernel)",
   "language": "python",
   "name": "python3"
  },
  "language_info": {
   "codemirror_mode": {
    "name": "ipython",
    "version": 3
   },
   "file_extension": ".py",
   "mimetype": "text/x-python",
   "name": "python",
   "nbconvert_exporter": "python",
   "pygments_lexer": "ipython3",
   "version": "3.9.7"
  }
 },
 "nbformat": 4,
 "nbformat_minor": 5
}
