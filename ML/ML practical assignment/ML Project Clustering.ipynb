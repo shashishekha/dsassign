{
 "cells": [
  {
   "cell_type": "code",
   "execution_count": null,
   "id": "1d43c646",
   "metadata": {},
   "outputs": [],
   "source": [
    "Assignment\n",
    "\n",
    "Dataset Link\n",
    "https://drive.google.com/file/d/1pP0Rr83ri0voscgr95-\n",
    "YnVCBv6BYV22w/view\n",
    "Problem 1:\n",
    "There are various stocks for which we have collected a data set,\n",
    "which all stocks are apparently similar in performance\n",
    "Problem 2:\n",
    "How many Unique patterns that exist in the historical stock data set,\n",
    "based on fluctuations in price.\n",
    "Problem 3:\n",
    "Identify which all stocks are moving together and which all stocks\n",
    "are different from each other.\n",
    "Task: Deploy this assignment in any cloud platform.(Try to look for\n",
    "free cloud platform)\n",
    "Assignment: Submit assignment’s deployable link only."
   ]
  }
 ],
 "metadata": {
  "kernelspec": {
   "display_name": "Python 3 (ipykernel)",
   "language": "python",
   "name": "python3"
  },
  "language_info": {
   "codemirror_mode": {
    "name": "ipython",
    "version": 3
   },
   "file_extension": ".py",
   "mimetype": "text/x-python",
   "name": "python",
   "nbconvert_exporter": "python",
   "pygments_lexer": "ipython3",
   "version": "3.9.7"
  }
 },
 "nbformat": 4,
 "nbformat_minor": 5
}
