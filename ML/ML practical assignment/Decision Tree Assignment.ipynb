{
 "cells": [
  {
   "cell_type": "code",
   "execution_count": null,
   "id": "a0ca96ad",
   "metadata": {},
   "outputs": [],
   "source": [
    "Assignment\n",
    "Predicting Survival in the Titanic Data Set\n",
    "We will be using a decision tree to make predictions about the\n",
    "Titanic data\n",
    "set from Kaggle. This data set provides information on the Titanic\n",
    "passengers and can be used to predict whether a passenger\n",
    "survived or\n",
    "not.\n",
    "Loading Data and modules\n",
    "import numpy as np\n",
    "import pandas as pd\n",
    "import seaborn as sb\n",
    "import matplotlib.pyplot as plt\n",
    "import sklearn\n",
    "from pandas import Series, DataFrame\n",
    "from pylab import rcParams\n",
    "from sklearn import preprocessing\n",
    "from sklearn.linear_model import LogisticRegression\n",
    "from sklearn.cross_validation import train_test_split\n",
    "from sklearn import metrics\n",
    "from sklearn.metrics import classification_report\n",
    "Url = https://raw.githubusercontent.com/BigDataGal/Python-for-\n",
    "Data-\n",
    "Science/master/titanic-train.csv\n",
    "titanic = pd.read_csv(url)\n",
    "titanic.columns =\n",
    "[&#39;PassengerId&#39;,&#39;Survived&#39;,&#39;Pclass&#39;,&#39;Name&#39;,&#39;Sex&#39;,&#39;Age&#39;,&#39;SibSp&#39;,&#39;Parch&#39;,&#39;\n",
    "Ti\n",
    "cket&#39;,&#39;Fare&#39;,&#39;Cabin&#39;,&#39;E mbarked&#39;]\n",
    "You use only Pclass, Sex, Age, SibSp (Siblings aboard), Parch\n",
    "(Parents/children aboard), and Fare to predict whether a passenger\n",
    "\n",
    "survived.\n",
    "Task: Deploy this assignment in any cloud platform.(Try to look for\n",
    "free cloud platform)\n",
    "Assignment: Submit assignment’s deployable link only."
   ]
  }
 ],
 "metadata": {
  "kernelspec": {
   "display_name": "Python 3 (ipykernel)",
   "language": "python",
   "name": "python3"
  },
  "language_info": {
   "codemirror_mode": {
    "name": "ipython",
    "version": 3
   },
   "file_extension": ".py",
   "mimetype": "text/x-python",
   "name": "python",
   "nbconvert_exporter": "python",
   "pygments_lexer": "ipython3",
   "version": "3.9.7"
  }
 },
 "nbformat": 4,
 "nbformat_minor": 5
}
