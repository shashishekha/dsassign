{
 "cells": [
  {
   "cell_type": "markdown",
   "id": "7a42579b",
   "metadata": {},
   "source": [
    "Build the linear regression model using scikit learn in boston data to\n",
    "\n",
    "predict &#39;Price&#39; based on other dependent variable.\n",
    "\n",
    "Here is the code to load the data:\n",
    "\n",
    "import numpy as np\n",
    "\n",
    "import pandas as pd\n",
    "\n",
    "import scipy.stats as stats\n",
    "\n",
    "import matplotlib.pyplot as plt\n",
    "\n",
    "import sklearn\n",
    "\n",
    "from sklearn.datasets import load_boston\n",
    "\n",
    "boston = load_boston()\n",
    "\n",
    "bos = pd.DataFrame(boston.data)\n",
    "\n",
    "Task: Deploy this assignment in any cloud platform.(Try to look for\n",
    "\n",
    "free cloud platform)\n",
    "\n",
    "Assignment: Submit assignment’s deployable link only."
   ]
  },
  {
   "cell_type": "code",
   "execution_count": null,
   "id": "43cc7e02",
   "metadata": {},
   "outputs": [],
   "source": []
  }
 ],
 "metadata": {
  "kernelspec": {
   "display_name": "Python 3 (ipykernel)",
   "language": "python",
   "name": "python3"
  },
  "language_info": {
   "codemirror_mode": {
    "name": "ipython",
    "version": 3
   },
   "file_extension": ".py",
   "mimetype": "text/x-python",
   "name": "python",
   "nbconvert_exporter": "python",
   "pygments_lexer": "ipython3",
   "version": "3.9.7"
  }
 },
 "nbformat": 4,
 "nbformat_minor": 5
}
