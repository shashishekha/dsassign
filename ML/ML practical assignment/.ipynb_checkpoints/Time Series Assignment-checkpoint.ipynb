{
 "cells": [
  {
   "cell_type": "code",
   "execution_count": null,
   "id": "9f9f54d9",
   "metadata": {},
   "outputs": [],
   "source": [
    "Assignment\n",
    "\n",
    "In this assignment students have to make ARIMA model over\n",
    "shampoo\n",
    "sales data and check the MSE between predicted and actual value.\n",
    "Student can download data in .csv format from the following link:\n",
    "https://raw.githubusercontent.com/blue-\n",
    "yonder/pydse/master/pydse/data/sales-of-shampoo-over-a-three-\n",
    "ye.csv\n",
    "Hint:\n",
    "Following is the command import\n",
    "packages and data from pandas import\n",
    "read_csv from pandas import datetime\n",
    "from matplotlib import pyplot\n",
    "from statsmodels.tsa.arima_model\n",
    "import ARIMA from sklearn.metrics\n",
    "import mean_squared_error\n",
    "def parser(x):\n",
    "return datetime.strptime(&#39;190&#39;+x, &#39;%Y-%m&#39;)\n",
    "series = read_csv(&#39;https://raw.githubusercontent.com/blue-\n",
    "yonder/pydse/master/pydse/data/sales-of-shampoo-over-a-three-\n",
    "ye.csv&#39;, header=0, parse_dates=[0],\n",
    "index_col=0, squeeze=True, date_parser=parser)\n",
    "Task: Deploy this assignment in any cloud platform.(Try to look for\n",
    "free cloud platform)\n",
    "Assignment: Submit assignment’s deployable link only."
   ]
  }
 ],
 "metadata": {
  "kernelspec": {
   "display_name": "Python 3 (ipykernel)",
   "language": "python",
   "name": "python3"
  },
  "language_info": {
   "codemirror_mode": {
    "name": "ipython",
    "version": 3
   },
   "file_extension": ".py",
   "mimetype": "text/x-python",
   "name": "python",
   "nbconvert_exporter": "python",
   "pygments_lexer": "ipython3",
   "version": "3.9.7"
  }
 },
 "nbformat": 4,
 "nbformat_minor": 5
}
