{
 "cells": [
  {
   "cell_type": "markdown",
   "id": "7bbacb94",
   "metadata": {},
   "source": [
    "### 1. Define the Bayesian interpretation of probability.\n"
   ]
  },
  {
   "cell_type": "markdown",
   "id": "c363a093",
   "metadata": {},
   "source": [
    "Bayesian probability is the study of subjective probabilities or belief in an outcome, compared to the frequentist approach where probabilities are based purely on the past occurrence of the event. A Bayesian Network captures the joint probabilities of the events represented by the model."
   ]
  },
  {
   "cell_type": "markdown",
   "id": "5ef144b6",
   "metadata": {},
   "source": [
    "### 2. Define probability of a union of two events with equation.\n"
   ]
  },
  {
   "cell_type": "markdown",
   "id": "db0f13fd",
   "metadata": {},
   "source": [
    "The general probability addition rule for the union of two events states that P(A∪B)=P(A)+P(B)−P(A∩B), where A∩B is the intersection of the two sets."
   ]
  },
  {
   "cell_type": "markdown",
   "id": "822adaa8",
   "metadata": {},
   "source": [
    "### 3. What is joint probability? What is its formula?\n"
   ]
  },
  {
   "cell_type": "markdown",
   "id": "d0946fbd",
   "metadata": {},
   "source": [
    "Probabilities are combined using multiplication, therefore the joint probability of independent events is calculated as the probability of event A multiplied by the probability of event B. This can be stated formally as follows:\n",
    "\n",
    "Joint Probability: P(A and B) = P(A)*P(B)"
   ]
  },
  {
   "cell_type": "markdown",
   "id": "d97bdcd1",
   "metadata": {},
   "source": [
    "### 4. What is chain rule of probability?\n"
   ]
  },
  {
   "cell_type": "markdown",
   "id": "553e1b98",
   "metadata": {},
   "source": [
    "The chain rule, or general product rule, calculates any component of the joint distribution of a set of random variables using only conditional probabilities. This probability theory is used as a foundation for backpropagation and in creating Bayesian networks."
   ]
  },
  {
   "cell_type": "markdown",
   "id": "497c98ec",
   "metadata": {},
   "source": [
    "### 5. What is conditional probability means? What is the formula of it?\n"
   ]
  },
  {
   "cell_type": "markdown",
   "id": "b6ff038d",
   "metadata": {},
   "source": [
    "Conditional probability is defined as the likelihood of an event or outcome occurring, based on the occurrence of a previous event or outcome.\n",
    "\n",
    "Conditional probability is calculated by multiplying the probability of the preceding event by the updated probability of the succeeding, or conditional, event.\n",
    "\n",
    "Let's take a real-life example. Probability of selling a TV on a given normal day may be only 30%. But if we consider that given day is Diwali, then there are much more chances of selling a TV. The conditional Probability of selling a TV on a day given that Day is Diwali might be 70%."
   ]
  },
  {
   "cell_type": "markdown",
   "id": "cefa2f60",
   "metadata": {},
   "source": [
    "### 6. What are continuous random variables?\n"
   ]
  },
  {
   "cell_type": "markdown",
   "id": "4f4a8665",
   "metadata": {},
   "source": [
    " A continuous random variable X takes all values in a given interval of numbers. ▪ The probability distribution of a continuous random variable is shown by a density curve. ▪ The probability that X is between an interval of numbers is the area under the density curve between the interval endpoints."
   ]
  },
  {
   "cell_type": "markdown",
   "id": "18d68079",
   "metadata": {},
   "source": [
    "### 7. What are Bernoulli distributions? What is the formula of it?\n"
   ]
  },
  {
   "cell_type": "markdown",
   "id": "c1312917",
   "metadata": {},
   "source": [
    "A Bernoulli distribution is a discrete probability distribution for a Bernoulli trial — a random experiment that has only two outcomes (usually called a Succes or a Failure).The expected value for a random variable, X.\n",
    "\n",
    "For a Bernoulli distribution is: E[X] = p.For example, if p = 0.04, then E[X] = 0.4"
   ]
  },
  {
   "cell_type": "markdown",
   "id": "43d7fc1d",
   "metadata": {},
   "source": [
    "### 8. What is binomial distribution? What is the formula?\n"
   ]
  },
  {
   "cell_type": "markdown",
   "id": "e0efc4dd",
   "metadata": {},
   "source": [
    "The binomial is a type of distribution that has two possible outcomes (the prefix “bi” means two, or twice).For example, a coin toss has only two possible outcomes: heads or tails and taking a test could have two possible outcomes: pass or fail.\n",
    "\n",
    "A Binomial Distribution shows either (S)uccess or (F)ailure."
   ]
  },
  {
   "cell_type": "markdown",
   "id": "60956dc5",
   "metadata": {},
   "source": [
    "### 9. What is Poisson distribution? What is the formula?\n"
   ]
  },
  {
   "cell_type": "code",
   "execution_count": 1,
   "id": "17c12e96",
   "metadata": {},
   "outputs": [
    {
     "ename": "SyntaxError",
     "evalue": "invalid syntax (Temp/ipykernel_130024/2335654607.py, line 1)",
     "output_type": "error",
     "traceback": [
      "\u001b[1;36m  File \u001b[1;32m\"C:\\Users\\HP\\AppData\\Local\\Temp/ipykernel_130024/2335654607.py\"\u001b[1;36m, line \u001b[1;32m1\u001b[0m\n\u001b[1;33m    A Poisson distribution is defined as a discrete frequency distribution that gives the probability of the number of independent events that occur in the fixed time.\u001b[0m\n\u001b[1;37m      ^\u001b[0m\n\u001b[1;31mSyntaxError\u001b[0m\u001b[1;31m:\u001b[0m invalid syntax\n"
     ]
    }
   ],
   "source": [
    "A Poisson distribution is defined as a discrete frequency distribution that gives the probability of the number of independent events that occur in the fixed time.\n",
    "\n",
    "In statistics, a Poisson distribution is a probability distribution that is used to show how many times an event is likely to occur over a specified period. ... The Poisson distribution is a discrete function, meaning that the variable can only take specific values in a (potentially infinite) list."
   ]
  },
  {
   "cell_type": "markdown",
   "id": "14ddacb3",
   "metadata": {},
   "source": [
    "### 10. Define covariance.\n"
   ]
  },
  {
   "cell_type": "markdown",
   "id": "871e4d27",
   "metadata": {},
   "source": [
    "Covariance is a measure of how much two random variables vary together. It's similar to variance, but where variance tells you how a single variable varies, co variance tells you how two variables vary together."
   ]
  },
  {
   "cell_type": "markdown",
   "id": "cb766a2c",
   "metadata": {},
   "source": [
    "### 11. Define correlation\n"
   ]
  },
  {
   "cell_type": "markdown",
   "id": "167c469c",
   "metadata": {},
   "source": [
    "Correlation explains how one or more variables are related to each other. These variables can be input data features which have been used to forecast our target variable. It's a bi-variate analysis measure which describes the association between different variables."
   ]
  },
  {
   "cell_type": "markdown",
   "id": "66a22969",
   "metadata": {},
   "source": [
    "### 12. Define sampling with replacement. Give example.\n"
   ]
  },
  {
   "cell_type": "markdown",
   "id": "95d6761e",
   "metadata": {},
   "source": [
    " If you sample with replacement, you would choose one person's name, put that person's name back in the hat, and then choose another name. The possibilities for your two-name sample are: John, John. John, Jack."
   ]
  },
  {
   "cell_type": "markdown",
   "id": "f58bd4f3",
   "metadata": {},
   "source": [
    "### 13. What is sampling without replacement? Give example.\n"
   ]
  },
  {
   "cell_type": "markdown",
   "id": "c1e11c80",
   "metadata": {},
   "source": [
    " In sampling without replacement, each sample unit of the population has only one chance to be selected in the sample. For example, if one draws a simple random sample such that no unit occurs more than one time in the sample, the sample is drawn without replacement."
   ]
  },
  {
   "cell_type": "markdown",
   "id": "8278e2b3",
   "metadata": {},
   "source": [
    "### 14. What is hypothesis? Give example."
   ]
  },
  {
   "cell_type": "markdown",
   "id": "bae408cb",
   "metadata": {},
   "source": [
    "A hypothesis (plural hypotheses) is a proposed explanation for a phenomenon. For a hypothesis to be a scientific hypothesis, the scientific method requires that one can test it. ... Even though the words \"hypothesis\" and \"theory\" are often used synonymously, a scientific hypothesis is not the same as a scientific theory.\n",
    "\n",
    "Examples of hypothesis statements: If garlic repels fleas, then a dog that is given garlic every day will not get fleas. Bacterial growth may be affected by moisture levels in the air. If sugar causes cavities, then people who eat a lot of candy may be more prone to cavities."
   ]
  }
 ],
 "metadata": {
  "kernelspec": {
   "display_name": "Python 3 (ipykernel)",
   "language": "python",
   "name": "python3"
  },
  "language_info": {
   "codemirror_mode": {
    "name": "ipython",
    "version": 3
   },
   "file_extension": ".py",
   "mimetype": "text/x-python",
   "name": "python",
   "nbconvert_exporter": "python",
   "pygments_lexer": "ipython3",
   "version": "3.9.7"
  }
 },
 "nbformat": 4,
 "nbformat_minor": 5
}
