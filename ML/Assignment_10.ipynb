{
 "cells": [
  {
   "cell_type": "markdown",
   "id": "7bbacb94",
   "metadata": {},
   "source": [
    "### 1. Define the Bayesian interpretation of probability.\n"
   ]
  },
  {
   "cell_type": "code",
   "execution_count": null,
   "id": "7d051eea",
   "metadata": {},
   "outputs": [],
   "source": []
  },
  {
   "cell_type": "markdown",
   "id": "5ef144b6",
   "metadata": {},
   "source": [
    "### 2. Define probability of a union of two events with equation.\n"
   ]
  },
  {
   "cell_type": "code",
   "execution_count": null,
   "id": "844be82e",
   "metadata": {},
   "outputs": [],
   "source": []
  },
  {
   "cell_type": "markdown",
   "id": "822adaa8",
   "metadata": {},
   "source": [
    "### 3. What is joint probability? What is its formula?\n"
   ]
  },
  {
   "cell_type": "code",
   "execution_count": null,
   "id": "aa1eabbe",
   "metadata": {},
   "outputs": [],
   "source": []
  },
  {
   "cell_type": "markdown",
   "id": "d97bdcd1",
   "metadata": {},
   "source": [
    "### 4. What is chain rule of probability?\n"
   ]
  },
  {
   "cell_type": "code",
   "execution_count": null,
   "id": "2d0c303d",
   "metadata": {},
   "outputs": [],
   "source": []
  },
  {
   "cell_type": "markdown",
   "id": "497c98ec",
   "metadata": {},
   "source": [
    "### 5. What is conditional probability means? What is the formula of it?\n"
   ]
  },
  {
   "cell_type": "code",
   "execution_count": null,
   "id": "a9bf6109",
   "metadata": {},
   "outputs": [],
   "source": []
  },
  {
   "cell_type": "markdown",
   "id": "cefa2f60",
   "metadata": {},
   "source": [
    "### 6. What are continuous random variables?\n"
   ]
  },
  {
   "cell_type": "code",
   "execution_count": null,
   "id": "aa08b48e",
   "metadata": {},
   "outputs": [],
   "source": []
  },
  {
   "cell_type": "markdown",
   "id": "18d68079",
   "metadata": {},
   "source": [
    "### 7. What are Bernoulli distributions? What is the formula of it?\n"
   ]
  },
  {
   "cell_type": "code",
   "execution_count": null,
   "id": "541004f1",
   "metadata": {},
   "outputs": [],
   "source": []
  },
  {
   "cell_type": "markdown",
   "id": "43d7fc1d",
   "metadata": {},
   "source": [
    "### 8. What is binomial distribution? What is the formula?\n"
   ]
  },
  {
   "cell_type": "code",
   "execution_count": null,
   "id": "ec7d0d5b",
   "metadata": {},
   "outputs": [],
   "source": []
  },
  {
   "cell_type": "markdown",
   "id": "60956dc5",
   "metadata": {},
   "source": [
    "### 9. What is Poisson distribution? What is the formula?\n"
   ]
  },
  {
   "cell_type": "code",
   "execution_count": null,
   "id": "17c12e96",
   "metadata": {},
   "outputs": [],
   "source": []
  },
  {
   "cell_type": "markdown",
   "id": "14ddacb3",
   "metadata": {},
   "source": [
    "### 10. Define covariance.\n"
   ]
  },
  {
   "cell_type": "code",
   "execution_count": null,
   "id": "9e43783d",
   "metadata": {},
   "outputs": [],
   "source": []
  },
  {
   "cell_type": "markdown",
   "id": "cb766a2c",
   "metadata": {},
   "source": [
    "### 11. Define correlation\n"
   ]
  },
  {
   "cell_type": "code",
   "execution_count": null,
   "id": "132fa8af",
   "metadata": {},
   "outputs": [],
   "source": []
  },
  {
   "cell_type": "markdown",
   "id": "66a22969",
   "metadata": {},
   "source": [
    "### 12. Define sampling with replacement. Give example.\n"
   ]
  },
  {
   "cell_type": "code",
   "execution_count": null,
   "id": "751efedf",
   "metadata": {},
   "outputs": [],
   "source": []
  },
  {
   "cell_type": "markdown",
   "id": "f58bd4f3",
   "metadata": {},
   "source": [
    "### 13. What is sampling without replacement? Give example.\n"
   ]
  },
  {
   "cell_type": "code",
   "execution_count": null,
   "id": "5e31bd08",
   "metadata": {},
   "outputs": [],
   "source": []
  },
  {
   "cell_type": "markdown",
   "id": "8278e2b3",
   "metadata": {},
   "source": [
    "### 14. What is hypothesis? Give example."
   ]
  },
  {
   "cell_type": "code",
   "execution_count": null,
   "id": "7dab4f27",
   "metadata": {},
   "outputs": [],
   "source": []
  }
 ],
 "metadata": {
  "kernelspec": {
   "display_name": "Python 3 (ipykernel)",
   "language": "python",
   "name": "python3"
  },
  "language_info": {
   "codemirror_mode": {
    "name": "ipython",
    "version": 3
   },
   "file_extension": ".py",
   "mimetype": "text/x-python",
   "name": "python",
   "nbconvert_exporter": "python",
   "pygments_lexer": "ipython3",
   "version": "3.9.7"
  }
 },
 "nbformat": 4,
 "nbformat_minor": 5
}
