{
 "cells": [
  {
   "cell_type": "markdown",
   "id": "9580fca8",
   "metadata": {},
   "source": [
    "### 1. Recognize the differences between supervised, semi-supervised, and unsupervised learning.\n"
   ]
  },
  {
   "cell_type": "code",
   "execution_count": null,
   "id": "abd688e6",
   "metadata": {},
   "outputs": [],
   "source": []
  },
  {
   "cell_type": "markdown",
   "id": "89b65881",
   "metadata": {},
   "source": [
    "### 2. Describe in detail any five examples of classification problems.\n"
   ]
  },
  {
   "cell_type": "code",
   "execution_count": null,
   "id": "54abc236",
   "metadata": {},
   "outputs": [],
   "source": []
  },
  {
   "cell_type": "markdown",
   "id": "8cda4626",
   "metadata": {},
   "source": [
    "### 3. Describe each phase of the classification process in detail.\n",
    "\n"
   ]
  },
  {
   "cell_type": "code",
   "execution_count": null,
   "id": "535747cc",
   "metadata": {},
   "outputs": [],
   "source": []
  },
  {
   "cell_type": "markdown",
   "id": "fff108c4",
   "metadata": {},
   "source": [
    "### 4. Go through the SVM model in depth using various scenarios.\n",
    "\n"
   ]
  },
  {
   "cell_type": "code",
   "execution_count": null,
   "id": "0b4b7e94",
   "metadata": {},
   "outputs": [],
   "source": []
  },
  {
   "cell_type": "markdown",
   "id": "33b6562e",
   "metadata": {},
   "source": [
    "### 5. What are some of the benefits and drawbacks of SVM?\n",
    "\n"
   ]
  },
  {
   "cell_type": "code",
   "execution_count": null,
   "id": "8d7a94c3",
   "metadata": {},
   "outputs": [],
   "source": []
  },
  {
   "cell_type": "markdown",
   "id": "f014acc7",
   "metadata": {},
   "source": [
    "### 6. Go over the kNN model in depth.\n",
    "\n"
   ]
  },
  {
   "cell_type": "code",
   "execution_count": null,
   "id": "e06a3f96",
   "metadata": {},
   "outputs": [],
   "source": []
  },
  {
   "cell_type": "markdown",
   "id": "24098989",
   "metadata": {},
   "source": [
    "### 7. Discuss the kNN algorithm&#39;s error rate and validation error.\n",
    "\n"
   ]
  },
  {
   "cell_type": "markdown",
   "id": "516b5925",
   "metadata": {},
   "source": [
    "### 8. For kNN, talk about how to measure the difference between the test and training results.\n",
    "\n"
   ]
  },
  {
   "cell_type": "markdown",
   "id": "e8405f7f",
   "metadata": {},
   "source": [
    "### 9. Create the kNN algorithm.\n",
    "\n"
   ]
  },
  {
   "cell_type": "markdown",
   "id": "18079607",
   "metadata": {},
   "source": [
    "### 10. What is a decision tree, exactly? What are the various kinds of nodes? Explain all in depth.\n",
    "\n"
   ]
  },
  {
   "cell_type": "markdown",
   "id": "b87548c8",
   "metadata": {},
   "source": [
    "### 11. Describe the different ways to scan a decision tree.\n"
   ]
  },
  {
   "cell_type": "markdown",
   "id": "f674ddc5",
   "metadata": {},
   "source": [
    "\n",
    "### 12. Describe in depth the decision tree algorithm.\n"
   ]
  },
  {
   "cell_type": "markdown",
   "id": "afc4e7ed",
   "metadata": {},
   "source": [
    "\n",
    "### 13. In a decision tree, what is inductive bias? What would you do to stop overfitting?\n",
    "\n"
   ]
  },
  {
   "cell_type": "markdown",
   "id": "24dda77e",
   "metadata": {},
   "source": [
    "### 14.Explain advantages and disadvantages of using a decision tree?\n",
    "\n"
   ]
  },
  {
   "cell_type": "markdown",
   "id": "03803053",
   "metadata": {},
   "source": [
    "### 15. Describe in depth the problems that are suitable for decision tree learning.\n",
    "\n"
   ]
  },
  {
   "cell_type": "markdown",
   "id": "5b70a985",
   "metadata": {},
   "source": [
    "### 16. Describe in depth the random forest model. What distinguishes a random forest?\n",
    "\n"
   ]
  },
  {
   "cell_type": "markdown",
   "id": "c8afb96c",
   "metadata": {},
   "source": [
    "### 17. In a random forest, talk about OOB error and variable value."
   ]
  },
  {
   "cell_type": "code",
   "execution_count": null,
   "id": "7930eeeb",
   "metadata": {},
   "outputs": [],
   "source": []
  }
 ],
 "metadata": {
  "kernelspec": {
   "display_name": "Python 3 (ipykernel)",
   "language": "python",
   "name": "python3"
  },
  "language_info": {
   "codemirror_mode": {
    "name": "ipython",
    "version": 3
   },
   "file_extension": ".py",
   "mimetype": "text/x-python",
   "name": "python",
   "nbconvert_exporter": "python",
   "pygments_lexer": "ipython3",
   "version": "3.9.7"
  }
 },
 "nbformat": 4,
 "nbformat_minor": 5
}
