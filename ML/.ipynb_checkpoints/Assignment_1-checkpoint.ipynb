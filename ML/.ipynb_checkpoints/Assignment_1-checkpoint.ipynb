{
 "cells": [
  {
   "cell_type": "markdown",
   "id": "1c1b3a47",
   "metadata": {},
   "source": [
    "### 1. What does one mean by the term &quot;machine learning&quot;?\n",
    "\n"
   ]
  },
  {
   "cell_type": "markdown",
   "id": "f9dce51b",
   "metadata": {},
   "source": [
    "It's a subset of artificial intelligence (AI), which focuses on using statistical techniques to build intelligent computer systems to learn from available databases."
   ]
  },
  {
   "cell_type": "markdown",
   "id": "706b6a1f",
   "metadata": {},
   "source": [
    "### 2.Can you think of 4 distinct types of issues where it shines?\n",
    "\n"
   ]
  },
  {
   "cell_type": "markdown",
   "id": "edc0e7bd",
   "metadata": {},
   "source": [
    "internet search engines, email filters to sort out spam, websites to make personalised recommendations, banking software to detect unusual transactions, and lots of apps on our phones such as voice recognition."
   ]
  },
  {
   "cell_type": "markdown",
   "id": "db4d01f3",
   "metadata": {},
   "source": [
    "### 3.What is a labeled training set, and how does it work?\n",
    "\n"
   ]
  },
  {
   "cell_type": "markdown",
   "id": "22ed31bd",
   "metadata": {},
   "source": [
    "You split up the data containing known response variable values into two pieces. The training set is used to train the algorithm, and then you use the trained model on the test set to predict the response variable values that are already known."
   ]
  },
  {
   "cell_type": "markdown",
   "id": "4d4d323a",
   "metadata": {},
   "source": [
    "### 4.What are the two most important tasks that are supervised?\n",
    "\n"
   ]
  },
  {
   "cell_type": "markdown",
   "id": "25bba0f5",
   "metadata": {},
   "source": [
    "The two most common supervised learning tasks are Regression and Classification."
   ]
  },
  {
   "cell_type": "markdown",
   "id": "4817b284",
   "metadata": {},
   "source": [
    "### 5.Can you think of four examples of unsupervised tasks?\n",
    "\n"
   ]
  },
  {
   "cell_type": "markdown",
   "id": "1afd38a4",
   "metadata": {},
   "source": [
    "Clustering, Visualization, Dimensionality Reduction, and Association Rule Learning."
   ]
  },
  {
   "cell_type": "markdown",
   "id": "d60f16f0",
   "metadata": {},
   "source": [
    "### 6.State the machine learning model that would be best to make a robot walk through various\n",
    "### unfamiliar terrains?\n",
    "\n"
   ]
  },
  {
   "cell_type": "markdown",
   "id": "2fea5239",
   "metadata": {},
   "source": [
    "Reinforcement Learning, where  the robot can learn from the response that it will get for its action. So, that will be best for robot walking in unfamiliar terrains."
   ]
  },
  {
   "cell_type": "markdown",
   "id": "908e4984",
   "metadata": {},
   "source": [
    "### 7.Which algorithm will you use to divide your customers into different groups?\n",
    "\n"
   ]
  },
  {
   "cell_type": "markdown",
   "id": "5b51867b",
   "metadata": {},
   "source": [
    "supervised(if the groups have known labels) or unsupervised(if the groups do not have labels)."
   ]
  },
  {
   "cell_type": "markdown",
   "id": "41e59212",
   "metadata": {},
   "source": [
    "### 8.Will you consider the problem of spam detection to be a supervised or unsupervised learning\n",
    "### problem?\n",
    "\n"
   ]
  },
  {
   "cell_type": "markdown",
   "id": "244ef4e6",
   "metadata": {},
   "source": [
    "spam detection is a supervised Machine learning problem as the labels are know."
   ]
  },
  {
   "cell_type": "markdown",
   "id": "257dfd93",
   "metadata": {},
   "source": [
    "### 9.What is the concept of an online learning system?\n",
    "\n"
   ]
  },
  {
   "cell_type": "markdown",
   "id": "7ff24e12",
   "metadata": {},
   "source": [
    "Online learning system is a learning system in which the machine learns continuously as data is given in small streams continuously."
   ]
  },
  {
   "cell_type": "markdown",
   "id": "8893f937",
   "metadata": {},
   "source": [
    "### 10.What is out-of-core learning, and how does it differ from core learning?\n",
    "\n"
   ]
  },
  {
   "cell_type": "markdown",
   "id": "e643cdc8",
   "metadata": {},
   "source": [
    "Out-of-core learning system is a system that can handle data that cannot fit into your computer memory. It uses online learning system to feed data in small bits."
   ]
  },
  {
   "cell_type": "markdown",
   "id": "8eac2bd4",
   "metadata": {},
   "source": [
    "### 11.What kind of learning algorithm makes predictions using a similarity measure?\n",
    "\n"
   ]
  },
  {
   "cell_type": "markdown",
   "id": "643f6874",
   "metadata": {},
   "source": [
    "Learning algorithm that relies on a similarity measure to make predictions is Instance Based Algorithm."
   ]
  },
  {
   "cell_type": "markdown",
   "id": "d0591f9a",
   "metadata": {},
   "source": [
    "### 12.What&#39;s the difference between a model parameter and a hyperparameter in a learning\n",
    "### algorithm?\n",
    "\n"
   ]
  },
  {
   "cell_type": "markdown",
   "id": "32a0843e",
   "metadata": {},
   "source": [
    "Model parameter determines how a model will predict given a new instance. Model usually has more than one parameter (i.e. slope of a linear model). Hyperparameter is a parameter for the learning algorithm, not of a model."
   ]
  },
  {
   "cell_type": "markdown",
   "id": "dbdc4cc2",
   "metadata": {},
   "source": [
    "### 13.What are the criteria that model-based learning algorithms look for? What is the most popular\n",
    "### method they use to achieve success? What method do they use to make predictions?\n",
    "\n"
   ]
  },
  {
   "cell_type": "markdown",
   "id": "a8e82563",
   "metadata": {},
   "source": [
    "Model based learning algorithm search for the optimal value of parameters in a model that will give the best results for the new instances. We often use a cost function or similar to determine what the parameter value has to be in order to minimize the function. The model makes prediction by using the value of the new instance and the parameters in its function."
   ]
  },
  {
   "cell_type": "markdown",
   "id": "cae86a76",
   "metadata": {},
   "source": [
    "### 14.Can you name four of the most important Machine Learning challenges?\n",
    "\n"
   ]
  },
  {
   "cell_type": "markdown",
   "id": "546aecd4",
   "metadata": {},
   "source": [
    "Four main challenges in Machine Learning include the following:\n",
    "\n",
    "Overfitting the Data (using a model too complicated)\n",
    "\n",
    "Underfitting the data (using a simple model)\n",
    "\n",
    "Lacking in Data\n",
    "\n",
    "Non Representative Data"
   ]
  },
  {
   "cell_type": "markdown",
   "id": "3fde1a71",
   "metadata": {},
   "source": [
    "### 15.What happens if the model performs well on the training data but fails to generalize the results\n",
    "### to new situations? Can you think of three different options?\n",
    "\n"
   ]
  },
  {
   "cell_type": "markdown",
   "id": "a6018386",
   "metadata": {},
   "source": [
    "If the model performs poorly to new instances, then it has overfitted on the training data. To solve this, we can do any of the following three:\n",
    "\n",
    "Get more data\n",
    "\n",
    "Implement a simpler model\n",
    "\n",
    "Eliminate outliers or noise from the existing data set."
   ]
  },
  {
   "cell_type": "markdown",
   "id": "1ca633ef",
   "metadata": {},
   "source": [
    "### 16.What exactly is a test set, and why would you need one?\n",
    "\n"
   ]
  },
  {
   "cell_type": "markdown",
   "id": "a88e26ee",
   "metadata": {},
   "source": [
    "Test set is a set to test your model (fit using training data) to see how it performs.Test set is necessary to determine how good (or bad) a model performs."
   ]
  },
  {
   "cell_type": "markdown",
   "id": "db5912f9",
   "metadata": {},
   "source": [
    "### 17.What is a validation set&#39;s purpose?\n",
    "\n"
   ]
  },
  {
   "cell_type": "markdown",
   "id": "7f61cce2",
   "metadata": {},
   "source": [
    "Validation set is a set used to compare between different training models."
   ]
  },
  {
   "cell_type": "markdown",
   "id": "2bfe9d20",
   "metadata": {},
   "source": [
    "### 18.What precisely is the train-dev kit, when will you need it, how do you put it to use?\n",
    "\n"
   ]
  },
  {
   "cell_type": "markdown",
   "id": "b9fa9665",
   "metadata": {},
   "source": [
    "Cross-validation is a tool to compare models without needing a separate validation set. It is preferred over validation set because we can save from breaking of part of the training set to create a validation set, as having more data is valuable regardless."
   ]
  },
  {
   "cell_type": "markdown",
   "id": "2abdfbd0",
   "metadata": {},
   "source": [
    "### 19.What could go wrong if you use the test set to tune hyperparameters?"
   ]
  },
  {
   "cell_type": "markdown",
   "id": "cbe04a07",
   "metadata": {},
   "source": [
    "If you tune hyperparameters using the test sets, then it may not perform well on the out-of-sample data because the model is tuned just for that specific set"
   ]
  },
  {
   "cell_type": "code",
   "execution_count": null,
   "id": "ddcbc071",
   "metadata": {},
   "outputs": [],
   "source": []
  }
 ],
 "metadata": {
  "kernelspec": {
   "display_name": "Python 3 (ipykernel)",
   "language": "python",
   "name": "python3"
  },
  "language_info": {
   "codemirror_mode": {
    "name": "ipython",
    "version": 3
   },
   "file_extension": ".py",
   "mimetype": "text/x-python",
   "name": "python",
   "nbconvert_exporter": "python",
   "pygments_lexer": "ipython3",
   "version": "3.9.7"
  }
 },
 "nbformat": 4,
 "nbformat_minor": 5
}
