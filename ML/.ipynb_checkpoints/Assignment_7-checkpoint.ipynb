{
 "cells": [
  {
   "cell_type": "markdown",
   "id": "036bc813",
   "metadata": {},
   "source": [
    "### 1. What is the definition of a target function? In the sense of a real-life example, express the target\n",
    "### function. How is a target function&#39;s fitness assessed?\n"
   ]
  },
  {
   "cell_type": "markdown",
   "id": "7fb0779f",
   "metadata": {},
   "source": [
    "### 2. What are predictive models, and how do they work? What are descriptive types, and how do you\n",
    "### use them? Examples of both types of models should be provided. Distinguish between these two\n",
    "### forms of models.\n"
   ]
  },
  {
   "cell_type": "markdown",
   "id": "1fa61a43",
   "metadata": {},
   "source": [
    "### 3. Describe the method of assessing a classification model&#39;s efficiency in detail. Describe the various\n",
    "### measurement parameters.\n"
   ]
  },
  {
   "cell_type": "markdown",
   "id": "9ede57bb",
   "metadata": {},
   "source": [
    "### 4.\n",
    "### i. In the sense of machine learning models, what is underfitting? What is the most common\n",
    "### reason for underfitting?\n",
    "### ii. What does it mean to overfit? When is it going to happen?\n",
    "### iii. In the sense of model fitting, explain the bias-variance trade-off.\n"
   ]
  },
  {
   "cell_type": "markdown",
   "id": "7f128282",
   "metadata": {},
   "source": [
    "### 5. Is it possible to boost the efficiency of a learning model? If so, please clarify how.\n"
   ]
  },
  {
   "cell_type": "markdown",
   "id": "cbd6aa18",
   "metadata": {},
   "source": [
    "### 6. How would you rate an unsupervised learning model&#39;s success? What are the most common\n",
    "### success indicators for an unsupervised learning model?\n"
   ]
  },
  {
   "cell_type": "markdown",
   "id": "5afb3196",
   "metadata": {},
   "source": [
    "### 7. Is it possible to use a classification model for numerical data or a regression model for categorical\n",
    "### data with a classification model? Explain your answer.\n"
   ]
  },
  {
   "cell_type": "markdown",
   "id": "26a1a697",
   "metadata": {},
   "source": [
    "### 8. Describe the predictive modeling method for numerical values. What distinguishes it from\n",
    "### categorical predictive modeling?\n"
   ]
  },
  {
   "cell_type": "markdown",
   "id": "8f00bbe6",
   "metadata": {},
   "source": [
    "### 9. The following data were collected when using a classification model to predict the malignancy of a\n",
    "### group of patients&#39; tumors:\n",
    "### i. Accurate estimates – 15 cancerous, 75 benign\n",
    "### ii. Wrong predictions – 3 cancerous, 7 benign\n",
    "### Determine the model&#39;s error rate, Kappa value, sensitivity, precision, and F-measure.\n"
   ]
  },
  {
   "cell_type": "markdown",
   "id": "b151e450",
   "metadata": {},
   "source": [
    "### 10. Make quick notes on:\n",
    "### 1. The process of holding out\n",
    "### 2. Cross-validation by tenfold\n",
    "### 3. Adjusting the parameters\n"
   ]
  },
  {
   "cell_type": "markdown",
   "id": "5257abf4",
   "metadata": {},
   "source": [
    "### 11. Define the following terms:\n",
    "### 1. Purity vs. Silhouette width\n",
    "### 2. Boosting vs. Bagging\n",
    "### 3. The eager learner vs. the lazy learner"
   ]
  },
  {
   "cell_type": "code",
   "execution_count": null,
   "id": "eca1205d",
   "metadata": {},
   "outputs": [],
   "source": []
  }
 ],
 "metadata": {
  "kernelspec": {
   "display_name": "Python 3 (ipykernel)",
   "language": "python",
   "name": "python3"
  },
  "language_info": {
   "codemirror_mode": {
    "name": "ipython",
    "version": 3
   },
   "file_extension": ".py",
   "mimetype": "text/x-python",
   "name": "python",
   "nbconvert_exporter": "python",
   "pygments_lexer": "ipython3",
   "version": "3.9.7"
  }
 },
 "nbformat": 4,
 "nbformat_minor": 5
}
