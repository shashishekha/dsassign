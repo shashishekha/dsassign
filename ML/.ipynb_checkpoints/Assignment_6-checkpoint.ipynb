{
 "cells": [
  {
   "cell_type": "markdown",
   "id": "374c603f",
   "metadata": {},
   "source": [
    "### 1. In the sense of machine learning, what is a model? What is the best way to train a model?\n"
   ]
  },
  {
   "cell_type": "markdown",
   "id": "23d34060",
   "metadata": {},
   "source": [
    "### 2. In the sense of machine learning, explain the &quot;No Free Lunch&quot; theorem.\n"
   ]
  },
  {
   "cell_type": "markdown",
   "id": "f00fcd5a",
   "metadata": {},
   "source": [
    "### 3. Describe the K-fold cross-validation mechanism in detail.\n",
    "\n"
   ]
  },
  {
   "cell_type": "markdown",
   "id": "70cc8ba5",
   "metadata": {},
   "source": [
    "### 4. Describe the bootstrap sampling method. What is the aim of it?\n",
    "\n"
   ]
  },
  {
   "cell_type": "markdown",
   "id": "a0a2c69f",
   "metadata": {},
   "source": [
    "### 5. What is the significance of calculating the Kappa value for a classification model? Demonstrate\n",
    "### how to measure the Kappa value of a classification model using a sample collection of results.\n",
    "\n"
   ]
  },
  {
   "cell_type": "markdown",
   "id": "0e315598",
   "metadata": {},
   "source": [
    "### 6. Describe the model ensemble method. In machine learning, what part does it play?\n",
    "\n"
   ]
  },
  {
   "cell_type": "markdown",
   "id": "471dadff",
   "metadata": {},
   "source": [
    "### 7. What is a descriptive model&#39;s main purpose? Give examples of real-world problems that\n",
    "### descriptive models were used to solve.\n",
    "\n"
   ]
  },
  {
   "cell_type": "markdown",
   "id": "45e3e520",
   "metadata": {},
   "source": [
    "### 8. Describe how to evaluate a linear regression model.\n",
    "\n"
   ]
  },
  {
   "cell_type": "markdown",
   "id": "822f016f",
   "metadata": {},
   "source": [
    "### 9. Distinguish :\n",
    "\n",
    "### 1. Descriptive vs. predictive models\n",
    "\n",
    "### 2. Underfitting vs. overfitting the model\n",
    "\n",
    "### 3. Bootstrapping vs. cross-validation\n",
    "\n"
   ]
  },
  {
   "cell_type": "markdown",
   "id": "81c475b4",
   "metadata": {},
   "source": [
    "### 10. Make quick notes on:\n",
    "\n",
    "### 1. LOOCV.\n",
    "\n",
    "### 2. F-measurement\n",
    "\n",
    "### 3. The width of the silhouette\n",
    "\n",
    "### 4. Receiver operating characteristic curve"
   ]
  },
  {
   "cell_type": "code",
   "execution_count": null,
   "id": "a08ae845",
   "metadata": {},
   "outputs": [],
   "source": []
  },
  {
   "cell_type": "code",
   "execution_count": null,
   "id": "58bab279",
   "metadata": {},
   "outputs": [],
   "source": []
  }
 ],
 "metadata": {
  "kernelspec": {
   "display_name": "Python 3 (ipykernel)",
   "language": "python",
   "name": "python3"
  },
  "language_info": {
   "codemirror_mode": {
    "name": "ipython",
    "version": 3
   },
   "file_extension": ".py",
   "mimetype": "text/x-python",
   "name": "python",
   "nbconvert_exporter": "python",
   "pygments_lexer": "ipython3",
   "version": "3.9.7"
  }
 },
 "nbformat": 4,
 "nbformat_minor": 5
}
