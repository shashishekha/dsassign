{
 "cells": [
  {
   "cell_type": "markdown",
   "id": "d5977541",
   "metadata": {},
   "source": [
    "### 1. What exactly is a feature? Give an example to illustrate your point.\n"
   ]
  },
  {
   "cell_type": "markdown",
   "id": "a5eec3db",
   "metadata": {},
   "source": [
    "Features are the basic building blocks of datasets. The quality of the features in your dataset has a major impact on the quality of the insights you will gain when you use that dataset for machine learning.\n",
    "\n",
    "Additionally, different business problems within the same industry do not necessarily require the same features, which is why it is important to have a strong understanding of the business goals of your data science project."
   ]
  },
  {
   "cell_type": "markdown",
   "id": "c5a69df0",
   "metadata": {},
   "source": [
    "### 2. What are the various circumstances in which feature construction is required?\n"
   ]
  },
  {
   "cell_type": "markdown",
   "id": "294d0021",
   "metadata": {},
   "source": [
    "The features in your data will directly influence the predictive models you use and the results you can achieve. Your results are dependent on many inter-dependent properties. You need great features that describe the structures inherent in your data. Better features means flexibility."
   ]
  },
  {
   "cell_type": "markdown",
   "id": "8ab0f95f",
   "metadata": {},
   "source": [
    "### 3. Describe how nominal variables are encoded.\n",
    "\n"
   ]
  },
  {
   "cell_type": "markdown",
   "id": "2ce42d64",
   "metadata": {},
   "source": [
    "Nominal data is made of discrete values with no numerical relationship between the different categories — mean and median are meaningless. Animal species is one example. For example, pig is not higher than bird and lower than fish."
   ]
  },
  {
   "cell_type": "markdown",
   "id": "df742ac1",
   "metadata": {},
   "source": [
    "### 4. Describe how numeric features are converted to categorical features.\n"
   ]
  },
  {
   "cell_type": "markdown",
   "id": "34297685",
   "metadata": {},
   "source": [
    "Converting categorical features into numeric features using domain knowledge. For example, we are given a list of countries and say we know the distance to these countries from India then we can replace it with distance from India. So, every country can be represented as its distance from India."
   ]
  },
  {
   "cell_type": "markdown",
   "id": "0545be78",
   "metadata": {},
   "source": [
    "\n",
    "### 5. Describe the feature selection wrapper approach. State the advantages and disadvantages of this\n",
    "### approach?\n"
   ]
  },
  {
   "cell_type": "markdown",
   "id": "65b4ccea",
   "metadata": {},
   "source": [
    " Wrapper methods measure the “usefulness” of features based on the classifier performance. In contrast, the filter methods pick up the intrinsic properties of the features (i.e., the “relevance” of the features) measured via univariate statistics instead of cross-validation performance.\n",
    "\n",
    "The wrapper classification algorithms with joint dimensionality reduction and classification can also be used but these methods have high computation cost, lower discriminative power. Moreover, these methods depend on the efficient selection of classifiers for obtaining high accuracy"
   ]
  },
  {
   "cell_type": "markdown",
   "id": "db472ab0",
   "metadata": {},
   "source": [
    "\n",
    "### 6. When is a feature considered irrelevant? What can be said to quantify it?\n",
    "\n"
   ]
  },
  {
   "cell_type": "markdown",
   "id": "2feb1f1e",
   "metadata": {},
   "source": [
    "Features are considered relevant if they are either strongly or weakly relevant, and are considered irrelevant otherwise.\n",
    "\n",
    "Irrelevant features can never contribute to prediction accuracy, by definition. Also to quantify it we need to first check the list of features, There are three types of feature selection:\n",
    "\n",
    "Wrapper methods (forward, backward, and stepwise selection)\n",
    "Filter methods (ANOVA, Pearson correlation, variance thresholding)\n",
    "Embedded methods (Lasso, Ridge, Decision Tree)."
   ]
  },
  {
   "cell_type": "markdown",
   "id": "83b8ad44",
   "metadata": {},
   "source": [
    "### 7. When is a function considered redundant? What criteria are used to identify features that could\n",
    "### be redundant?\n",
    "\n"
   ]
  },
  {
   "cell_type": "markdown",
   "id": "53a56d1c",
   "metadata": {},
   "source": [
    "If two features {X1, X2} are highly correlated, then the two features become redundant features since they have same information in terms of correlation measure. In other words, the correlation measure provides statistical association between any given a pair of features.\n",
    "\n",
    "Minimum redundancy feature selection is an algorithm frequently used in a method to accurately identify characteristics of genes and phenotypes"
   ]
  },
  {
   "cell_type": "markdown",
   "id": "12586d05",
   "metadata": {},
   "source": [
    "### 8. What are the various distance measurements used to determine feature similarity?\n",
    "\n"
   ]
  },
  {
   "cell_type": "markdown",
   "id": "7dd4bb97",
   "metadata": {},
   "source": [
    " Four of the most commonly used distance measures in machine learning are as follows:\n",
    "\n",
    "Hamming Distance.\n",
    "\n",
    "Euclidean Distance\n",
    "\n",
    "Manhattan Distance."
   ]
  },
  {
   "cell_type": "markdown",
   "id": "872aeba9",
   "metadata": {},
   "source": [
    "### 9. State difference between Euclidean and Manhattan distances?\n",
    "\n"
   ]
  },
  {
   "cell_type": "markdown",
   "id": "b6424f56",
   "metadata": {},
   "source": [
    " Euclidean & Hamming distances are used to measure similarity or dissimilarity between two sequences. Euclidean distance is extensively applied in analysis of convolutional codes and Trellis codes.\n",
    "\n",
    "Hamming distance is frequently encountered in the analysis of block codes."
   ]
  },
  {
   "cell_type": "markdown",
   "id": "4c8c2e13",
   "metadata": {},
   "source": [
    "### 10. Distinguish between feature transformation and feature selection.\n",
    "\n"
   ]
  },
  {
   "cell_type": "markdown",
   "id": "83a1895c",
   "metadata": {},
   "source": [
    "Feature selection is for filtering irrelevant or redundant features from your dataset. The key difference between feature selection and extraction is that feature selection keeps a subset of the original features while feature extraction creates brand new ones."
   ]
  },
  {
   "cell_type": "markdown",
   "id": "26e07c09",
   "metadata": {},
   "source": [
    "### 11. Make brief notes on any two of the following:\n",
    "\n",
    "### 1.SVD (Standard Variable Diameter Diameter)\n",
    "\n",
    "### 2. Collection of features using a hybrid approach\n",
    "\n",
    "### 3. The width of the silhouette\n",
    "\n",
    "### 4. Receiver operating characteristic curve"
   ]
  },
  {
   "cell_type": "markdown",
   "id": "c32f1fa7",
   "metadata": {},
   "source": [
    "Collection of features using a hybrid approach:\n",
    "\n",
    "Our hybrid method uses a filter technique inspired by the Relief based methods which suffer from instability as the feature selection is based on instances that are picked at random. The feature weight may fluctuate with the instances, making the selection sensitive to the data sampling especially in the presence of noisy and high-dimensional outliers. However our approach uses all instances to weight features.\n"
   ]
  },
  {
   "cell_type": "markdown",
   "id": "20e96f42",
   "metadata": {},
   "source": [
    "The width of the silhouette :\n",
    "\n",
    "Silhouette analysis can be used to study the separation distance between the resulting clusters. The silhouette plot displays a measure of how close each point in one cluster is to points in the neighboring clusters and thus provides a way to assess parameters like number of clusters visually. This measure has a range of [-1, 1].\n",
    "\n",
    "Silhouette coefficients (as these values are referred to as) near +1 indicate that the sample is far away from the neighboring clusters. A value of 0 indicates that the sample is on or very close to the decision boundary between two neighboring clusters and negative values indicate that those samples might have been assigned to the wrong cluster.\n"
   ]
  },
  {
   "cell_type": "code",
   "execution_count": null,
   "id": "70b75d09",
   "metadata": {},
   "outputs": [],
   "source": []
  }
 ],
 "metadata": {
  "kernelspec": {
   "display_name": "Python 3 (ipykernel)",
   "language": "python",
   "name": "python3"
  },
  "language_info": {
   "codemirror_mode": {
    "name": "ipython",
    "version": 3
   },
   "file_extension": ".py",
   "mimetype": "text/x-python",
   "name": "python",
   "nbconvert_exporter": "python",
   "pygments_lexer": "ipython3",
   "version": "3.9.7"
  }
 },
 "nbformat": 4,
 "nbformat_minor": 5
}
