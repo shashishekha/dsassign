{
 "cells": [
  {
   "cell_type": "markdown",
   "id": "d5977541",
   "metadata": {},
   "source": [
    "### 1. What exactly is a feature? Give an example to illustrate your point.\n"
   ]
  },
  {
   "cell_type": "markdown",
   "id": "c5a69df0",
   "metadata": {},
   "source": [
    "### 2. What are the various circumstances in which feature construction is required?\n"
   ]
  },
  {
   "cell_type": "markdown",
   "id": "8ab0f95f",
   "metadata": {},
   "source": [
    "### 3. Describe how nominal variables are encoded.\n",
    "\n"
   ]
  },
  {
   "cell_type": "markdown",
   "id": "df742ac1",
   "metadata": {},
   "source": [
    "### 4. Describe how numeric features are converted to categorical features.\n"
   ]
  },
  {
   "cell_type": "markdown",
   "id": "0545be78",
   "metadata": {},
   "source": [
    "\n",
    "### 5. Describe the feature selection wrapper approach. State the advantages and disadvantages of this\n",
    "### approach?\n"
   ]
  },
  {
   "cell_type": "markdown",
   "id": "db472ab0",
   "metadata": {},
   "source": [
    "\n",
    "### 6. When is a feature considered irrelevant? What can be said to quantify it?\n",
    "\n"
   ]
  },
  {
   "cell_type": "markdown",
   "id": "83b8ad44",
   "metadata": {},
   "source": [
    "### 7. When is a function considered redundant? What criteria are used to identify features that could\n",
    "### be redundant?\n",
    "\n"
   ]
  },
  {
   "cell_type": "markdown",
   "id": "12586d05",
   "metadata": {},
   "source": [
    "### 8. What are the various distance measurements used to determine feature similarity?\n",
    "\n"
   ]
  },
  {
   "cell_type": "markdown",
   "id": "872aeba9",
   "metadata": {},
   "source": [
    "### 9. State difference between Euclidean and Manhattan distances?\n",
    "\n"
   ]
  },
  {
   "cell_type": "markdown",
   "id": "4c8c2e13",
   "metadata": {},
   "source": [
    "### 10. Distinguish between feature transformation and feature selection.\n",
    "\n"
   ]
  },
  {
   "cell_type": "markdown",
   "id": "26e07c09",
   "metadata": {},
   "source": [
    "### 11. Make brief notes on any two of the following:\n",
    "\n",
    "### 1.SVD (Standard Variable Diameter Diameter)\n",
    "\n",
    "### 2. Collection of features using a hybrid approach\n",
    "\n",
    "### 3. The width of the silhouette\n",
    "\n",
    "### 4. Receiver operating characteristic curve"
   ]
  },
  {
   "cell_type": "code",
   "execution_count": null,
   "id": "a9db67a3",
   "metadata": {},
   "outputs": [],
   "source": []
  }
 ],
 "metadata": {
  "kernelspec": {
   "display_name": "Python 3 (ipykernel)",
   "language": "python",
   "name": "python3"
  },
  "language_info": {
   "codemirror_mode": {
    "name": "ipython",
    "version": 3
   },
   "file_extension": ".py",
   "mimetype": "text/x-python",
   "name": "python",
   "nbconvert_exporter": "python",
   "pygments_lexer": "ipython3",
   "version": "3.9.7"
  }
 },
 "nbformat": 4,
 "nbformat_minor": 5
}
