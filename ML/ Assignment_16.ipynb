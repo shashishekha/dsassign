{
 "cells": [
  {
   "cell_type": "code",
   "execution_count": null,
   "id": "4c453851",
   "metadata": {},
   "outputs": [],
   "source": [
    "### 1. In a linear equation, what is the difference between a dependent variable and an independent\n",
    "### variable?\n",
    "### 2. What is the concept of simple linear regression? Give a specific example.\n",
    "### 3. In a linear regression, define the slope.\n",
    "\n",
    "### 4. Determine the graph&#39;s slope, where the lower point on the line is represented as (3, 2) and the\n",
    "### higher point is represented as (2, 2).\n",
    "\n",
    "### 5. In linear regression, what are the conditions for a positive slope?\n",
    "\n",
    "### 6. In linear regression, what are the conditions for a negative slope?\n",
    "\n",
    "### 7. What is multiple linear regression and how does it work?\n",
    "\n",
    "### 8. In multiple linear regression, define the number of squares due to error.\n",
    "\n",
    "### 9. In multiple linear regression, define the number of squares due to regression.\n",
    "\n",
    "### In a regression equation, what is multicollinearity?\n",
    "\n",
    "### 11. What is heteroskedasticity, and what does it mean?\n",
    "\n",
    "### 12. Describe the concept of ridge regression.\n",
    "\n",
    "### 13. Describe the concept of lasso regression.\n",
    "\n",
    "### 14. What is polynomial regression and how does it work?\n",
    "\n",
    "### 15. Describe the basis function.\n",
    "\n",
    "### 16. Describe how logistic regression works."
   ]
  },
  {
   "cell_type": "code",
   "execution_count": null,
   "id": "ce6478f0",
   "metadata": {},
   "outputs": [],
   "source": []
  },
  {
   "cell_type": "code",
   "execution_count": null,
   "id": "61732c69",
   "metadata": {},
   "outputs": [],
   "source": []
  },
  {
   "cell_type": "code",
   "execution_count": null,
   "id": "33032e5f",
   "metadata": {},
   "outputs": [],
   "source": []
  },
  {
   "cell_type": "code",
   "execution_count": null,
   "id": "e93c39bf",
   "metadata": {},
   "outputs": [],
   "source": []
  },
  {
   "cell_type": "code",
   "execution_count": null,
   "id": "a443a6bc",
   "metadata": {},
   "outputs": [],
   "source": []
  },
  {
   "cell_type": "code",
   "execution_count": null,
   "id": "9d00cae3",
   "metadata": {},
   "outputs": [],
   "source": []
  },
  {
   "cell_type": "code",
   "execution_count": null,
   "id": "29b4bae5",
   "metadata": {},
   "outputs": [],
   "source": []
  },
  {
   "cell_type": "code",
   "execution_count": null,
   "id": "7d01865e",
   "metadata": {},
   "outputs": [],
   "source": []
  },
  {
   "cell_type": "code",
   "execution_count": null,
   "id": "7d9c5c61",
   "metadata": {},
   "outputs": [],
   "source": []
  },
  {
   "cell_type": "code",
   "execution_count": null,
   "id": "1d170404",
   "metadata": {},
   "outputs": [],
   "source": []
  },
  {
   "cell_type": "code",
   "execution_count": null,
   "id": "dc84caa3",
   "metadata": {},
   "outputs": [],
   "source": []
  },
  {
   "cell_type": "code",
   "execution_count": null,
   "id": "d3ac4d35",
   "metadata": {},
   "outputs": [],
   "source": []
  },
  {
   "cell_type": "code",
   "execution_count": null,
   "id": "f88d6333",
   "metadata": {},
   "outputs": [],
   "source": []
  },
  {
   "cell_type": "code",
   "execution_count": null,
   "id": "d3b37cd6",
   "metadata": {},
   "outputs": [],
   "source": []
  },
  {
   "cell_type": "code",
   "execution_count": null,
   "id": "469f382e",
   "metadata": {},
   "outputs": [],
   "source": []
  },
  {
   "cell_type": "code",
   "execution_count": null,
   "id": "cb91fb8b",
   "metadata": {},
   "outputs": [],
   "source": []
  },
  {
   "cell_type": "code",
   "execution_count": null,
   "id": "be65e8b6",
   "metadata": {},
   "outputs": [],
   "source": []
  }
 ],
 "metadata": {
  "kernelspec": {
   "display_name": "Python 3 (ipykernel)",
   "language": "python",
   "name": "python3"
  },
  "language_info": {
   "codemirror_mode": {
    "name": "ipython",
    "version": 3
   },
   "file_extension": ".py",
   "mimetype": "text/x-python",
   "name": "python",
   "nbconvert_exporter": "python",
   "pygments_lexer": "ipython3",
   "version": "3.9.7"
  }
 },
 "nbformat": 4,
 "nbformat_minor": 5
}
