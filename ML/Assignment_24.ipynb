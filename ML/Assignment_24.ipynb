{
 "cells": [
  {
   "cell_type": "markdown",
   "id": "a4912a55",
   "metadata": {},
   "source": [
    "### 1. What is your definition of clustering? What are a few clustering algorithms you might think of?\n"
   ]
  },
  {
   "cell_type": "code",
   "execution_count": null,
   "id": "2cd44571",
   "metadata": {},
   "outputs": [],
   "source": []
  },
  {
   "cell_type": "markdown",
   "id": "f371dd25",
   "metadata": {},
   "source": [
    "### 2. What are some of the most popular clustering algorithm applications?\n"
   ]
  },
  {
   "cell_type": "code",
   "execution_count": null,
   "id": "a14c4009",
   "metadata": {},
   "outputs": [],
   "source": []
  },
  {
   "cell_type": "markdown",
   "id": "e41a516e",
   "metadata": {},
   "source": [
    "### 3. When using K-Means, describe two strategies for selecting the appropriate number of clusters.\n"
   ]
  },
  {
   "cell_type": "code",
   "execution_count": null,
   "id": "935f2c75",
   "metadata": {},
   "outputs": [],
   "source": []
  },
  {
   "cell_type": "markdown",
   "id": "8d2a5dd1",
   "metadata": {},
   "source": [
    "\n",
    "### 4. What is mark propagation and how does it work? Why would you do it, and how would you do it?\n",
    "\n"
   ]
  },
  {
   "cell_type": "code",
   "execution_count": null,
   "id": "68db8bec",
   "metadata": {},
   "outputs": [],
   "source": []
  },
  {
   "cell_type": "markdown",
   "id": "0ca98921",
   "metadata": {},
   "source": [
    "### 5. Provide two examples of clustering algorithms that can handle large datasets. And two that look\n",
    "### for high-density areas?\n",
    "\n"
   ]
  },
  {
   "cell_type": "code",
   "execution_count": null,
   "id": "7d4e79df",
   "metadata": {},
   "outputs": [],
   "source": []
  },
  {
   "cell_type": "markdown",
   "id": "99cc73a4",
   "metadata": {},
   "source": [
    "### 6. Can you think of a scenario in which constructive learning will be advantageous? How can you go\n",
    "### about putting it into action?\n",
    "\n"
   ]
  },
  {
   "cell_type": "code",
   "execution_count": null,
   "id": "72daa97b",
   "metadata": {},
   "outputs": [],
   "source": []
  },
  {
   "cell_type": "markdown",
   "id": "382ecc21",
   "metadata": {},
   "source": [
    "### 7. How do you tell the difference between anomaly and novelty detection?\n",
    "\n"
   ]
  },
  {
   "cell_type": "code",
   "execution_count": null,
   "id": "34e64f25",
   "metadata": {},
   "outputs": [],
   "source": []
  },
  {
   "cell_type": "markdown",
   "id": "98cff931",
   "metadata": {},
   "source": [
    "### 8. What is a Gaussian mixture, and how does it work? What are some of the things you can do about\n",
    "### it?\n",
    "\n"
   ]
  },
  {
   "cell_type": "code",
   "execution_count": null,
   "id": "17bd94df",
   "metadata": {},
   "outputs": [],
   "source": []
  },
  {
   "cell_type": "markdown",
   "id": "d9f61849",
   "metadata": {},
   "source": [
    "### 9. When using a Gaussian mixture model, can you name two techniques for determining the correct\n",
    "### number of clusters?"
   ]
  },
  {
   "cell_type": "code",
   "execution_count": null,
   "id": "415856d7",
   "metadata": {},
   "outputs": [],
   "source": []
  }
 ],
 "metadata": {
  "kernelspec": {
   "display_name": "Python 3 (ipykernel)",
   "language": "python",
   "name": "python3"
  },
  "language_info": {
   "codemirror_mode": {
    "name": "ipython",
    "version": 3
   },
   "file_extension": ".py",
   "mimetype": "text/x-python",
   "name": "python",
   "nbconvert_exporter": "python",
   "pygments_lexer": "ipython3",
   "version": "3.9.7"
  }
 },
 "nbformat": 4,
 "nbformat_minor": 5
}
