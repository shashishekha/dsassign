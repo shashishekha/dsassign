{
 "cells": [
  {
   "cell_type": "markdown",
   "id": "c9fa9c85",
   "metadata": {},
   "source": [
    "### 1. What is the underlying concept of Support Vector Machines?\n"
   ]
  },
  {
   "cell_type": "markdown",
   "id": "3c5e9148",
   "metadata": {},
   "source": [
    "### 2. What is the concept of a support vector?\n"
   ]
  },
  {
   "cell_type": "markdown",
   "id": "180c768c",
   "metadata": {},
   "source": [
    "### 3. When using SVMs, why is it necessary to scale the inputs?\n",
    "\n"
   ]
  },
  {
   "cell_type": "markdown",
   "id": "648befcc",
   "metadata": {},
   "source": [
    "### 4. When an SVM classifier classifies a case, can it output a confidence score? What about a\n",
    "### percentage chance?\n",
    "\n"
   ]
  },
  {
   "cell_type": "markdown",
   "id": "50ba7d0f",
   "metadata": {},
   "source": [
    "### 5. Should you train a model on a training set with millions of instances and hundreds of features\n",
    "### using the primal or dual form of the SVM problem?\n",
    "\n"
   ]
  },
  {
   "cell_type": "markdown",
   "id": "343a123d",
   "metadata": {},
   "source": [
    "### 6. Let&#39;s say you&#39;ve used an RBF kernel to train an SVM classifier, but it appears to underfit the\n",
    "### training collection. Is it better to raise or lower (gamma)? What about the letter C?\n",
    "\n"
   ]
  },
  {
   "cell_type": "markdown",
   "id": "57717866",
   "metadata": {},
   "source": [
    "### 7. To solve the soft margin linear SVM classifier problem with an off-the-shelf QP solver, how should\n",
    "### the QP parameters (H, f, A, and b) be set?\n",
    "\n"
   ]
  },
  {
   "cell_type": "markdown",
   "id": "cfb15aac",
   "metadata": {},
   "source": [
    "### 8. On a linearly separable dataset, train a LinearSVC. Then, using the same dataset, train an SVC and\n",
    "### an SGDClassifier. See if you can get them to make a model that is similar to yours.\n",
    "\n"
   ]
  },
  {
   "cell_type": "markdown",
   "id": "1790b6da",
   "metadata": {},
   "source": [
    "### 9. On the MNIST dataset, train an SVM classifier. You&#39;ll need to use one-versus-the-rest to assign all\n",
    "### 10 digits because SVM classifiers are binary classifiers. To accelerate up the process, you might want\n",
    "### to tune the hyperparameters using small validation sets. What level of precision can you achieve?\n",
    "\n"
   ]
  },
  {
   "cell_type": "markdown",
   "id": "fce3b85c",
   "metadata": {},
   "source": [
    "### 10. On the California housing dataset, train an SVM regressor."
   ]
  },
  {
   "cell_type": "code",
   "execution_count": null,
   "id": "e756d791",
   "metadata": {},
   "outputs": [],
   "source": []
  }
 ],
 "metadata": {
  "kernelspec": {
   "display_name": "Python 3 (ipykernel)",
   "language": "python",
   "name": "python3"
  },
  "language_info": {
   "codemirror_mode": {
    "name": "ipython",
    "version": 3
   },
   "file_extension": ".py",
   "mimetype": "text/x-python",
   "name": "python",
   "nbconvert_exporter": "python",
   "pygments_lexer": "ipython3",
   "version": "3.9.7"
  }
 },
 "nbformat": 4,
 "nbformat_minor": 5
}
