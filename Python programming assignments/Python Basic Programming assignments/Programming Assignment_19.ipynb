{
 "cells": [
  {
   "cell_type": "markdown",
   "id": "7b208ceb",
   "metadata": {},
   "source": [
    "Question1\n",
    "Create a function that takes a string and returns a string in which each character is repeated\n",
    "once.\n",
    "\n",
    "Examples\n",
    "\n",
    "double_char(&quot;String&quot;) ➞ &quot;SSttrriinngg&quot;\n",
    "\n",
    "double_char(&quot;Hello World!&quot;) ➞ &quot;HHeelllloo WWoorrlldd!!&quot;\n",
    "\n",
    "double_char(&quot;1234!_ &quot;) ➞ &quot;11223344!!__ &quot;\n",
    "\n"
   ]
  },
  {
   "cell_type": "code",
   "execution_count": 6,
   "id": "cef3c5a2",
   "metadata": {},
   "outputs": [
    {
     "name": "stdout",
     "output_type": "stream",
     "text": [
      "Enter the string : 1234!_ \n",
      "11223344!!__  \n"
     ]
    }
   ],
   "source": [
    "def double_Char(string):\n",
    "    string1=\"\"\n",
    "    for ele in string:\n",
    "        string1+=2*ele\n",
    "    return string1\n",
    "\n",
    "string = input(\"Enter the string : \")\n",
    "print(double_Char(string))"
   ]
  },
  {
   "cell_type": "markdown",
   "id": "20713f0b",
   "metadata": {},
   "source": [
    "Question2\n",
    "Create a function that reverses a boolean value and returns the string \n",
    "\n",
    "&quot;boolean expected&quot;\n",
    "\n",
    "if another variable type is given.\n",
    "\n",
    "Examples\n",
    "\n",
    "reverse(True) ➞ False\n",
    "\n",
    "reverse(False) ➞ True\n",
    "\n",
    "reverse(0) ➞ &quot;boolean expected&quot;\n",
    "\n",
    "reverse(None) ➞ &quot;boolean expected&quot;\n",
    "\n"
   ]
  },
  {
   "cell_type": "code",
   "execution_count": 7,
   "id": "a0dc81a4",
   "metadata": {},
   "outputs": [
    {
     "name": "stdout",
     "output_type": "stream",
     "text": [
      "False\n",
      "True\n",
      "boolean expected\n"
     ]
    }
   ],
   "source": [
    "def reverse(x):\n",
    "    if type(x)==bool:\n",
    "        return not x\n",
    "    else:\n",
    "        return \"boolean expected\"\n",
    "print(reverse(True))\n",
    "print(reverse(False))\n",
    "print(reverse(0))"
   ]
  },
  {
   "cell_type": "markdown",
   "id": "c24711da",
   "metadata": {},
   "source": [
    "Question3\n",
    "Create a function that returns the thickness (in meters) of a piece of paper \n",
    "\n",
    "after folding it n\n",
    "\n",
    "number of times. The paper starts off with a thickness of 0.5mm.\n",
    "\n",
    "Examples\n",
    "\n",
    "num_layers(1) ➞ &quot;0.001m&quot;\n",
    "\n",
    "Paper folded once is 1mm (equal to 0.001m)\n",
    "\n",
    "num_layers(4) ➞ &quot;0.008m&quot;\n",
    "\n",
    "Paper folded 4 times is 8mm (equal to 0.008m)\n",
    "\n",
    "num_layers(21) ➞ &quot;1048.576m&quot;\n",
    "\n",
    "Paper folded 21 times is 1048576mm (equal to 1048.576m)\n",
    "\n"
   ]
  },
  {
   "cell_type": "code",
   "execution_count": 14,
   "id": "9a84242d",
   "metadata": {},
   "outputs": [
    {
     "name": "stdout",
     "output_type": "stream",
     "text": [
      "Enter the value : 1\n",
      "0.001m\n",
      "Enter the value : 4\n",
      "0.008m\n",
      "Enter the value : 21\n",
      "1048.576m\n"
     ]
    }
   ],
   "source": [
    "def thickness(x):\n",
    "    t = 0.5\n",
    "    for i in range(x):\n",
    "        t *=2\n",
    "    print(f'{t/1000}m')\n",
    "for i in range(3):\n",
    "    x = int(input(\"Enter the value : \"))\n",
    "    thickness(x)\n"
   ]
  },
  {
   "cell_type": "markdown",
   "id": "492a70b2",
   "metadata": {},
   "source": [
    "#### Question4\n",
    "\n",
    "Create a function that takes a single string as argument and returns an ordered list containing\n",
    "\n",
    "the indices of all capital letters in the string.\n",
    "\n",
    "Examples\n",
    "\n",
    "index_of_caps(&quot;eDaBiT&quot;) ➞ [1, 3, 5]\n",
    "\n",
    "index_of_caps(&quot;eQuINoX&quot;) ➞ [1, 3, 4, 6]\n",
    "\n",
    "index_of_caps(&quot;determine&quot;) ➞ []\n",
    "\n",
    "index_of_caps(&quot;STRIKE&quot;) ➞ [0, 1, 2, 3, 4, 5]\n",
    "\n",
    "index_of_caps(&quot;sUn&quot;) ➞ [1]\n",
    "\n"
   ]
  },
  {
   "cell_type": "code",
   "execution_count": 18,
   "id": "8a2d7d13",
   "metadata": {},
   "outputs": [
    {
     "name": "stdout",
     "output_type": "stream",
     "text": [
      "Enter the string : eDaBiT\n",
      "[1, 3, 5]\n",
      "Enter the string : eQuINoX\n",
      "[1, 3, 4, 6]\n",
      "Enter the string : determine\n",
      "[]\n",
      "Enter the string : STRIKE\n",
      "[0, 1, 2, 3, 4, 5]\n",
      "Enter the string : sUn\n",
      "[1]\n"
     ]
    }
   ],
   "source": [
    "def index_of_caps(string1):\n",
    "    string2=[]\n",
    "    for ele in string1:\n",
    "        if ele.isupper():\n",
    "            string2.append(string1.index(ele))\n",
    "    return string2\n",
    "for i in range(5):\n",
    "    string = input(\"Enter the string : \")\n",
    "    print(index_of_caps(string))"
   ]
  },
  {
   "cell_type": "markdown",
   "id": "6204157c",
   "metadata": {},
   "source": [
    "Question5\n",
    "Using list comprehensions, create a function that finds all even numbers from 1 to the given\n",
    "number.\n",
    "\n",
    "Examples\n",
    "\n",
    "find_even_nums(8) ➞ [2, 4, 6, 8]\n",
    "\n",
    "find_even_nums(4) ➞ [2, 4]\n",
    "\n",
    "find_even_nums(2) ➞ [2]"
   ]
  },
  {
   "cell_type": "code",
   "execution_count": 25,
   "id": "c23991d6",
   "metadata": {},
   "outputs": [
    {
     "name": "stdout",
     "output_type": "stream",
     "text": [
      "Enter the number8\n",
      "[2, 4, 6, 8]\n",
      "Enter the number4\n",
      "[2, 4]\n",
      "Enter the number2\n",
      "[2]\n"
     ]
    }
   ],
   "source": [
    "def find_even_nums(lst):\n",
    "    x =[ i for i in range(1,lst+1) if i%2==0]\n",
    "    return x\n",
    "for i in range(3):\n",
    "    lst = int(input(\"Enter the number\"))\n",
    "    print(find_even_nums(lst))"
   ]
  },
  {
   "cell_type": "code",
   "execution_count": null,
   "id": "0c9650ce",
   "metadata": {},
   "outputs": [],
   "source": []
  }
 ],
 "metadata": {
  "kernelspec": {
   "display_name": "Python 3 (ipykernel)",
   "language": "python",
   "name": "python3"
  },
  "language_info": {
   "codemirror_mode": {
    "name": "ipython",
    "version": 3
   },
   "file_extension": ".py",
   "mimetype": "text/x-python",
   "name": "python",
   "nbconvert_exporter": "python",
   "pygments_lexer": "ipython3",
   "version": "3.9.7"
  }
 },
 "nbformat": 4,
 "nbformat_minor": 5
}
