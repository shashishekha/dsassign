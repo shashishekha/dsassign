{
 "cells": [
  {
   "cell_type": "markdown",
   "id": "3b710be8",
   "metadata": {},
   "source": [
    "### 1.Write a Python program to check if the given number is a Disarium Number?\n",
    "\n"
   ]
  },
  {
   "cell_type": "markdown",
   "id": "98f9572b",
   "metadata": {},
   "source": [
    "A number in which the sum of the digits to the power of their respective position is equal to the number itself.\n",
    "ex:175 because pow(1,1)+pow(7,2)+pow(5,3) = 175"
   ]
  },
  {
   "cell_type": "code",
   "execution_count": 9,
   "id": "54d1b04b",
   "metadata": {},
   "outputs": [
    {
     "name": "stdout",
     "output_type": "stream",
     "text": [
      "Enter the number: 518\n",
      "True\n"
     ]
    }
   ],
   "source": [
    "def calLength(n):\n",
    "    count = 0\n",
    "    while(n!=0):\n",
    "        count+=1\n",
    "        n=n//10\n",
    "    return count\n",
    "\n",
    "def check_disarium(n):\n",
    "    k = n\n",
    "    size = calLength(k)\n",
    "    sum1 = 0\n",
    "    while(n>0):\n",
    "        m = n%10\n",
    "        sum1 = sum1+pow(m,size)\n",
    "        n=n//10\n",
    "        size = size-1\n",
    "    return sum1 == k\n",
    "l = int(input(\"Enter the number: \"))  \n",
    "print(check_disarium(l))   "
   ]
  },
  {
   "cell_type": "markdown",
   "id": "2241a319",
   "metadata": {},
   "source": [
    "### 2.Write a Python program to print all disarium numbers between 1 to 100?\n"
   ]
  },
  {
   "cell_type": "code",
   "execution_count": 14,
   "id": "aff84c37",
   "metadata": {},
   "outputs": [
    {
     "name": "stdout",
     "output_type": "stream",
     "text": [
      "1\n",
      "2\n",
      "3\n",
      "4\n",
      "5\n",
      "6\n",
      "7\n",
      "8\n",
      "9\n",
      "89\n"
     ]
    }
   ],
   "source": [
    "def calLength(n):\n",
    "    count = 0\n",
    "    while(n!=0):\n",
    "        count+=1\n",
    "        n=n//10\n",
    "    return count\n",
    "\n",
    "def check_disarium(n):\n",
    "    k = n\n",
    "    size = calLength(k)\n",
    "    sum1 = 0\n",
    "    while(n>0):\n",
    "        m = n%10\n",
    "        sum1 = sum1+pow(m,size)\n",
    "        n=n//10\n",
    "        size = size-1\n",
    "    return sum1\n",
    "for i in range(1,101):\n",
    "    k = check_disarium(i)\n",
    "    if k ==i:\n",
    "        print(i)"
   ]
  },
  {
   "cell_type": "markdown",
   "id": "c0b48a8b",
   "metadata": {},
   "source": [
    "### 3.Write a Python program to check if the given number is Happy Number?\n"
   ]
  },
  {
   "cell_type": "markdown",
   "id": "b880d066",
   "metadata": {},
   "source": [
    "A number is called happy if it leads to 1 after a sequence of steps wherein each step number is replaced by the sum of squares of its digit that is if we start with Happy Number and keep replacing it with digits square sum, we reach 1. "
   ]
  },
  {
   "cell_type": "code",
   "execution_count": 20,
   "id": "e98ea0fa",
   "metadata": {},
   "outputs": [
    {
     "name": "stdout",
     "output_type": "stream",
     "text": [
      "Enter the number:13\n",
      "13 is a Happy number\n"
     ]
    }
   ],
   "source": [
    "def squaresm(n):\n",
    "    sqsum =0\n",
    "    while(n):\n",
    "        sqsum +=(n%10)*(n%10)\n",
    "        n = n//10\n",
    "    return sqsum;\n",
    "\n",
    "def isHappy(n):\n",
    "    slower = n\n",
    "    faster= n\n",
    "    while(1):\n",
    "        slower = squaresm(slower)\n",
    "        \n",
    "        faster = squaresm(squaresm(faster))\n",
    "        if(slower != faster):\n",
    "            continue\n",
    "        else:\n",
    "            break\n",
    "    return slower==1\n",
    "l = int(input('Enter the number:'))\n",
    "if(isHappy(l)):\n",
    "    print(f'{l} is a Happy number')\n",
    "else:\n",
    "    print(f'{l} is not a Happy number')"
   ]
  },
  {
   "cell_type": "markdown",
   "id": "074fa0df",
   "metadata": {},
   "source": [
    "### 4.Write a Python program to print all happy numbers between 1 and 100?\n"
   ]
  },
  {
   "cell_type": "code",
   "execution_count": 22,
   "id": "8d52da9a",
   "metadata": {},
   "outputs": [
    {
     "name": "stdout",
     "output_type": "stream",
     "text": [
      "1\n",
      "7\n",
      "10\n",
      "13\n",
      "19\n",
      "23\n",
      "28\n",
      "31\n",
      "32\n",
      "44\n",
      "49\n",
      "68\n",
      "70\n",
      "79\n",
      "82\n",
      "86\n",
      "91\n",
      "94\n",
      "97\n",
      "100\n"
     ]
    }
   ],
   "source": [
    "def squaresm(n):\n",
    "    sqsum =0\n",
    "    while(n):\n",
    "        sqsum +=(n%10)*(n%10)\n",
    "        n = n//10\n",
    "    return sqsum;\n",
    "\n",
    "def isHappy(n):\n",
    "    slower = n\n",
    "    faster= n\n",
    "    while(1):\n",
    "        slower = squaresm(slower)\n",
    "        \n",
    "        faster = squaresm(squaresm(faster))\n",
    "        if(slower != faster):\n",
    "            continue\n",
    "        else:\n",
    "            break\n",
    "    return slower==1\n",
    "for i in range(1,101):\n",
    "    if isHappy(i):\n",
    "        print(i)\n"
   ]
  },
  {
   "cell_type": "markdown",
   "id": "abd19fb6",
   "metadata": {},
   "source": [
    "### 5.Write a Python program to determine whether the given number is a Harshad Number?\n"
   ]
  },
  {
   "cell_type": "markdown",
   "id": "543b076d",
   "metadata": {},
   "source": [
    "An integer number in base 10 which is divisible by the sum of its digits is said to be a Harshad Number. An n-harshad number is an integer number divisible by the sum of its digit in base n."
   ]
  },
  {
   "cell_type": "code",
   "execution_count": 37,
   "id": "e05ace97",
   "metadata": {},
   "outputs": [
    {
     "name": "stdout",
     "output_type": "stream",
     "text": [
      "Enter the number:15\n",
      "Not Harshad\n"
     ]
    }
   ],
   "source": [
    "def sahiHarshad(n):\n",
    "    temp = n\n",
    "    sum1 =0\n",
    "    while (n>0):\n",
    "        sum1 = sum1 + n%10\n",
    "        n = n//10\n",
    "    return (temp%sum1 ==0)\n",
    "l = int(input('Enter the number:'))\n",
    "if sahiHarshad(l):\n",
    "    print('Harshad Number')\n",
    "else:\n",
    "    print('Not Harshad')"
   ]
  },
  {
   "cell_type": "markdown",
   "id": "0a4a023b",
   "metadata": {},
   "source": [
    "### 6.Write a Python program to print all pronic numbers between 1 and 100?"
   ]
  },
  {
   "cell_type": "markdown",
   "id": "54a677d0",
   "metadata": {},
   "source": [
    "The pronic number is a product of two consecutive integers of the form: n(n+1)."
   ]
  },
  {
   "cell_type": "code",
   "execution_count": 38,
   "id": "0028ebaa",
   "metadata": {},
   "outputs": [
    {
     "name": "stdout",
     "output_type": "stream",
     "text": [
      "2\n",
      "6\n",
      "12\n",
      "20\n",
      "30\n",
      "42\n",
      "56\n",
      "72\n",
      "90\n"
     ]
    }
   ],
   "source": [
    "def checkPronic(n):\n",
    "    flag = False\n",
    "    for i in range(1,n+1):\n",
    "        if(i*(i+1)==n):\n",
    "            flag = True\n",
    "            break\n",
    "    return flag\n",
    "for i in range(1,101):\n",
    "    if(checkPronic(i)):\n",
    "        print(i)"
   ]
  },
  {
   "cell_type": "code",
   "execution_count": null,
   "id": "0cba2695",
   "metadata": {},
   "outputs": [],
   "source": []
  }
 ],
 "metadata": {
  "kernelspec": {
   "display_name": "Python 3 (ipykernel)",
   "language": "python",
   "name": "python3"
  },
  "language_info": {
   "codemirror_mode": {
    "name": "ipython",
    "version": 3
   },
   "file_extension": ".py",
   "mimetype": "text/x-python",
   "name": "python",
   "nbconvert_exporter": "python",
   "pygments_lexer": "ipython3",
   "version": "3.9.7"
  }
 },
 "nbformat": 4,
 "nbformat_minor": 5
}
