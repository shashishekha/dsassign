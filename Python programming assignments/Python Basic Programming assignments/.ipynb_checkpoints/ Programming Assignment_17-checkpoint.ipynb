{
 "cells": [
  {
   "cell_type": "raw",
   "id": "e3344ba4",
   "metadata": {},
   "source": [
    "Question1. Create a function that takes three arguments a, b, c and returns the sum of the\n",
    "numbers that are evenly divided by c from the range a, b inclusive.\n",
    "Examples\n",
    "evenly_divisible(1, 10, 20) ➞ 0\n",
    "# No number between 1 and 10 can be evenly divided by 20.\n",
    "evenly_divisible(1, 10, 2) ➞ 30\n",
    "# 2 + 4 + 6 + 8 + 10 = 30\n",
    "evenly_divisible(1, 10, 3) ➞ 18\n",
    "# 3 + 6 + 9 = 18\n",
    "\n"
   ]
  },
  {
   "cell_type": "code",
   "execution_count": 10,
   "id": "2980f0d9",
   "metadata": {},
   "outputs": [
    {
     "name": "stdout",
     "output_type": "stream",
     "text": [
      "1\n",
      "10\n",
      "3\n",
      "18\n"
     ]
    }
   ],
   "source": [
    "def evenly_divisible(a,b,c):\n",
    "    sum =0\n",
    "    for i in range(a,b+1):\n",
    "        if i%c==0:\n",
    "            sum+=i\n",
    "    return sum\n",
    "a,b,c = int(input()), int(input()),int(input())\n",
    "print(evenly_divisible(a,b,c))"
   ]
  },
  {
   "cell_type": "markdown",
   "id": "46386ca7",
   "metadata": {},
   "source": [
    "Question2. Create a function that returns True if a given inequality expression is correct and\n",
    "False otherwise.\n",
    "Examples\n",
    "correct_signs(&quot;3 &lt; 7 &lt; 11&quot;) ➞ True\n",
    "correct_signs(&quot;13 &gt; 44 &gt; 33 &gt; 1&quot;) ➞ False\n",
    "correct_signs(&quot;1 &lt; 2 &lt; 6 &lt; 9 &gt; 3&quot;) ➞ True\n",
    "\n"
   ]
  },
  {
   "cell_type": "code",
   "execution_count": 27,
   "id": "cb636eb5",
   "metadata": {},
   "outputs": [
    {
     "name": "stdout",
     "output_type": "stream",
     "text": [
      "Enter the string: 13 > 44 > 33 > 1\n",
      "False\n"
     ]
    }
   ],
   "source": [
    "def correct_signs(string):\n",
    "    calculated = eval(string)\n",
    "    return calculated\n",
    "string = input(\"Enter the string: \")\n",
    "print(correct_signs(string))\n",
    "    \n",
    "                \n",
    "        "
   ]
  },
  {
   "cell_type": "markdown",
   "id": "ddb6d3c2",
   "metadata": {},
   "source": [
    "Question3. Create a function that replaces all the vowels in a string with a specified character.\n",
    "Examples\n",
    "replace_vowels(&quot;the aardvark&quot;, &quot;#&quot;) ➞ &quot;th# ##rdv#rk&quot;\n",
    "replace_vowels(&quot;minnie mouse&quot;, &quot;?&quot;) ➞ &quot;m?nn?? m??s?&quot;\n",
    "replace_vowels(&quot;shakespeare&quot;, &quot;*&quot;) ➞ &quot;sh*k*sp**r*&quot;\n",
    "\n"
   ]
  },
  {
   "cell_type": "code",
   "execution_count": 21,
   "id": "441a4d94",
   "metadata": {},
   "outputs": [
    {
     "name": "stdout",
     "output_type": "stream",
     "text": [
      "Enter the string :minnie mouse\n",
      "Enter the character to be replaced with :?\n",
      "m?nn?? m??s?\n"
     ]
    }
   ],
   "source": [
    "def replace_vowels(string,string1):\n",
    "    k = list(string)\n",
    "    for ele in range(len(k)):\n",
    "        if k[ele] == 'a'or k[ele]=='e' or k[ele]=='i' or k[ele]=='o' or k[ele]=='u':\n",
    "            k[ele]=string1\n",
    "    \n",
    "            \n",
    "    return \"\".join(k)\n",
    "string = input(\"Enter the string :\")\n",
    "string1 = input(\"Enter the character to be replaced with :\")\n",
    "print(replace_vowels(string, string1))\n",
    "            \n",
    "            "
   ]
  },
  {
   "cell_type": "raw",
   "id": "f5d6d8fa",
   "metadata": {},
   "source": [
    "Question4. Write a function that calculates the factorial of a number recursively.\n",
    "Examples\n",
    "factorial(5) ➞ 120\n",
    "factorial(3) ➞ 6\n",
    "factorial(1) ➞ 1\n",
    "factorial(0) ➞ 1\n",
    "\n"
   ]
  },
  {
   "cell_type": "code",
   "execution_count": 22,
   "id": "efa1ae5b",
   "metadata": {},
   "outputs": [
    {
     "name": "stdout",
     "output_type": "stream",
     "text": [
      "Enter the value of n: 5\n",
      "120\n"
     ]
    }
   ],
   "source": [
    "def fact(n):\n",
    "    if n==0 or n==1:\n",
    "        return 1\n",
    "    return n*fact(n-1)\n",
    "n = int(input(\"Enter the value of n: \"))\n",
    "print(fact(n))"
   ]
  },
  {
   "cell_type": "markdown",
   "id": "20552f63",
   "metadata": {},
   "source": [
    "Question 5\n",
    "Hamming distance is the number of characters that differ between two strings.\n",
    "To illustrate:\n",
    "String1: &quot;abcbba&quot;\n",
    "String2: &quot;abcbda&quot;\n",
    "Hamming Distance: 1 - &quot;b&quot; vs. &quot;d&quot; is the only difference.\n",
    "Create a function that computes the hamming distance between two strings.\n",
    "Examples\n",
    "hamming_distance(&quot;abcde&quot;, &quot;bcdef&quot;) ➞ 5\n",
    "hamming_distance(&quot;abcde&quot;, &quot;abcde&quot;) ➞ 0"
   ]
  },
  {
   "cell_type": "code",
   "execution_count": 34,
   "id": "fdfda0cb",
   "metadata": {},
   "outputs": [
    {
     "name": "stdout",
     "output_type": "stream",
     "text": [
      "Enter the string1: strong\n",
      "Enter the string2 :strung\n",
      "1\n"
     ]
    }
   ],
   "source": [
    "def hamming_distance(string,string1):\n",
    "    if(len(string)==len(string1)):\n",
    "        count = 0\n",
    "        for i in range(len(string)):\n",
    "            if string[i] != string1[i]:\n",
    "                count=count+1\n",
    "                \n",
    "        print(count)\n",
    "    else:\n",
    "        print('same length')\n",
    "string =input('Enter the string1: ')\n",
    "string1 = input('Enter the string2 :')\n",
    "hamming_distance(string,string1)"
   ]
  },
  {
   "cell_type": "code",
   "execution_count": null,
   "id": "697be592",
   "metadata": {},
   "outputs": [],
   "source": []
  }
 ],
 "metadata": {
  "kernelspec": {
   "display_name": "Python 3 (ipykernel)",
   "language": "python",
   "name": "python3"
  },
  "language_info": {
   "codemirror_mode": {
    "name": "ipython",
    "version": 3
   },
   "file_extension": ".py",
   "mimetype": "text/x-python",
   "name": "python",
   "nbconvert_exporter": "python",
   "pygments_lexer": "ipython3",
   "version": "3.9.7"
  }
 },
 "nbformat": 4,
 "nbformat_minor": 5
}
