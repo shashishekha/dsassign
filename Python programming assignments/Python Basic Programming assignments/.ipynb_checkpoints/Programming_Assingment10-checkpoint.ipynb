{
 "cells": [
  {
   "cell_type": "markdown",
   "id": "fca8d72f",
   "metadata": {},
   "source": [
    "### 1.Write a Python program to find sum of elements in list?\n",
    "\n"
   ]
  },
  {
   "cell_type": "code",
   "execution_count": 2,
   "id": "285cf8c0",
   "metadata": {},
   "outputs": [
    {
     "name": "stdout",
     "output_type": "stream",
     "text": [
      "Enter size of list:3\n",
      "2\n",
      "54\n",
      "5\n",
      "61\n"
     ]
    }
   ],
   "source": [
    "n = int(input('Enter size of list:'))\n",
    "lst=[]\n",
    "for i in range(n):\n",
    "    ele = int(input())\n",
    "    lst.append(ele)\n",
    "print(sum(lst))"
   ]
  },
  {
   "cell_type": "markdown",
   "id": "7772af67",
   "metadata": {},
   "source": [
    "### 2.Write a Python program to  Multiply all numbers in the list?\n"
   ]
  },
  {
   "cell_type": "code",
   "execution_count": 7,
   "id": "d7cc81df",
   "metadata": {},
   "outputs": [
    {
     "name": "stdout",
     "output_type": "stream",
     "text": [
      "Enter size of list:4\n",
      "3\n",
      "4\n",
      "5\n",
      "4\n",
      "240\n",
      "240\n"
     ]
    }
   ],
   "source": [
    "import numpy as np\n",
    "n = int(input('Enter size of list:'))\n",
    "lst=[]\n",
    "mul = 1\n",
    "for i in range(n):\n",
    "    ele = int(input())\n",
    "    lst.append(ele)\n",
    "print(np.prod(lst))\n",
    "#another way\n",
    "for element in lst:\n",
    "    mul = mul*element\n",
    "print(mul)"
   ]
  },
  {
   "cell_type": "markdown",
   "id": "024bc305",
   "metadata": {},
   "source": [
    "### 3.Write a Python program to find smallest number in a list?\n"
   ]
  },
  {
   "cell_type": "code",
   "execution_count": 10,
   "id": "457881bf",
   "metadata": {},
   "outputs": [
    {
     "name": "stdout",
     "output_type": "stream",
     "text": [
      "Enter size of list:3\n",
      "3333\n",
      "444\n",
      "66666\n",
      "444\n"
     ]
    }
   ],
   "source": [
    "n = int(input('Enter size of list:'))\n",
    "lst=[]\n",
    "for i in range(n):\n",
    "    ele = int(input())\n",
    "    lst.append(ele)\n",
    "print(min(lst))"
   ]
  },
  {
   "cell_type": "markdown",
   "id": "8ea5008b",
   "metadata": {},
   "source": [
    "### 4.Write a Python program to find largest number in a list?\n"
   ]
  },
  {
   "cell_type": "code",
   "execution_count": 11,
   "id": "8d6f9506",
   "metadata": {},
   "outputs": [
    {
     "name": "stdout",
     "output_type": "stream",
     "text": [
      "Enter size of list:3\n",
      "222\n",
      "33\n",
      "4\n",
      "222\n"
     ]
    }
   ],
   "source": [
    "n = int(input('Enter size of list:'))\n",
    "lst=[]\n",
    "for i in range(n):\n",
    "    ele = int(input())\n",
    "    lst.append(ele)\n",
    "print(max(lst))"
   ]
  },
  {
   "cell_type": "markdown",
   "id": "78ba390d",
   "metadata": {},
   "source": [
    "### 5.Write a Python program to find second largest number in a list?\n"
   ]
  },
  {
   "cell_type": "code",
   "execution_count": 18,
   "id": "f16bb79d",
   "metadata": {},
   "outputs": [
    {
     "name": "stdout",
     "output_type": "stream",
     "text": [
      "Enter size of list:3\n",
      "3\n",
      "10\n",
      "9\n",
      "9\n"
     ]
    }
   ],
   "source": [
    "n = int(input('Enter size of list:'))\n",
    "lst=[]\n",
    "for i in range(n):\n",
    "    ele = int(input())\n",
    "    lst.append(ele)\n",
    "lst.sort()\n",
    "print(lst[-2])"
   ]
  },
  {
   "cell_type": "markdown",
   "id": "f2276d64",
   "metadata": {},
   "source": [
    "### 6.Write a Python program to find N largest elements from a list?\n"
   ]
  },
  {
   "cell_type": "code",
   "execution_count": 19,
   "id": "1deb5597",
   "metadata": {},
   "outputs": [
    {
     "name": "stdout",
     "output_type": "stream",
     "text": [
      "Enter size of list:4\n",
      "Enter the location: 2\n",
      "2\n",
      "3\n",
      "9\n",
      "45\n",
      "9\n"
     ]
    }
   ],
   "source": [
    "n = int(input('Enter size of list:'))\n",
    "N =int(input('Enter the location of element: '))\n",
    "lst=[]\n",
    "for i in range(n):\n",
    "    ele = int(input())\n",
    "    lst.append(ele)\n",
    "lst.sort()\n",
    "print(lst[-N])"
   ]
  },
  {
   "cell_type": "markdown",
   "id": "a4a128bc",
   "metadata": {},
   "source": [
    "### 7.Write a Python program to print even numbers in a list?\n"
   ]
  },
  {
   "cell_type": "code",
   "execution_count": 20,
   "id": "05dd6c8c",
   "metadata": {},
   "outputs": [
    {
     "name": "stdout",
     "output_type": "stream",
     "text": [
      "Enter size of list:5\n",
      "4\n",
      "3\n",
      "5\n",
      "6\n",
      "7\n",
      "4\n",
      "6\n"
     ]
    }
   ],
   "source": [
    "n = int(input('Enter size of list:'))\n",
    "lst=[]\n",
    "for i in range(n):\n",
    "    ele = int(input())\n",
    "    lst.append(ele)\n",
    "for i in lst:\n",
    "    if i%2 == 0:\n",
    "        print(i)\n",
    "    "
   ]
  },
  {
   "cell_type": "markdown",
   "id": "f0e3b2ca",
   "metadata": {},
   "source": [
    "### 8.Write a Python program to print odd numbers in a List?\n"
   ]
  },
  {
   "cell_type": "code",
   "execution_count": 21,
   "id": "5c0083b2",
   "metadata": {},
   "outputs": [
    {
     "name": "stdout",
     "output_type": "stream",
     "text": [
      "Enter size of list:4\n",
      "3\n",
      "4\n",
      "5\n",
      "6\n",
      "3\n",
      "5\n"
     ]
    }
   ],
   "source": [
    "n = int(input('Enter size of list:'))\n",
    "lst=[]\n",
    "for i in range(n):\n",
    "    ele = int(input())\n",
    "    lst.append(ele)\n",
    "for i in lst:\n",
    "    if i%2 != 0:\n",
    "        print(i)"
   ]
  },
  {
   "cell_type": "markdown",
   "id": "d6cb692a",
   "metadata": {},
   "source": [
    "### 9.Write a Python program to Remove empty List from List?\n"
   ]
  },
  {
   "cell_type": "code",
   "execution_count": 29,
   "id": "28327bd6",
   "metadata": {},
   "outputs": [
    {
     "data": {
      "text/plain": [
       "[1, 2, 3, 5, 4]"
      ]
     },
     "execution_count": 29,
     "metadata": {},
     "output_type": "execute_result"
    }
   ],
   "source": [
    "lst=[1,2,[],3,5,[],4,[]]\n",
    "res=[ele for ele in lst if ele!=[]]\n",
    "res"
   ]
  },
  {
   "cell_type": "markdown",
   "id": "09a39585",
   "metadata": {},
   "source": [
    "### 10.Write a Python program to Cloning or Copying a list?\n"
   ]
  },
  {
   "cell_type": "code",
   "execution_count": 27,
   "id": "4fc9e59d",
   "metadata": {},
   "outputs": [
    {
     "name": "stdout",
     "output_type": "stream",
     "text": [
      "[9, 4, 5, 6, 4, 3, 4]\n",
      "[9, 4, 5, 6, 4, 3, 4]\n"
     ]
    }
   ],
   "source": [
    "def copying(lst):\n",
    "    newlst = lst[:]\n",
    "    return newlst\n",
    "lst=[9,4,5,6,4,3,4]\n",
    "lst2=copying(lst)\n",
    "print(lst)\n",
    "print(lst2)"
   ]
  },
  {
   "cell_type": "markdown",
   "id": "3166cf4e",
   "metadata": {},
   "source": [
    "### 11.Write a Python program to Count occurrences of an element in a list?"
   ]
  },
  {
   "cell_type": "code",
   "execution_count": 24,
   "id": "ea57e5a1",
   "metadata": {},
   "outputs": [
    {
     "name": "stdout",
     "output_type": "stream",
     "text": [
      "Enter size of list:4\n",
      "3\n",
      "4\n",
      "3\n",
      "2\n",
      "3 2\n",
      "4 1\n",
      "3 2\n",
      "2 1\n"
     ]
    }
   ],
   "source": [
    "n = int(input('Enter size of list:'))\n",
    "lst=[]\n",
    "for i in range(n):\n",
    "    ele = int(input())\n",
    "    lst.append(ele)\n",
    "for i in lst:\n",
    "    print(i,lst.count(i))\n",
    "  "
   ]
  },
  {
   "cell_type": "code",
   "execution_count": null,
   "id": "81aaebdb",
   "metadata": {},
   "outputs": [],
   "source": []
  }
 ],
 "metadata": {
  "kernelspec": {
   "display_name": "Python 3 (ipykernel)",
   "language": "python",
   "name": "python3"
  },
  "language_info": {
   "codemirror_mode": {
    "name": "ipython",
    "version": 3
   },
   "file_extension": ".py",
   "mimetype": "text/x-python",
   "name": "python",
   "nbconvert_exporter": "python",
   "pygments_lexer": "ipython3",
   "version": "3.9.7"
  }
 },
 "nbformat": 4,
 "nbformat_minor": 5
}
