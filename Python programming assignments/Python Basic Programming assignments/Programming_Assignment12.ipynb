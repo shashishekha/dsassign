{
 "cells": [
  {
   "cell_type": "markdown",
   "id": "8074ead8",
   "metadata": {},
   "source": [
    "### 1.Write a Python program to Extract Unique values dictionary values?\n"
   ]
  },
  {
   "cell_type": "code",
   "execution_count": 5,
   "id": "0eeb1c40",
   "metadata": {},
   "outputs": [
    {
     "name": "stdout",
     "output_type": "stream",
     "text": [
      "dict_values([4, 3, 3, 5, 4])\n",
      "unique values are :[3, 4, 5]\n"
     ]
    }
   ],
   "source": [
    "dict1 = {\"1\" : 4, \"2\":3, \"3\":3, \"4\":5, \"5\":4}\n",
    "print(dict1.values())\n",
    "print(f'unique values are :{list(set(dict1.values()))}')\n",
    "\n",
    "    "
   ]
  },
  {
   "cell_type": "markdown",
   "id": "3000ee3a",
   "metadata": {},
   "source": [
    "### 2.Write a Python program to find the sum of all items in a dictionary?\n",
    "\n"
   ]
  },
  {
   "cell_type": "code",
   "execution_count": 7,
   "id": "ddb0c874",
   "metadata": {},
   "outputs": [
    {
     "name": "stdout",
     "output_type": "stream",
     "text": [
      "dict_values([10, 5, 3, 3, 2])\n",
      "sum of items : 23\n"
     ]
    }
   ],
   "source": [
    "dict1 = {'litti':10, 'bhature':5, 'chicken kadhai':3, 'dosa': 3, 'chowmin': 2}\n",
    "print(dict1.values())\n",
    "print(f'sum of items : {sum(dict1.values())}')"
   ]
  },
  {
   "cell_type": "markdown",
   "id": "79761c87",
   "metadata": {},
   "source": [
    "### 3.Write a Python program to Merging two Dictionaries?\n"
   ]
  },
  {
   "cell_type": "code",
   "execution_count": 8,
   "id": "8d6b01a7",
   "metadata": {},
   "outputs": [
    {
     "name": "stdout",
     "output_type": "stream",
     "text": [
      "{'orange': 2, 'banana': 4, 'apple': 3, 'coconut': 2, 'guava': 4}\n"
     ]
    }
   ],
   "source": [
    "fruit1 ={\"orange\":2, \"banana\":4, \"apple\": 3}\n",
    "fruit2 ={\"coconut\": 2, \"guava\": 4}\n",
    "\n",
    "fruit1.update(fruit2)\n",
    "print(fruit1)"
   ]
  },
  {
   "cell_type": "markdown",
   "id": "c3942a93",
   "metadata": {},
   "source": [
    "### 4.Write a Python program to convert key-values list to flat dictionary?\n"
   ]
  },
  {
   "cell_type": "code",
   "execution_count": 9,
   "id": "91ff67b3",
   "metadata": {},
   "outputs": [
    {
     "data": {
      "text/plain": [
       "{'colleges': 10, 'students': 200, 'staffs': 4, 'books': 30}"
      ]
     },
     "execution_count": 9,
     "metadata": {},
     "output_type": "execute_result"
    }
   ],
   "source": [
    "list1 = [('colleges', 10), ('students', 200), ('staffs', 4), ('books',30)]\n",
    "dict(list1)"
   ]
  },
  {
   "cell_type": "code",
   "execution_count": 13,
   "id": "af7ae7e7",
   "metadata": {},
   "outputs": [
    {
     "name": "stdout",
     "output_type": "stream",
     "text": [
      "{'colleges': 10, 'students': 200, 'staffs': 4, 'books': 30}\n"
     ]
    }
   ],
   "source": [
    "dict2 = {}\n",
    "for ele in list1:\n",
    "    dict2[ele[0]] = ele[1]\n",
    "print(dict2)"
   ]
  },
  {
   "cell_type": "markdown",
   "id": "30eb773a",
   "metadata": {},
   "source": [
    "### 5.Write a Python program to insertion at the beginning in OrderedDict?\n"
   ]
  },
  {
   "cell_type": "code",
   "execution_count": 14,
   "id": "370abb17",
   "metadata": {},
   "outputs": [
    {
     "name": "stdout",
     "output_type": "stream",
     "text": [
      "dict1 OrderedDict([('Non-veg', 'chicken'), ('fruit', 'apple'), ('vegetable', 'potato'), ('fish', 'rohu')])\n"
     ]
    }
   ],
   "source": [
    "from collections import OrderedDict\n",
    "dict1 = OrderedDict({'fruit':'apple','vegetable':'potato','fish':'rohu'})\n",
    "dict2 = {'Non-veg':'chicken'}\n",
    "dict1.update(dict2)\n",
    "dict1.move_to_end('Non-veg',last = False)\n",
    "print('dict1',dict1)"
   ]
  },
  {
   "cell_type": "markdown",
   "id": "d638a02a",
   "metadata": {},
   "source": [
    "### 6.Write a Python program to check order of character in string using OrderedDict()?\n"
   ]
  },
  {
   "cell_type": "code",
   "execution_count": 16,
   "id": "3f2c24f6",
   "metadata": {},
   "outputs": [
    {
     "name": "stdout",
     "output_type": "stream",
     "text": [
      "OrderedDict([('a', 1), ('b', 2), ('c', 3), ('d', 4)])\n"
     ]
    }
   ],
   "source": [
    "from collections import OrderedDict\n",
    "li = {'a': 1, 'b':2, 'c':3, 'd':4}\n",
    "li1 =OrderedDict(dict(sorted(li.items())))\n",
    "print(li1)"
   ]
  },
  {
   "cell_type": "markdown",
   "id": "84980802",
   "metadata": {},
   "source": [
    "### 7.Write a Python program to sort Python Dictionaries by Key or Value?"
   ]
  },
  {
   "cell_type": "code",
   "execution_count": 19,
   "id": "cd056369",
   "metadata": {},
   "outputs": [
    {
     "name": "stdout",
     "output_type": "stream",
     "text": [
      "{'a': 1, 'b': 200, 'c': 10, 'd': 300}\n",
      "{'a': 1, 'c': 10, 'b': 200, 'd': 300}\n"
     ]
    }
   ],
   "source": [
    "dict1= {'a':1, 'b':200, 'c':10, 'd':300}\n",
    "\n",
    "def sorting(dict1,keyorvalue):\n",
    "    if keyorvalue == 'key':\n",
    "        print(dict(sorted(dict1.items(), key=lambda y:y[0], reverse=False)))\n",
    "    else :\n",
    "        print(dict(sorted(dict1.items(), key= lambda y:y[1], reverse = False)))\n",
    "\n",
    "sorting(dict1,'key')\n",
    "sorting(dict1,'value')"
   ]
  },
  {
   "cell_type": "code",
   "execution_count": null,
   "id": "5a2fe6a2",
   "metadata": {},
   "outputs": [],
   "source": []
  }
 ],
 "metadata": {
  "kernelspec": {
   "display_name": "Python 3 (ipykernel)",
   "language": "python",
   "name": "python3"
  },
  "language_info": {
   "codemirror_mode": {
    "name": "ipython",
    "version": 3
   },
   "file_extension": ".py",
   "mimetype": "text/x-python",
   "name": "python",
   "nbconvert_exporter": "python",
   "pygments_lexer": "ipython3",
   "version": "3.9.7"
  }
 },
 "nbformat": 4,
 "nbformat_minor": 5
}
