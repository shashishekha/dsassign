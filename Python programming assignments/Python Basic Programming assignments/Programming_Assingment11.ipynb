{
 "cells": [
  {
   "cell_type": "markdown",
   "id": "2f102a0c",
   "metadata": {},
   "source": [
    "### 1.Write a Python program to find words which are greater than given length k?\n"
   ]
  },
  {
   "cell_type": "code",
   "execution_count": 2,
   "id": "d1da2685",
   "metadata": {},
   "outputs": [
    {
     "name": "stdout",
     "output_type": "stream",
     "text": [
      "Enter the size of the word:5\n",
      "shashi\n",
      "shekhar\n"
     ]
    }
   ],
   "source": [
    "str='My name is shashi shekhar .'\n",
    "k = int(input(\"Enter the size of the word:\"))\n",
    "m = str.split()\n",
    "for i in m:\n",
    "    if len(i)>k:\n",
    "        print(i)"
   ]
  },
  {
   "cell_type": "markdown",
   "id": "83fba81e",
   "metadata": {},
   "source": [
    "### 2.Write a Python program for removing i-th character from a string?\n",
    "\n"
   ]
  },
  {
   "cell_type": "code",
   "execution_count": 19,
   "id": "f724e8cb",
   "metadata": {},
   "outputs": [
    {
     "name": "stdout",
     "output_type": "stream",
     "text": [
      "Enter the character position to be removed.5\n",
      "Enter the string:my name is shashi shekhar.\n",
      "my nae is shashi shekhar.\n"
     ]
    }
   ],
   "source": [
    "n = int(input(\"Enter the character position to be removed.\"))\n",
    "str=input(\"Enter the string:\")\n",
    "str1=\"\"\n",
    "for i in range(len(str)):\n",
    "    if i==n:\n",
    "        continue\n",
    "    else:\n",
    "        str1 = str1+str[i]\n",
    "print(str1)"
   ]
  },
  {
   "cell_type": "markdown",
   "id": "30487588",
   "metadata": {},
   "source": [
    "### 3.Write a Python program to split and join a string?\n"
   ]
  },
  {
   "cell_type": "code",
   "execution_count": 25,
   "id": "68c17f92",
   "metadata": {},
   "outputs": [
    {
     "name": "stdout",
     "output_type": "stream",
     "text": [
      "Enter the string:my name is shashi\n",
      "['my', 'name', 'is', 'shashi']\n",
      "my-name-is-shashi\n"
     ]
    }
   ],
   "source": [
    "str= input(\"Enter the string:\")\n",
    "str2 = str.split(' ')\n",
    "print(str2)\n",
    "\n",
    "str = \"-\".join(str2)\n",
    "print(str)\n"
   ]
  },
  {
   "cell_type": "markdown",
   "id": "72027f6d",
   "metadata": {},
   "source": [
    "### 4.Write a Python to check if a given string is binary string or not?\n"
   ]
  },
  {
   "cell_type": "code",
   "execution_count": 31,
   "id": "2f10f7c9",
   "metadata": {},
   "outputs": [
    {
     "name": "stdout",
     "output_type": "stream",
     "text": [
      "Enter the string: 10000101\n",
      "The string is binary string\n"
     ]
    }
   ],
   "source": [
    "def checkBinary(str):\n",
    "    for i in str:\n",
    "        if i=='0' or i=='1':\n",
    "            return \"binary\"\n",
    "        else:\n",
    "            return \"Not binary\"\n",
    "str=input(\"Enter the string: \")\n",
    "print(f'The string is {checkBinary(str)} string')"
   ]
  },
  {
   "cell_type": "markdown",
   "id": "a949691f",
   "metadata": {},
   "source": [
    "### 5.Write a Python program to find uncommon words from two Strings?\n"
   ]
  },
  {
   "cell_type": "code",
   "execution_count": 35,
   "id": "0c00956d",
   "metadata": {},
   "outputs": [
    {
     "name": "stdout",
     "output_type": "stream",
     "text": [
      "Enter string1: my name is shashi shekhar\n",
      "Enter string2: shashi is a good boy\n",
      "['boy', 'good', 'a', 'shekhar', 'my', 'name']\n"
     ]
    }
   ],
   "source": [
    "def uncommon(str1,str2):\n",
    "    str1 = str1.split()\n",
    "    str2 = str2.split()\n",
    "    k = set(str1).symmetric_difference(set(str2))\n",
    "    return k\n",
    "str1=input(\"Enter string1: \")\n",
    "str2=input(\"Enter string2: \")\n",
    "\n",
    "print(list(uncommon(str1,str2)))\n",
    "    "
   ]
  },
  {
   "cell_type": "markdown",
   "id": "af0be6ad",
   "metadata": {},
   "source": [
    "### 6.Write a Python to find all duplicate characters in string?\n"
   ]
  },
  {
   "cell_type": "code",
   "execution_count": 51,
   "id": "d795744b",
   "metadata": {},
   "outputs": [
    {
     "name": "stdout",
     "output_type": "stream",
     "text": [
      "Enter the string: my me is ess\n",
      "m   e s\n"
     ]
    }
   ],
   "source": [
    "str = input(\"Enter the string: \")\n",
    "dupli=[]\n",
    "for char in str:\n",
    "    if str.count(char)>1:\n",
    "        if char not in dupli:\n",
    "            dupli.append(char)\n",
    "print(*dupli)"
   ]
  },
  {
   "cell_type": "markdown",
   "id": "ac53fa78",
   "metadata": {},
   "source": [
    "### 7.Write a Python Program to check if a string contains any special character?"
   ]
  },
  {
   "cell_type": "code",
   "execution_count": 56,
   "id": "5ed83dcb",
   "metadata": {},
   "outputs": [
    {
     "name": "stdout",
     "output_type": "stream",
     "text": [
      "my@name#shashi%shekhar&&\n",
      "Yes\n"
     ]
    }
   ],
   "source": [
    "spchar = '!@#$%^&*()-+?_=,<>/'\n",
    "str = input()\n",
    "if any(char in spchar for char in str):\n",
    "    print(\"Yes\")\n",
    "else:\n",
    "    print(\"No\")"
   ]
  },
  {
   "cell_type": "code",
   "execution_count": null,
   "id": "fbf01e6e",
   "metadata": {},
   "outputs": [],
   "source": []
  }
 ],
 "metadata": {
  "kernelspec": {
   "display_name": "Python 3 (ipykernel)",
   "language": "python",
   "name": "python3"
  },
  "language_info": {
   "codemirror_mode": {
    "name": "ipython",
    "version": 3
   },
   "file_extension": ".py",
   "mimetype": "text/x-python",
   "name": "python",
   "nbconvert_exporter": "python",
   "pygments_lexer": "ipython3",
   "version": "3.9.7"
  }
 },
 "nbformat": 4,
 "nbformat_minor": 5
}
