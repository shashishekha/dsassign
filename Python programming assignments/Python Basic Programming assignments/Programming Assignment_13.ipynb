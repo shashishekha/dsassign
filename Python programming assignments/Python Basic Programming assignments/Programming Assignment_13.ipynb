{
 "cells": [
  {
   "cell_type": "markdown",
   "id": "2a4a75b1",
   "metadata": {},
   "source": [
    "### Question 1:\n",
    "### Write a program that calculates and prints the value according to the given formula:\n",
    "Q = Square root of [(2 * C * D)/H]\n",
    "Following are the fixed values of C and H:\n",
    "C is 50. H is 30.\n",
    "D is the variable whose values should be input to your program in a comma-separated sequence.\n",
    "\n",
    "### Example\n",
    " Let us assume the following comma separated input sequence is given to the program:\n",
    "100,150,180\n",
    "The output of the program should be:\n",
    "18,22,24\n"
   ]
  },
  {
   "cell_type": "code",
   "execution_count": 7,
   "id": "e568e7a6",
   "metadata": {},
   "outputs": [
    {
     "name": "stdout",
     "output_type": "stream",
     "text": [
      "Enter : 100,150,180\n",
      "Output: 18,22,24 \n"
     ]
    }
   ],
   "source": [
    "from math import sqrt\n",
    "def calc():\n",
    "    lst = []\n",
    "    C = 50\n",
    "    H=30\n",
    "    D = eval(input(\"Enter : \"))\n",
    "    for ele in D:\n",
    "        Q = str(int(sqrt((2*C*ele)/H)))\n",
    "        lst.append(Q)\n",
    "    print(\"Output: {} \".format(','.join(lst)))\n",
    "calc()\n",
    "    \n",
    "    "
   ]
  },
  {
   "cell_type": "markdown",
   "id": "1db17158",
   "metadata": {},
   "source": [
    "\n",
    "### Question 2:\n",
    "### Write a program which takes 2 digits, X,Y as input and generates a 2-dimensional array. The element value in the i-th row and j-th column of the array should be i*j.\n",
    "Note: i=0,1.., X-1; j=0,1,¡Y-1.\n",
    "### Example\n",
    "Suppose the following inputs are given to the program:\n",
    "3,5\n",
    "Then, the output of the program should be:\n",
    "[[0, 0, 0, 0, 0], [0, 1, 2, 3, 4], [0, 2, 4, 6, 8]] \n",
    "\n",
    "\n",
    "\n",
    "\n"
   ]
  },
  {
   "cell_type": "code",
   "execution_count": 11,
   "id": "1ce50b75",
   "metadata": {},
   "outputs": [
    {
     "name": "stdout",
     "output_type": "stream",
     "text": [
      "Enter the number of rows :3\n",
      "Enter the number of columns : 5\n",
      "[[0, 0, 0, 0, 0], [0, 1, 2, 3, 4], [0, 2, 4, 6, 8]]\n"
     ]
    }
   ],
   "source": [
    "import array as arr\n",
    "def genArr():\n",
    "    x = int(input(\"Enter the number of rows :\"))\n",
    "    y = int(input(\"Enter the number of columns : \"))\n",
    "    lst = []\n",
    "    for ele in range(x):\n",
    "        lst.insert(x,[])\n",
    "        for i in range(y):\n",
    "            lst[ele].append(ele*i)\n",
    "    print(lst)\n",
    "genArr()"
   ]
  },
  {
   "cell_type": "markdown",
   "id": "2ccaa305",
   "metadata": {},
   "source": [
    "### Question 3:\n",
    "### Write a program that accepts a comma separated sequence of words as input and prints the words in a comma-separated sequence after sorting them alphabetically.\n",
    "Suppose the following input is supplied to the program:\n",
    "without,hello,bag,world\n",
    "Then, the output should be:\n",
    "bag,hello,without,world\n",
    "\n",
    "\n",
    "\n"
   ]
  },
  {
   "cell_type": "code",
   "execution_count": 15,
   "id": "8f3b9b2c",
   "metadata": {},
   "outputs": [
    {
     "name": "stdout",
     "output_type": "stream",
     "text": [
      "Enter the string : this,is,really,good,i,should,have,it\n",
      "good,have,i,is,it,really,should,this\n"
     ]
    }
   ],
   "source": [
    "def sortt():\n",
    "    string = input(\"Enter the string : \")\n",
    "    string1 = ','.join(sorted(string.split(',')))\n",
    "    print(string1)\n",
    "sortt()"
   ]
  },
  {
   "cell_type": "markdown",
   "id": "d9847f36",
   "metadata": {},
   "source": [
    "### Question 4:\n",
    "### Write a program that accepts a sequence of whitespace separated words as input and prints the words after removing all duplicate words and sorting them alphanumerically.\n",
    "\n",
    "Suppose the following input is supplied to the program:\n",
    "hello world and practice makes perfect and hello world again\n",
    "Then, the output should be:\n",
    "again and hello makes perfect practice world\n",
    "\n"
   ]
  },
  {
   "cell_type": "code",
   "execution_count": 17,
   "id": "70fadd7b",
   "metadata": {},
   "outputs": [
    {
     "name": "stdout",
     "output_type": "stream",
     "text": [
      "Enter the string: my my name is shashi shekhar shekhar\n",
      "is my name shashi shekhar\n"
     ]
    }
   ],
   "source": [
    "def sortAlpha():\n",
    "    string = input('Enter the string: ')\n",
    "    string1 = ' '.join(sorted(set(string.split(' '))))\n",
    "    print(string1)\n",
    "sortAlpha()"
   ]
  },
  {
   "cell_type": "markdown",
   "id": "b536e3fb",
   "metadata": {},
   "source": [
    "### Question 5:\n",
    "### Write a program that accepts a sentence and calculate the number of letters and digits.\n",
    "Suppose the following input is supplied to the program:\n",
    "hello world! 123\n",
    "Then, the output should be:\n",
    "LETTERS 10\n",
    "DIGITS 3\n",
    "\n"
   ]
  },
  {
   "cell_type": "code",
   "execution_count": 18,
   "id": "432552ea",
   "metadata": {},
   "outputs": [
    {
     "name": "stdout",
     "output_type": "stream",
     "text": [
      "Enter the string : my123shashi\n",
      "LETTERS8 DIGITS3\n"
     ]
    }
   ],
   "source": [
    "def countLandD():\n",
    "    string = input(\"Enter the string : \")\n",
    "    letters = 'ABCDEFGHIJKLMNOPQRSTUVWXYZabcdefghijklmnopqrstuvwxyz'\n",
    "    digits = '0123456789'\n",
    "    lettercount =0\n",
    "    digitcount =0\n",
    "    for ch in string:\n",
    "        if ch in letters:\n",
    "            lettercount +=1\n",
    "        if ch in digits:\n",
    "            digitcount +=1\n",
    "    print(f'LETTERS{lettercount} DIGITS{digitcount}')\n",
    "countLandD()            "
   ]
  },
  {
   "cell_type": "markdown",
   "id": "77d4c420",
   "metadata": {},
   "source": [
    "### Question 6:\n",
    "### A website requires the users to input username and password to register. Write a program to check the validity of password input by users.\n",
    "Following are the criteria for checking the password:\n",
    "1. At least 1 letter between [a-z]\n",
    "2. At least 1 number between [0-9]\n",
    "1. At least 1 letter between [A-Z]3. At least 1 character from [$#@]\n",
    "4. Minimum length of transaction password: 6\n",
    "5. Maximum length of transaction password: 12\n",
    "\n",
    "Your program should accept a sequence of comma separated passwords and will check them according to the above criteria. Passwords that match the criteria are to be printed, each separated by a comma.\n",
    "Example\n",
    "If the following passwords are given as input to the program:\n",
    "ABd1234@1,a F1#,2w3E*,2We3345\n",
    "Then, the output of the program should be:\n",
    "ABd1234@1\n"
   ]
  },
  {
   "cell_type": "code",
   "execution_count": 23,
   "id": "77df1d9b",
   "metadata": {},
   "outputs": [
    {
     "name": "stdout",
     "output_type": "stream",
     "text": [
      "Enter the string : ABd1234@1,a F1#,2w3E*,2We3345\n",
      "ABd1234@1\n"
     ]
    }
   ],
   "source": [
    "def passs():\n",
    "    string = input('Enter the string : ')\n",
    "    smallalpha = 'abcdefghijklmnopqrstuvwxyz'\n",
    "    num ='0123456789'\n",
    "    capalpha ='ABCDEFGHIJKLMNOPQRSTUVWXYZ'\n",
    "    special = '$#@'\n",
    "    for ch in string.split(','):\n",
    "        if len(ch)<=12 and len(ch)>=6:\n",
    "            if any(i.isupper() for i in ch):+\n",
    "                if any(i.islower() for i in ch):\n",
    "                    if any(i for i in ch if i in special):\n",
    "                        print(ch)\n",
    "passs()"
   ]
  },
  {
   "cell_type": "code",
   "execution_count": null,
   "id": "e13dabe7",
   "metadata": {},
   "outputs": [],
   "source": []
  }
 ],
 "metadata": {
  "kernelspec": {
   "display_name": "Python 3 (ipykernel)",
   "language": "python",
   "name": "python3"
  },
  "language_info": {
   "codemirror_mode": {
    "name": "ipython",
    "version": 3
   },
   "file_extension": ".py",
   "mimetype": "text/x-python",
   "name": "python",
   "nbconvert_exporter": "python",
   "pygments_lexer": "ipython3",
   "version": "3.9.7"
  }
 },
 "nbformat": 4,
 "nbformat_minor": 5
}
