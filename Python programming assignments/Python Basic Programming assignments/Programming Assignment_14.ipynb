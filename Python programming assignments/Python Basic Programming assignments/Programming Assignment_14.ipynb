{
 "cells": [
  {
   "cell_type": "markdown",
   "id": "a1ee1e47",
   "metadata": {},
   "source": [
    "### Question 1:\n",
    "### Define a class with a generator which can iterate the numbers, which are divisible by 7, between a given range 0 and n.\n",
    "\n"
   ]
  },
  {
   "cell_type": "code",
   "execution_count": 1,
   "id": "a09449f4",
   "metadata": {},
   "outputs": [
    {
     "name": "stdout",
     "output_type": "stream",
     "text": [
      "0\n",
      "7\n",
      "14\n",
      "21\n",
      "28\n",
      "35\n",
      "42\n",
      "49\n",
      "56\n",
      "63\n",
      "70\n"
     ]
    }
   ],
   "source": [
    "class divgen:\n",
    "    def __init__(self,num):\n",
    "        self.num = num\n",
    "    def findnum(self):\n",
    "        for i in range(self.num+1):\n",
    "            if i%7==0:\n",
    "                yield i\n",
    "\n",
    "getout = divgen(70)\n",
    "for i in getout.findnum():\n",
    "    print(i)\n",
    "            \n",
    "        "
   ]
  },
  {
   "cell_type": "markdown",
   "id": "eb9b1f2e",
   "metadata": {},
   "source": [
    "### Question 2:\n",
    "### Write a program to compute the frequency of the words from the input. The output should output after sorting the key alphanumerically. \n",
    "Suppose the following input is supplied to the program:\n",
    "New to Python or choosing between Python 2 and Python 3? Read Python 2 or Python 3.\n",
    "\n",
    "Then, the output should be:\n",
    "\n",
    "2:2\n",
    "\n",
    "3.:1\n",
    "\n",
    "3?:1\n",
    "\n",
    "New:1\n",
    "\n",
    "Python:5\n",
    "\n",
    "Read:1\n",
    "\n",
    "and:1\n",
    "\n",
    "between:1\n",
    "\n",
    "choosing:1\n",
    "\n",
    "or:2\n",
    "\n",
    "to:1\n",
    "\n"
   ]
  },
  {
   "cell_type": "code",
   "execution_count": 8,
   "id": "f4d66858",
   "metadata": {},
   "outputs": [
    {
     "name": "stdout",
     "output_type": "stream",
     "text": [
      "Enter the Input as String:  New to Python or choosing between Python 2 and Python 3? Read Python 2 or Python 3.\n",
      ":1 2:2 3.:1 3?:1 New:1 Python:5 Read:1 and:1 between:1 choosing:1 or:2 to:1 "
     ]
    }
   ],
   "source": [
    "def checkTheFrequency():\n",
    "    str1 = input(\"Enter the Input as String: \")\n",
    "    arr ={}\n",
    "    for i in str1.split(\" \"):\n",
    "        if(arr.get(i) == None):\n",
    "            arr[i] = 1\n",
    "        else:\n",
    "            arr[i]=arr[i]+1\n",
    "    for i in sorted(arr):\n",
    "        print(f'{i}:{arr[i]}',end=\" \")\n",
    "checkTheFrequency()"
   ]
  },
  {
   "cell_type": "markdown",
   "id": "14ecd1cb",
   "metadata": {},
   "source": [
    "### Question 3:\n",
    "### Define a class Person and its two child classes: Male and Female. All classes have a method \"getGender\" which can print \"Male\" for Male class and \"Female\" for Female class.\n",
    "\n"
   ]
  },
  {
   "cell_type": "code",
   "execution_count": 2,
   "id": "7b6061d1",
   "metadata": {},
   "outputs": [
    {
     "name": "stdout",
     "output_type": "stream",
     "text": [
      "Male\n",
      "Female\n"
     ]
    }
   ],
   "source": [
    "class Person:\n",
    "    def getGender():\n",
    "        pass\n",
    "class Male(Person):\n",
    "    def getGender():\n",
    "            print(\"Male\")\n",
    "class Female(Person):\n",
    "    def getGender():\n",
    "        print(\"Female\")\n",
    "        \n",
    "Male.getGender()\n",
    "Female.getGender()\n",
    "\n",
    "    "
   ]
  },
  {
   "cell_type": "markdown",
   "id": "457c01ec",
   "metadata": {},
   "source": [
    "### Question 4:\n",
    "### Please write a program to generate all sentences where subject is in [\"I\", \"You\"] and verb is in [\"Play\", \"Love\"] and the object is in [\"Hockey\",\"Football\"].\n",
    "\n",
    "\n"
   ]
  },
  {
   "cell_type": "code",
   "execution_count": 3,
   "id": "40302b59",
   "metadata": {},
   "outputs": [
    {
     "name": "stdout",
     "output_type": "stream",
     "text": [
      "I Play Hockey\n",
      "I Play Football\n",
      "I Love Hockey\n",
      "I Love Football\n",
      "You Play Hockey\n",
      "You Play Football\n",
      "You Love Hockey\n",
      "You Love Football\n"
     ]
    }
   ],
   "source": [
    "def generateTheSentence():\n",
    "    su = [\"I\", \"You\"]\n",
    "    ve = [\"Play\",\"Love\"]\n",
    "    ob = [\"Hockey\",\"Football\"]\n",
    "    \n",
    "    for s in su:\n",
    "        for v in ve:\n",
    "            for o in ob:\n",
    "                print(s,v,o)\n",
    "\n",
    "generateTheSentence()"
   ]
  },
  {
   "cell_type": "markdown",
   "id": "867d2b68",
   "metadata": {},
   "source": [
    "### Question 5:\n",
    "### Please write a program to compress and decompress the string \"hello world!hello world!hello world!hello world!\".\n",
    "\n"
   ]
  },
  {
   "cell_type": "code",
   "execution_count": 16,
   "id": "b7f8891c",
   "metadata": {},
   "outputs": [
    {
     "name": "stdout",
     "output_type": "stream",
     "text": [
      "hel2o world!hel2o world!hel2o world!hel2o world!\n",
      "hello world!hello world!hello world!hello world!\n"
     ]
    }
   ],
   "source": [
    "def comp(str1):\n",
    "    l = str1[0]\n",
    "    count = 1\n",
    "    for i in range(len(str1)-1):\n",
    "        if str1[i] == str1[i+1]:\n",
    "            count = count+1\n",
    "        else:\n",
    "            if count>1:\n",
    "                l +=str(count)\n",
    "            l += str1[i+1]\n",
    "            count = 1\n",
    "    if count>1:\n",
    "        l +=str(count)\n",
    "    print(l)\n",
    "\n",
    "def decom(str1):\n",
    "    l = ''\n",
    "    for i in range(len(str1)):\n",
    "        if str1[i].isdigit():\n",
    "            l += l[-1]*(int(str1[i])-1)\n",
    "        else:\n",
    "            l = l+ str1[i]\n",
    "    print(l)\n",
    "    \n",
    "comp(\"hello world!hello world!hello world!hello world!\")\n",
    "decom(\"hel2o world!hel2o world!hel2o world!hel2o world!\")"
   ]
  },
  {
   "cell_type": "markdown",
   "id": "e7a3b5de",
   "metadata": {},
   "source": [
    "### Question 6:\n",
    "### Please write a binary search function which searches an item in a sorted list. The function should return the index of element to be searched in the list.\n"
   ]
  },
  {
   "cell_type": "code",
   "execution_count": 6,
   "id": "606b69b1",
   "metadata": {},
   "outputs": [
    {
     "name": "stdout",
     "output_type": "stream",
     "text": [
      "5\n",
      "not in the list\n"
     ]
    }
   ],
   "source": [
    "sortt = [4,5,7,3,2,6,3,9]\n",
    "def bin_search(listt, n):\n",
    "    l = 0\n",
    "    h = len(listt)-1\n",
    "    while l<=h:\n",
    "        mid = (h+l)//2\n",
    "        if listt[mid]< n:\n",
    "            l = mid+1\n",
    "        elif listt[mid] > n:\n",
    "            h = mid-1\n",
    "        else:\n",
    "            return mid\n",
    "    else:\n",
    "        return \"not in the list\"\n",
    "\n",
    "print(bin_search(sortt,6))\n",
    "print(bin_search(sortt,22))"
   ]
  },
  {
   "cell_type": "code",
   "execution_count": null,
   "id": "824ceab2",
   "metadata": {},
   "outputs": [],
   "source": []
  }
 ],
 "metadata": {
  "kernelspec": {
   "display_name": "Python 3 (ipykernel)",
   "language": "python",
   "name": "python3"
  },
  "language_info": {
   "codemirror_mode": {
    "name": "ipython",
    "version": 3
   },
   "file_extension": ".py",
   "mimetype": "text/x-python",
   "name": "python",
   "nbconvert_exporter": "python",
   "pygments_lexer": "ipython3",
   "version": "3.9.7"
  }
 },
 "nbformat": 4,
 "nbformat_minor": 5
}
