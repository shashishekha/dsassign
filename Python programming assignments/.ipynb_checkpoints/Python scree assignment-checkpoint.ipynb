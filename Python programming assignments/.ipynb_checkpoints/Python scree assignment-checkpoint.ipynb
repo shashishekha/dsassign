{
 "cells": [
  {
   "cell_type": "markdown",
   "id": "0aef5af2",
   "metadata": {},
   "source": [
    "1. Create a function in python to read the text file and replace specific content\n",
    "of the file.\n",
    "\n",
    "File name --> example.txt\n",
    "Origin file content  --> This is a placement assignment\n",
    "Replace string Placement --> should be replaced by screening.\n",
    "\n",
    "Replaced file content --> This is a screening assignment"
   ]
  },
  {
   "cell_type": "markdown",
   "id": "6edb6934",
   "metadata": {},
   "source": [
    "|1|                       |2|\n",
    "|------------------------||-------------------------------|\n",
    "|File name |              |example.txt|\n",
    "|Origin file content|     |This is a placement assignment|\n",
    "|Replace string Placement||Should be replace by screening.|\n",
    "|Replaced file content|   |This is a screening assignment|"
   ]
  },
  {
   "cell_type": "code",
   "execution_count": 49,
   "id": "b07ae8f8",
   "metadata": {},
   "outputs": [
    {
     "name": "stdout",
     "output_type": "stream",
     "text": [
      "This is a placement assignment\n",
      "\n",
      "Enter the content to be replaced.placement\n",
      "Enter the content to be replaced by.screening\n",
      "This is a screening assignment\n",
      "\n"
     ]
    }
   ],
   "source": [
    "def changetospecific(f):\n",
    "    file = open(f,\"r\")\n",
    "    for each in file:\n",
    "        print(each)\n",
    "    toreplace=input(\"Enter the content to be replaced.\")\n",
    "    replaceby= input(\"Enter the content to be replaced by.\")\n",
    "    with open(f,\"r\") as file:\n",
    "        data = file.read()\n",
    "        data = data.replace(toreplace,replaceby)\n",
    "    file.close()\n",
    "    with open(f,'w') as file:\n",
    "        file.write(data)\n",
    "    file.close()\n",
    "    file = open(f,\"r\")\n",
    "    for each in file:\n",
    "        print(each)\n",
    "\n",
    "changetospecific('example.txt')\n"
   ]
  },
  {
   "cell_type": "markdown",
   "id": "bcfb2558",
   "metadata": {},
   "source": [
    "2. Demonstrate use of abstract class, multiple inheritance and decorator in\n",
    "python using examples."
   ]
  },
  {
   "cell_type": "markdown",
   "id": "80aa48e0",
   "metadata": {},
   "source": [
    "Abstract class is considered as a blueprint for other classes. In this class we create set of methods which can be then created inside any child classes that is built from abstract class. \n",
    "A class which contains one or more abstract methods is called an abstract class. A method becomes abstract when decorated with the keyword @abstractmethod."
   ]
  },
  {
   "cell_type": "code",
   "execution_count": 7,
   "id": "2a9d6403",
   "metadata": {},
   "outputs": [
    {
     "name": "stdout",
     "output_type": "stream",
     "text": [
      "I have two wheels\n",
      "I have three wheels\n",
      "I have four wheels\n"
     ]
    }
   ],
   "source": [
    "from abc import ABC, abstractmethod\n",
    "\n",
    "class vehicle(ABC):\n",
    "    @abstractmethod ##This is a decorator.\n",
    "    def wheels(Self):\n",
    "        pass\n",
    "class bike(vehicle):\n",
    "    def wheels(self):\n",
    "        print(\"I have two wheels\")\n",
    "class auto(vehicle):\n",
    "    def wheels(self):\n",
    "        print(\"I have three wheels\")\n",
    "class car(vehicle):\n",
    "    def wheels(self):\n",
    "        print(\"I have four wheels\")\n",
    "        \n",
    "kawasaki = bike()\n",
    "kawasaki.wheels()\n",
    "tempo = auto()\n",
    "tempo.wheels()\n",
    "hondacity = car()\n",
    "hondacity.wheels()\n"
   ]
  },
  {
   "cell_type": "markdown",
   "id": "9bab1e4a",
   "metadata": {},
   "source": [
    "Decorators are very useful tool in Python as it allows programmers to modify the behaviour of function or class.Decorators allow us to wrap another function in order to extend the behaviour or the function which is wrapped. In decorators functions are taken as the argument into another function and then called inside the wrapper function.\n"
   ]
  },
  {
   "cell_type": "code",
   "execution_count": 8,
   "id": "4d8ad4ef",
   "metadata": {},
   "outputs": [
    {
     "name": "stdout",
     "output_type": "stream",
     "text": [
      "400\n"
     ]
    }
   ],
   "source": [
    "def mul(func):\n",
    "    def inn():\n",
    "        a = func()\n",
    "        return a*a\n",
    "    return inn\n",
    "def mul1(func):\n",
    "    def inn():\n",
    "        a = func()\n",
    "        return 4*a\n",
    "    return inn\n",
    "@mul\n",
    "@mul1       ##similar to mul(mul1(di))\n",
    "def di():\n",
    "    return 5\n",
    "print(di())"
   ]
  },
  {
   "cell_type": "markdown",
   "id": "a39bc59f",
   "metadata": {},
   "source": [
    "Multiple Inheritance :\n",
    "when a class is derived from more than one base class it is called multiple inheritance. The derived class inherits all the features of the base class."
   ]
  },
  {
   "cell_type": "code",
   "execution_count": 11,
   "id": "cb46be3d",
   "metadata": {},
   "outputs": [
    {
     "name": "stdout",
     "output_type": "stream",
     "text": [
      "tall\n",
      "fair\n"
     ]
    }
   ],
   "source": [
    "class father:\n",
    "    def height(self):\n",
    "        print(\"tall\")\n",
    "class mother:\n",
    "    def complexion(self):\n",
    "        print(\"fair\")\n",
    "class child(father,mother):\n",
    "    pass\n",
    "\n",
    "rohan = child()\n",
    "rohan.height()\n",
    "rohan.complexion()\n",
    "    "
   ]
  },
  {
   "cell_type": "code",
   "execution_count": null,
   "id": "8de87f04",
   "metadata": {},
   "outputs": [],
   "source": []
  }
 ],
 "metadata": {
  "kernelspec": {
   "display_name": "Python 3 (ipykernel)",
   "language": "python",
   "name": "python3"
  },
  "language_info": {
   "codemirror_mode": {
    "name": "ipython",
    "version": 3
   },
   "file_extension": ".py",
   "mimetype": "text/x-python",
   "name": "python",
   "nbconvert_exporter": "python",
   "pygments_lexer": "ipython3",
   "version": "3.9.7"
  }
 },
 "nbformat": 4,
 "nbformat_minor": 5
}
