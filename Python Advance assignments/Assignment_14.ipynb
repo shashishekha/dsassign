{
 "cells": [
  {
   "cell_type": "markdown",
   "id": "296dd7f9",
   "metadata": {},
   "source": [
    "### Q1. Is an assignment operator like += only for show? Is it possible that it would lead to faster results\n",
    "### at the runtime?\n",
    "\n"
   ]
  },
  {
   "cell_type": "markdown",
   "id": "61c33d36",
   "metadata": {},
   "source": [
    "### Q2. What is the smallest number of statements you&#39;d have to write in most programming languages to\n",
    "### replace the Python expression a, b = a + b, a?\n"
   ]
  },
  {
   "cell_type": "markdown",
   "id": "2f5e90e9",
   "metadata": {},
   "source": [
    "\n",
    "### Q3. In Python, what is the most effective way to set a list of 100 integers to 0?\n",
    "\n"
   ]
  },
  {
   "cell_type": "markdown",
   "id": "95854026",
   "metadata": {},
   "source": [
    "### Q4. What is the most effective way to initialise a list of 99 integers that repeats the sequence 1, 2, 3?\n",
    "### S If necessary, show step-by-step instructions on how to accomplish this.\n"
   ]
  },
  {
   "cell_type": "markdown",
   "id": "8f42b351",
   "metadata": {},
   "source": [
    "\n",
    "### Q5. If you&#39;re using IDLE to run a Python application, explain how to print a multidimensional list as\n",
    "### efficiently?\n",
    "\n"
   ]
  },
  {
   "cell_type": "markdown",
   "id": "1d9ad393",
   "metadata": {},
   "source": [
    "### Q6. Is it possible to use list comprehension with a string? If so, how can you go about doing it?\n",
    "\n"
   ]
  },
  {
   "cell_type": "markdown",
   "id": "606a1726",
   "metadata": {},
   "source": [
    "### Q7. From the command line, how do you get support with a user-written Python programme? Is this\n",
    "### possible from inside IDLE?\n"
   ]
  },
  {
   "cell_type": "markdown",
   "id": "97dfa7b1",
   "metadata": {},
   "source": [
    "\n",
    "### Q8. Functions are said to be “first-class objects” in Python but not in most other languages, such as\n",
    "### C++ or Java. What can you do in Python with a function (callable object) that you can&#39;t do in C or\n",
    "### C++?\n",
    "\n"
   ]
  },
  {
   "cell_type": "markdown",
   "id": "2d2b9ce0",
   "metadata": {},
   "source": [
    "### Q9. How do you distinguish between a wrapper, a wrapped feature, and a decorator?\n",
    "\n"
   ]
  },
  {
   "cell_type": "markdown",
   "id": "9027404a",
   "metadata": {},
   "source": [
    "### Q10. If a function is a generator function, what does it return?\n"
   ]
  },
  {
   "cell_type": "markdown",
   "id": "70c5c8f4",
   "metadata": {},
   "source": [
    "\n",
    "### Q11. What is the one improvement that must be made to a function in order for it to become a\n",
    "### generator function in the Python language?\n",
    "\n"
   ]
  },
  {
   "cell_type": "markdown",
   "id": "b4bb535e",
   "metadata": {},
   "source": [
    "### Q12. Identify at least one benefit of generators."
   ]
  },
  {
   "cell_type": "code",
   "execution_count": null,
   "id": "cf2a83cf",
   "metadata": {},
   "outputs": [],
   "source": []
  },
  {
   "cell_type": "code",
   "execution_count": null,
   "id": "d696b5c5",
   "metadata": {},
   "outputs": [],
   "source": []
  }
 ],
 "metadata": {
  "kernelspec": {
   "display_name": "Python 3 (ipykernel)",
   "language": "python",
   "name": "python3"
  },
  "language_info": {
   "codemirror_mode": {
    "name": "ipython",
    "version": 3
   },
   "file_extension": ".py",
   "mimetype": "text/x-python",
   "name": "python",
   "nbconvert_exporter": "python",
   "pygments_lexer": "ipython3",
   "version": "3.9.7"
  }
 },
 "nbformat": 4,
 "nbformat_minor": 5
}
