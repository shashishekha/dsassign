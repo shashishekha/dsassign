{
 "cells": [
  {
   "cell_type": "markdown",
   "id": "296dd7f9",
   "metadata": {},
   "source": [
    "### Q1. Is an assignment operator like += only for show? Is it possible that it would lead to faster results\n",
    "### at the runtime?\n",
    "\n"
   ]
  },
  {
   "cell_type": "markdown",
   "id": "c93282cd",
   "metadata": {},
   "source": [
    "<b>ans :</b>In most cases it is same but in case in python the behaviour is different."
   ]
  },
  {
   "cell_type": "code",
   "execution_count": 34,
   "id": "3565ba10",
   "metadata": {},
   "outputs": [
    {
     "name": "stdout",
     "output_type": "stream",
     "text": [
      "[4]\n"
     ]
    }
   ],
   "source": [
    "a = [4]\n",
    "b = [5]\n",
    "z = a\n",
    "a = a+b\n",
    "print(z) #z is not modified"
   ]
  },
  {
   "cell_type": "code",
   "execution_count": 35,
   "id": "eac5623b",
   "metadata": {},
   "outputs": [
    {
     "name": "stdout",
     "output_type": "stream",
     "text": [
      "[4, 5]\n"
     ]
    }
   ],
   "source": [
    "a = [4]\n",
    "b = [5]\n",
    "z = a\n",
    "a +=b\n",
    "print(z) #z is modified"
   ]
  },
  {
   "cell_type": "markdown",
   "id": "61c33d36",
   "metadata": {},
   "source": [
    "### Q2. What is the smallest number of statements you&#39;d have to write in most programming languages to\n",
    "### replace the Python expression a, b = a + b, a?\n"
   ]
  },
  {
   "cell_type": "code",
   "execution_count": 36,
   "id": "e2b0255e",
   "metadata": {},
   "outputs": [
    {
     "name": "stdout",
     "output_type": "stream",
     "text": [
      "30 30\n"
     ]
    }
   ],
   "source": [
    "a =10\n",
    "b =20\n",
    "a = a+b\n",
    "b = a\n",
    "print(a,b)"
   ]
  },
  {
   "cell_type": "markdown",
   "id": "a59f1aff",
   "metadata": {},
   "source": [
    "we have to write minimum of two statements other than assigning values."
   ]
  },
  {
   "cell_type": "markdown",
   "id": "2f5e90e9",
   "metadata": {},
   "source": [
    "\n",
    "### Q3. In Python, what is the most effective way to set a list of 100 integers to 0?\n",
    "\n"
   ]
  },
  {
   "cell_type": "code",
   "execution_count": 37,
   "id": "901e8ee8",
   "metadata": {},
   "outputs": [
    {
     "name": "stdout",
     "output_type": "stream",
     "text": [
      "[0, 0, 0, 0, 0, 0, 0, 0, 0, 0, 0, 0, 0, 0, 0, 0, 0, 0, 0, 0, 0, 0, 0, 0, 0, 0, 0, 0, 0, 0, 0, 0, 0, 0, 0, 0, 0, 0, 0, 0, 0, 0, 0, 0, 0, 0, 0, 0, 0, 0, 0, 0, 0, 0, 0, 0, 0, 0, 0, 0, 0, 0, 0, 0, 0, 0, 0, 0, 0, 0, 0, 0, 0, 0, 0, 0, 0, 0, 0, 0, 0, 0, 0, 0, 0, 0, 0, 0, 0, 0, 0, 0, 0, 0, 0, 0, 0, 0, 0, 0]\n"
     ]
    }
   ],
   "source": [
    "lst =[]\n",
    "\n",
    "for i in range(100):\n",
    "    lst.append(0)\n",
    "print(lst)"
   ]
  },
  {
   "cell_type": "code",
   "execution_count": 38,
   "id": "9f4488f3",
   "metadata": {},
   "outputs": [
    {
     "name": "stdout",
     "output_type": "stream",
     "text": [
      "[0, 0, 0, 0, 0, 0, 0, 0, 0, 0, 0, 0, 0, 0, 0, 0, 0, 0, 0, 0, 0, 0, 0, 0, 0, 0, 0, 0, 0, 0, 0, 0, 0, 0, 0, 0, 0, 0, 0, 0, 0, 0, 0, 0, 0, 0, 0, 0, 0, 0, 0, 0, 0, 0, 0, 0, 0, 0, 0, 0, 0, 0, 0, 0, 0, 0, 0, 0, 0, 0, 0, 0, 0, 0, 0, 0, 0, 0, 0, 0, 0, 0, 0, 0, 0, 0, 0, 0, 0, 0, 0, 0, 0, 0, 0, 0, 0, 0, 0, 0]\n"
     ]
    }
   ],
   "source": [
    "x = [0 for i in range(100)]\n",
    "print(x)"
   ]
  },
  {
   "cell_type": "markdown",
   "id": "95854026",
   "metadata": {},
   "source": [
    "### Q4. What is the most effective way to initialise a list of 99 integers that repeats the sequence 1, 2, 3?\n",
    "### S If necessary, show step-by-step instructions on how to accomplish this.\n"
   ]
  },
  {
   "cell_type": "code",
   "execution_count": 39,
   "id": "75c8b80d",
   "metadata": {},
   "outputs": [
    {
     "name": "stdout",
     "output_type": "stream",
     "text": [
      "[1, 2, 3, 1, 2, 3, 1, 2, 3, 1, 2, 3, 1, 2, 3, 1, 2, 3, 1, 2, 3, 1, 2, 3, 1, 2, 3, 1, 2, 3, 1, 2, 3, 1, 2, 3, 1, 2, 3, 1, 2, 3, 1, 2, 3, 1, 2, 3, 1, 2, 3, 1, 2, 3, 1, 2, 3, 1, 2, 3, 1, 2, 3, 1, 2, 3, 1, 2, 3, 1, 2, 3, 1, 2, 3, 1, 2, 3, 1, 2, 3, 1, 2, 3, 1, 2, 3, 1, 2, 3, 1, 2, 3, 1, 2, 3, 1, 2, 3]\n"
     ]
    }
   ],
   "source": [
    "x = [1,2,3]*33\n",
    "print(x)"
   ]
  },
  {
   "cell_type": "markdown",
   "id": "8f42b351",
   "metadata": {},
   "source": [
    "\n",
    "### Q5. If you&#39;re using IDLE to run a Python application, explain how to print a multidimensional list as\n",
    "### efficiently?\n",
    "\n"
   ]
  },
  {
   "cell_type": "code",
   "execution_count": 40,
   "id": "01e5c48d",
   "metadata": {},
   "outputs": [
    {
     "name": "stdout",
     "output_type": "stream",
     "text": [
      "3 3 3 4 4 4 5 5 5 "
     ]
    }
   ],
   "source": [
    "lst = [[3,3,3],[4,4,4],[5,5,5]]\n",
    "for x in range(len(lst)):\n",
    "    for y in range(len(lst[x])):\n",
    "        print(lst[x][y],end = \" \")"
   ]
  },
  {
   "cell_type": "markdown",
   "id": "1d9ad393",
   "metadata": {},
   "source": [
    "### Q6. Is it possible to use list comprehension with a string? If so, how can you go about doing it?\n",
    "\n"
   ]
  },
  {
   "cell_type": "code",
   "execution_count": 41,
   "id": "bfed7c0e",
   "metadata": {},
   "outputs": [
    {
     "name": "stdout",
     "output_type": "stream",
     "text": [
      "['s', 'h', 'a', 's', 'h', 'i']\n"
     ]
    }
   ],
   "source": [
    "x = [i for i in 'shashi']\n",
    "print(x)"
   ]
  },
  {
   "cell_type": "markdown",
   "id": "606a1726",
   "metadata": {},
   "source": [
    "### Q7. From the command line, how do you get support with a user-written Python programme? Is this\n",
    "### possible from inside IDLE?\n"
   ]
  },
  {
   "cell_type": "markdown",
   "id": "7c087aa4",
   "metadata": {},
   "source": [
    "<b>ans :</b>In case of command prompt: Start a command prompt (Windows) or terminal window (Linux/Mac). If the current working directory is the same as the location in which you saved the file, you can simply specify the filename as a command-line argument to the Python interpreter."
   ]
  },
  {
   "cell_type": "markdown",
   "id": "9ddcb699",
   "metadata": {},
   "source": [
    "In case of IDLE : You can also create script files and run them in IDLE. From the Shell window menu, select File → New File. That should open an additional editing window. Type in the code to be executed. From the menu in that window, select File → Save or File → Save As… and save the file to disk. Then select Run → Run Module. The output should appear back in the interpreter"
   ]
  },
  {
   "cell_type": "markdown",
   "id": "97dfa7b1",
   "metadata": {},
   "source": [
    "\n",
    "### Q8. Functions are said to be “first-class objects” in Python but not in most other languages, such as\n",
    "### C++ or Java. What can you do in Python with a function (callable object) that you can&#39;t do in C or\n",
    "### C++?\n",
    "\n"
   ]
  },
  {
   "cell_type": "markdown",
   "id": "242fff6b",
   "metadata": {},
   "source": [
    "<b>ans :</b>\n",
    "1. we can store the function in a variable.\n",
    "2. we can pass the function as a parameter to other function.\n",
    "3. we can return the function from a function.\n",
    "4. we can store them in data structures such as lists,etc."
   ]
  },
  {
   "cell_type": "markdown",
   "id": "2d2b9ce0",
   "metadata": {},
   "source": [
    "### Q9. How do you distinguish between a wrapper, a wrapped feature, and a decorator?\n",
    "\n"
   ]
  },
  {
   "cell_type": "markdown",
   "id": "a287a4ac",
   "metadata": {},
   "source": [
    "<b>ans :</b>Wrappers around the function are known as decorators."
   ]
  },
  {
   "cell_type": "markdown",
   "id": "9027404a",
   "metadata": {},
   "source": [
    "### Q10. If a function is a generator function, what does it return?\n"
   ]
  },
  {
   "cell_type": "markdown",
   "id": "454a6868",
   "metadata": {},
   "source": [
    "<b>ans :</b>Generator functions are a special kind of function that return a lazy iterator. These are objects that you can loop over like a list. However, unlike lists, lazy iterators do not store their contents in memory."
   ]
  },
  {
   "cell_type": "markdown",
   "id": "70c5c8f4",
   "metadata": {},
   "source": [
    "\n",
    "### Q11. What is the one improvement that must be made to a function in order for it to become a\n",
    "### generator function in the Python language?\n",
    "\n"
   ]
  },
  {
   "cell_type": "markdown",
   "id": "e5e20a50",
   "metadata": {},
   "source": [
    "<b>ans :</b>Generator is a written as normal function but uses yield keyword to return values instead of return keyword."
   ]
  },
  {
   "cell_type": "markdown",
   "id": "b4bb535e",
   "metadata": {},
   "source": [
    "### Q12. Identify at least one benefit of generators."
   ]
  },
  {
   "cell_type": "markdown",
   "id": "637fe8a8",
   "metadata": {},
   "source": [
    "<b>ans :</b>return statement sends a specified value back to its caller whereas yield statment can produce a sequence of values. We should use generator when we want to iterate over a sequence, but don’t want to store the entire sequence in memory."
   ]
  },
  {
   "cell_type": "code",
   "execution_count": null,
   "id": "7e2c936c",
   "metadata": {},
   "outputs": [],
   "source": []
  }
 ],
 "metadata": {
  "kernelspec": {
   "display_name": "Python 3 (ipykernel)",
   "language": "python",
   "name": "python3"
  },
  "language_info": {
   "codemirror_mode": {
    "name": "ipython",
    "version": 3
   },
   "file_extension": ".py",
   "mimetype": "text/x-python",
   "name": "python",
   "nbconvert_exporter": "python",
   "pygments_lexer": "ipython3",
   "version": "3.9.7"
  }
 },
 "nbformat": 4,
 "nbformat_minor": 5
}
