{
 "cells": [
  {
   "cell_type": "markdown",
   "id": "62712ee2",
   "metadata": {},
   "source": [
    "### Q1. What is the purpose of the try statement?\n",
    "\n",
    "\n",
    "\n",
    "\n"
   ]
  },
  {
   "cell_type": "markdown",
   "id": "9db7f81e",
   "metadata": {},
   "source": [
    "<b>Ans: </b>Try statement is used for the purpose of exception handling in python. The statement written under try block checks if the statement is having exception , if it does then it needs to be handled, so that program doesnot stop for other cases."
   ]
  },
  {
   "cell_type": "code",
   "execution_count": 2,
   "id": "4a4b706a",
   "metadata": {},
   "outputs": [
    {
     "name": "stdout",
     "output_type": "stream",
     "text": [
      "Division by zero gives error\n"
     ]
    }
   ],
   "source": [
    "try:\n",
    "    n=10/0\n",
    "    print(n)\n",
    "except ZeroDivisionError:\n",
    "    print('Division by zero gives error')\n",
    "    "
   ]
  },
  {
   "cell_type": "markdown",
   "id": "847a525e",
   "metadata": {},
   "source": [
    "### Q2. What are the two most popular try statement variations?\n",
    "\n",
    "\n",
    "\n"
   ]
  },
  {
   "cell_type": "markdown",
   "id": "7c79f0aa",
   "metadata": {},
   "source": [
    "<b>Ans: </b>try, except\n",
    "\n",
    "try, except, finally\n",
    "\n",
    "try, except, finally ,else"
   ]
  },
  {
   "cell_type": "markdown",
   "id": "8322ddea",
   "metadata": {},
   "source": [
    "### Q3. What is the purpose of the raise statement?\n",
    "\n",
    "\n",
    "\n"
   ]
  },
  {
   "cell_type": "markdown",
   "id": "3d16c53c",
   "metadata": {},
   "source": [
    "<b>Ans: </b>raise statement is used to raise exceptions or errors.The raise keyword raises an error and stops the control flow of the program. It is used to bring up the current exception in an exception handler so that it can be handled further up the call stack"
   ]
  },
  {
   "cell_type": "markdown",
   "id": "c1a27298",
   "metadata": {},
   "source": [
    "### Q4. What does the assert statement do, and what other statement is it like?\n",
    "\n",
    "\n",
    "\n"
   ]
  },
  {
   "cell_type": "markdown",
   "id": "2b6f8a62",
   "metadata": {},
   "source": [
    "<b>Ans: </b>assertions are statements that assert or state a fact confidently in the program.Assertions are boolean expressions that check if the conditions return true or not. If it is true , the program does nothing and moves to the next line of code.\n",
    "However, if it's false, the program stops and throws an error."
   ]
  },
  {
   "cell_type": "code",
   "execution_count": 3,
   "id": "9fd33e3c",
   "metadata": {},
   "outputs": [
    {
     "ename": "AssertionError",
     "evalue": "",
     "output_type": "error",
     "traceback": [
      "\u001b[1;31m---------------------------------------------------------------------------\u001b[0m",
      "\u001b[1;31mAssertionError\u001b[0m                            Traceback (most recent call last)",
      "\u001b[1;32m~\\AppData\\Local\\Temp/ipykernel_12200/1202401835.py\u001b[0m in \u001b[0;36m<module>\u001b[1;34m\u001b[0m\n\u001b[0;32m      1\u001b[0m \u001b[0mmarks\u001b[0m \u001b[1;33m=\u001b[0m\u001b[1;36m100\u001b[0m\u001b[1;33m\u001b[0m\u001b[1;33m\u001b[0m\u001b[0m\n\u001b[1;32m----> 2\u001b[1;33m \u001b[1;32massert\u001b[0m \u001b[0mmarks\u001b[0m \u001b[1;33m!=\u001b[0m\u001b[1;36m100\u001b[0m\u001b[1;33m\u001b[0m\u001b[1;33m\u001b[0m\u001b[0m\n\u001b[0m",
      "\u001b[1;31mAssertionError\u001b[0m: "
     ]
    }
   ],
   "source": [
    "marks =100\n",
    "assert marks !=100"
   ]
  },
  {
   "cell_type": "code",
   "execution_count": 4,
   "id": "b25d47e9",
   "metadata": {},
   "outputs": [],
   "source": [
    "assert marks ==100"
   ]
  },
  {
   "cell_type": "markdown",
   "id": "ec5e1c31",
   "metadata": {},
   "source": [
    "### Q5. What is the purpose of the with/as argument, and what other statement is it like?"
   ]
  },
  {
   "cell_type": "markdown",
   "id": "515753dd",
   "metadata": {},
   "source": [
    "<b>Ans: </b>with/as statement simplifies use of file handling in python. Using with statement for file reading , there is no need for us to explicitly takecare of activites like resource deallocation and file closing by using file.close() method. With statement can itself ensure proper acquisition and release of resources.\n"
   ]
  },
  {
   "cell_type": "code",
   "execution_count": 5,
   "id": "de9ab529",
   "metadata": {},
   "outputs": [],
   "source": [
    "with open('shashi.txt','w') as file:\n",
    "    file.write('Hello World')"
   ]
  },
  {
   "cell_type": "code",
   "execution_count": null,
   "id": "dfcfae4c",
   "metadata": {},
   "outputs": [],
   "source": []
  }
 ],
 "metadata": {
  "kernelspec": {
   "display_name": "Python 3 (ipykernel)",
   "language": "python",
   "name": "python3"
  },
  "language_info": {
   "codemirror_mode": {
    "name": "ipython",
    "version": 3
   },
   "file_extension": ".py",
   "mimetype": "text/x-python",
   "name": "python",
   "nbconvert_exporter": "python",
   "pygments_lexer": "ipython3",
   "version": "3.9.7"
  }
 },
 "nbformat": 4,
 "nbformat_minor": 5
}
