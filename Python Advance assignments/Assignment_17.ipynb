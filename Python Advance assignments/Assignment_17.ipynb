{
 "cells": [
  {
   "cell_type": "markdown",
   "id": "f385cd94",
   "metadata": {},
   "source": [
    "### Q1. Explain the difference between greedy and non-greedy syntax with visual terms in as few words\n",
    "### as possible. What is the bare minimum effort required to transform a greedy pattern into a non-greedy\n",
    "### one? What characters or characters can you introduce or change?\n"
   ]
  },
  {
   "cell_type": "markdown",
   "id": "442cb6b3",
   "metadata": {},
   "source": [
    "The greedy match will try to match as many repitions of the quantified pattern as possible whereas the non greedy match will try to match as few repetitions of the quantified pattern as possible."
   ]
  },
  {
   "cell_type": "code",
   "execution_count": 7,
   "id": "574c106c",
   "metadata": {},
   "outputs": [
    {
     "name": "stdout",
     "output_type": "stream",
     "text": [
      "['ss', '', 's', '', 's', '', '', '']\n",
      "['', 's', '', 's', '', '', 's', '', '', 's', '', '']\n"
     ]
    }
   ],
   "source": [
    "import re\n",
    "print(re.findall(\"s*\",\"sshshsh \")) #Greedy Match Syntax\n",
    "print(re.findall(\"s*?\",\"sshshsh\")) #Non Greedy Match Syntax"
   ]
  },
  {
   "cell_type": "markdown",
   "id": "e18d04c7",
   "metadata": {},
   "source": [
    "\n",
    "### Q2. When exactly does greedy versus non-greedy make a difference?  What if you&#39;re looking for a\n",
    "### non-greedy match but the only one available is greedy?\n",
    "\n"
   ]
  },
  {
   "cell_type": "markdown",
   "id": "59130d04",
   "metadata": {},
   "source": [
    "<b>ans :</b>  The Greedy Match will try to match as many repetitions of the quantified pattern as possible. The Non Greedy Match will try to match as few repetitions of the quantified pattern as possible. If only Non Greedy Match is available, we can use other filtering or pattern matching methods of regex and further identify the required pattern."
   ]
  },
  {
   "cell_type": "markdown",
   "id": "bb61b559",
   "metadata": {},
   "source": [
    "### Q3. In a simple match of a string, which looks only for one match and does not do any replacement, is\n",
    "### the use of a nontagged group likely to make any practical difference?\n",
    "\n"
   ]
  },
  {
   "cell_type": "markdown",
   "id": "cd285de2",
   "metadata": {},
   "source": [
    "No any difference."
   ]
  },
  {
   "cell_type": "markdown",
   "id": "5013e8c9",
   "metadata": {},
   "source": [
    "### Q4. Describe a scenario in which using a nontagged category would have a significant impact on the\n",
    "### program&#39;s outcomes.\n",
    "\n"
   ]
  },
  {
   "cell_type": "markdown",
   "id": "5d6f0533",
   "metadata": {},
   "source": [
    "decimal is not tagged or captured. It will useful in scenarios where the separator of value in a string is of no use and we need to capture only the values."
   ]
  },
  {
   "cell_type": "markdown",
   "id": "6317abf4",
   "metadata": {},
   "source": [
    "### Q5. Unlike a normal regex pattern, a look-ahead condition does not consume the characters it\n",
    "### examines. Describe a situation in which this could make a difference in the results of your\n",
    "### programme.\n",
    "\n"
   ]
  },
  {
   "cell_type": "markdown",
   "id": "7418a450",
   "metadata": {},
   "source": [
    "While counting the number of multiple lines or mutiple sentence in a string the positive look ahead makes a difference, without which we wont get the correct count of lines or sentences in a string."
   ]
  },
  {
   "cell_type": "markdown",
   "id": "376f8c7d",
   "metadata": {},
   "source": [
    "### Q6. In standard expressions, what is the difference between positive look-ahead and negative look-\n",
    "### ahead?\n",
    "\n"
   ]
  },
  {
   "cell_type": "markdown",
   "id": "1fcc4fd2",
   "metadata": {},
   "source": [
    "Positive Lookahead allows to add a condition for what follows. Negative Lookahead is similar, but it looks behind. That is, it allows to match a pattern only if there’s something before it."
   ]
  },
  {
   "cell_type": "markdown",
   "id": "78a70232",
   "metadata": {},
   "source": [
    "### Q7. What is the benefit of referring to groups by name rather than by number in a standard\n",
    "### expression?\n",
    "\n"
   ]
  },
  {
   "cell_type": "markdown",
   "id": "ae3ce390",
   "metadata": {},
   "source": [
    "Referring to groups by name rather than by number in a standard expression helps to keep the code clear and easy to understand."
   ]
  },
  {
   "cell_type": "markdown",
   "id": "3f3c1e23",
   "metadata": {},
   "source": [
    "### Q8. Can you identify repeated items within a target string using named groups, as in &quot;The cow\n",
    "### jumped over the moon&quot;?\n",
    "\n"
   ]
  },
  {
   "cell_type": "code",
   "execution_count": 8,
   "id": "8fbf03e7",
   "metadata": {},
   "outputs": [
    {
     "data": {
      "text/plain": [
       "['The', 'the']"
      ]
     },
     "execution_count": 8,
     "metadata": {},
     "output_type": "execute_result"
    }
   ],
   "source": [
    "import re\n",
    "x = 'The cow jumped over the moon'\n",
    "k = re.compile(r'(?P<w1>The)', re.I)\n",
    "k.findall(x)\n"
   ]
  },
  {
   "cell_type": "markdown",
   "id": "d59a6a1d",
   "metadata": {},
   "source": [
    "### Q9. When parsing a string, what is at least one thing that the Scanner interface does for you that the\n",
    "### re.findall feature does not?\n",
    "\n"
   ]
  },
  {
   "cell_type": "markdown",
   "id": "76339b6e",
   "metadata": {},
   "source": [
    "re.findall() module is used to search for all occurrences that match a given pattern. In contrast, re.search() will only return the first occurrence that matches the specified pattern. re.findall() will iterate over all the lines of the file and will return all non-overlapping matches of pattern in a single step."
   ]
  },
  {
   "cell_type": "markdown",
   "id": "52346d3b",
   "metadata": {},
   "source": [
    "### Q10. Does a scanner object have to be named scanner?"
   ]
  },
  {
   "cell_type": "markdown",
   "id": "83b8bda5",
   "metadata": {},
   "source": []
  },
  {
   "cell_type": "markdown",
   "id": "81383f93",
   "metadata": {},
   "source": [
    "Yes , It can have any name."
   ]
  }
 ],
 "metadata": {
  "kernelspec": {
   "display_name": "Python 3 (ipykernel)",
   "language": "python",
   "name": "python3"
  },
  "language_info": {
   "codemirror_mode": {
    "name": "ipython",
    "version": 3
   },
   "file_extension": ".py",
   "mimetype": "text/x-python",
   "name": "python",
   "nbconvert_exporter": "python",
   "pygments_lexer": "ipython3",
   "version": "3.9.7"
  }
 },
 "nbformat": 4,
 "nbformat_minor": 5
}
