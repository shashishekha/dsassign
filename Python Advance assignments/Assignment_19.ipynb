{
 "cells": [
  {
   "cell_type": "markdown",
   "id": "bf49ad86",
   "metadata": {},
   "source": [
    "### Q1. Define the relationship between a class and its instances. Is it a one-to-one or a one-to-many\n",
    "### partnership, for example?\n",
    "\n"
   ]
  },
  {
   "cell_type": "markdown",
   "id": "1c9efd15",
   "metadata": {},
   "source": [
    "<b>ans :</b> one to many"
   ]
  },
  {
   "cell_type": "markdown",
   "id": "043692a3",
   "metadata": {},
   "source": [
    "### Q2. What kind of data is held only in an instance?\n",
    "\n"
   ]
  },
  {
   "cell_type": "markdown",
   "id": "8b44b3fc",
   "metadata": {},
   "source": [
    "<b>ans :</b> Relationship between a class and its instances is a one to many partnership.\n",
    "\n"
   ]
  },
  {
   "cell_type": "markdown",
   "id": "d8191a16",
   "metadata": {},
   "source": [
    "### Q3. What kind of knowledge is stored in a class?\n",
    "\n"
   ]
  },
  {
   "cell_type": "markdown",
   "id": "fca73ad8",
   "metadata": {},
   "source": [
    "<b>ans :</b> Class creates a user-defined data structure, which holds its own data members and member functions, which can be accessed and used by creating an instance of that class. A class is like a blueprint for an object."
   ]
  },
  {
   "cell_type": "markdown",
   "id": "8bfe2801",
   "metadata": {},
   "source": [
    "### Q4. What exactly is a method, and how is it different from a regular function?\n",
    "\n"
   ]
  },
  {
   "cell_type": "markdown",
   "id": "ff287d0a",
   "metadata": {},
   "source": [
    "<b>ans :</b>The methods with a class can be used to access the insatnce variables of its instance. So,the object's state can be modified by its method. Function can't access the attributes of an instance of a class or can't modify the state of the object."
   ]
  },
  {
   "cell_type": "markdown",
   "id": "6399b4c6",
   "metadata": {},
   "source": [
    "### Q5. Is inheritance supported in Python, and if so, what is the syntax?\n",
    "\n"
   ]
  },
  {
   "cell_type": "markdown",
   "id": "21b31795",
   "metadata": {},
   "source": [
    "<b>ans :</b>Yes,Python supports inheritance. The Types of Inheritence Supported by Python are:\n",
    "\n",
    "Simple Inheritence\n",
    "Multiple Inheritence\n",
    "Multilevel lInheritence\n",
    "Hybrid Inheritence\n",
    "Hierracial Inheritence"
   ]
  },
  {
   "cell_type": "markdown",
   "id": "6ee7513f",
   "metadata": {},
   "source": [
    "### Q6. How much encapsulation (making instance or class variables private) does Python support?\n",
    "\n"
   ]
  },
  {
   "cell_type": "markdown",
   "id": "e09b87f3",
   "metadata": {},
   "source": [
    "<b>ans :</b>Encapsulation describes the idea of wrapping data and the methods that work on data within one unit. This puts restrictions on accessing variables and methods directly and can prevent the accidental modification of data. To prevent accidental change, an objects variable can only be changed by an objects method."
   ]
  },
  {
   "cell_type": "markdown",
   "id": "c77575c5",
   "metadata": {},
   "source": [
    "### Q7. How do you distinguish between a class variable and an instance variable?\n",
    "\n"
   ]
  },
  {
   "cell_type": "markdown",
   "id": "294243b3",
   "metadata": {},
   "source": [
    " <b>ans :</b>The Class Attribute is available to all the instance objects of that class. whereas Instance Attributes are accessible only to the object or Instance of that class.\n",
    "\n",
    "A single copy of Class attributes is maintained by pvm at the class level. Whereas difference copies of instance attributes are maintained by pvm at objects/instance level."
   ]
  },
  {
   "cell_type": "markdown",
   "id": "98ec70eb",
   "metadata": {},
   "source": [
    "### Q8. When, if ever, can self be included in a class&#39;s method definitions?\n",
    "\n"
   ]
  },
  {
   "cell_type": "markdown",
   "id": "7d3a6700",
   "metadata": {},
   "source": [
    "<b>ans :</b>Yes, self can included in class method definations to access the instance variables inside class methods."
   ]
  },
  {
   "cell_type": "markdown",
   "id": "560f637e",
   "metadata": {},
   "source": [
    "### Q9. What is the difference between the _ _add_ _ and the _ _radd_ _ methods?\n",
    "\n"
   ]
  },
  {
   "cell_type": "markdown",
   "id": "8bcc2cf4",
   "metadata": {},
   "source": [
    "<b>ans :</b>Entering __radd__ Python will first try __add__(), and if that returns Not Implemented Python will check if the right-hand operand implements __radd__, and if it does, it will call __radd__() rather than raising a TypeError"
   ]
  },
  {
   "cell_type": "markdown",
   "id": "094c3386",
   "metadata": {},
   "source": [
    "### Q10. When is it necessary to use a reflection method? When do you not need it, even though you\n",
    "### support the operation in question?\n",
    "\n"
   ]
  },
  {
   "cell_type": "markdown",
   "id": "4bea80e8",
   "metadata": {},
   "source": [
    "<b>ans :</b>Reflection method we often encounter the requirement that a method in the executing object, or a variable in the calling object, or a field of the object should be assigned, while the method name or field name can not be determined when encoding the code, and need to be input in the form of passing strings through parameters."
   ]
  },
  {
   "cell_type": "markdown",
   "id": "69827bad",
   "metadata": {},
   "source": [
    "### Q11. What is the _ _iadd_ _ method called?\n",
    "\n"
   ]
  },
  {
   "cell_type": "markdown",
   "id": "ffe589d0",
   "metadata": {},
   "source": [
    "<b>ans :</b>__iadd__ method is called when we use implementation like a+=b which is a.__iadd__(b)"
   ]
  },
  {
   "cell_type": "markdown",
   "id": "ef9c3969",
   "metadata": {},
   "source": [
    "### Q12. Is the _ _init_ _ method inherited by subclasses? What do you do if you need to customize its\n",
    "### behavior within a subclass?"
   ]
  },
  {
   "cell_type": "markdown",
   "id": "5cf3f69e",
   "metadata": {},
   "source": [
    "<b>ans :</b> Yes, __init__ method will be inherited by subclasses. if we want to customize its behaviour within a subclass we can use super() method."
   ]
  },
  {
   "cell_type": "code",
   "execution_count": null,
   "id": "c33542d5",
   "metadata": {},
   "outputs": [],
   "source": []
  }
 ],
 "metadata": {
  "kernelspec": {
   "display_name": "Python 3 (ipykernel)",
   "language": "python",
   "name": "python3"
  },
  "language_info": {
   "codemirror_mode": {
    "name": "ipython",
    "version": 3
   },
   "file_extension": ".py",
   "mimetype": "text/x-python",
   "name": "python",
   "nbconvert_exporter": "python",
   "pygments_lexer": "ipython3",
   "version": "3.9.7"
  }
 },
 "nbformat": 4,
 "nbformat_minor": 5
}
