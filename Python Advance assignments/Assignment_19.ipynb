{
 "cells": [
  {
   "cell_type": "code",
   "execution_count": null,
   "id": "fd55a502",
   "metadata": {},
   "outputs": [],
   "source": [
    "Q1. Define the relationship between a class and its instances. Is it a one-to-one or a one-to-many\n",
    "partnership, for example?\n",
    "\n",
    "Q2. What kind of data is held only in an instance?\n",
    "\n",
    "Q3. What kind of knowledge is stored in a class?\n",
    "\n",
    "Q4. What exactly is a method, and how is it different from a regular function?\n",
    "\n",
    "Q5. Is inheritance supported in Python, and if so, what is the syntax?\n",
    "\n",
    "Q6. How much encapsulation (making instance or class variables private) does Python support?\n",
    "\n",
    "Q7. How do you distinguish between a class variable and an instance variable?\n",
    "\n",
    "Q8. When, if ever, can self be included in a class&#39;s method definitions?\n",
    "\n",
    "Q9. What is the difference between the _ _add_ _ and the _ _radd_ _ methods?\n",
    "\n",
    "Q10. When is it necessary to use a reflection method? When do you not need it, even though you\n",
    "support the operation in question?\n",
    "\n",
    "Q11. What is the _ _iadd_ _ method called?\n",
    "\n",
    "Q12. Is the _ _init_ _ method inherited by subclasses? What do you do if you need to customize its\n",
    "behavior within a subclass?"
   ]
  }
 ],
 "metadata": {
  "kernelspec": {
   "display_name": "Python 3 (ipykernel)",
   "language": "python",
   "name": "python3"
  },
  "language_info": {
   "codemirror_mode": {
    "name": "ipython",
    "version": 3
   },
   "file_extension": ".py",
   "mimetype": "text/x-python",
   "name": "python",
   "nbconvert_exporter": "python",
   "pygments_lexer": "ipython3",
   "version": "3.9.7"
  }
 },
 "nbformat": 4,
 "nbformat_minor": 5
}
