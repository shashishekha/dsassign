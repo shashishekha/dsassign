{
 "cells": [
  {
   "cell_type": "markdown",
   "id": "b06c047b",
   "metadata": {},
   "source": [
    "### Q1. Is it permissible to use several import statements to import the same module? What would the\n",
    "### goal be? Can you think of a situation where it would be beneficial?\n",
    "\n"
   ]
  },
  {
   "cell_type": "markdown",
   "id": "ca982ddb",
   "metadata": {},
   "source": [
    "### Q2. What are some of a module&#39;s characteristics? (Name at least one.)\n",
    "\n"
   ]
  },
  {
   "cell_type": "markdown",
   "id": "20af86e4",
   "metadata": {},
   "source": [
    "### Q3. Circular importing, such as when two modules import each other, can lead to dependencies and\n",
    "### bugs that aren&#39;t visible. How can you go about creating a program that avoids mutual importing?\n",
    "\n"
   ]
  },
  {
   "cell_type": "markdown",
   "id": "b057e94f",
   "metadata": {},
   "source": [
    "### Q4. Why is _ _all_ _ in Python?\n",
    "\n"
   ]
  },
  {
   "cell_type": "markdown",
   "id": "a1c94585",
   "metadata": {},
   "source": [
    "### Q5. In what situation is it useful to refer to the _ _name_ _ attribute or the string &#39;_ _main_ _&#39;?\n"
   ]
  },
  {
   "cell_type": "markdown",
   "id": "c82238cc",
   "metadata": {},
   "source": [
    "\n",
    "### Q6. What are some of the benefits of attaching a program counter to the RPN interpreter\n",
    "### application, which interprets an RPN script line by line?\n",
    "\n"
   ]
  },
  {
   "cell_type": "markdown",
   "id": "d723175b",
   "metadata": {},
   "source": [
    "### Q7. What are the minimum expressions or statements (or both) that you&#39;d need to render a basic\n",
    "### programming language like RPN primitive but complete— that is, capable of carrying out any\n",
    "### computerised task theoretically possible?"
   ]
  },
  {
   "cell_type": "markdown",
   "id": "3c5aade5",
   "metadata": {},
   "source": []
  }
 ],
 "metadata": {
  "kernelspec": {
   "display_name": "Python 3 (ipykernel)",
   "language": "python",
   "name": "python3"
  },
  "language_info": {
   "codemirror_mode": {
    "name": "ipython",
    "version": 3
   },
   "file_extension": ".py",
   "mimetype": "text/x-python",
   "name": "python",
   "nbconvert_exporter": "python",
   "pygments_lexer": "ipython3",
   "version": "3.9.7"
  }
 },
 "nbformat": 4,
 "nbformat_minor": 5
}
