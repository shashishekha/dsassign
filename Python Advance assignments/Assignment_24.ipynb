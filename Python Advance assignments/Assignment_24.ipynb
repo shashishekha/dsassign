{
 "cells": [
  {
   "cell_type": "markdown",
   "id": "b06c047b",
   "metadata": {},
   "source": [
    "### Q1. Is it permissible to use several import statements to import the same module? What would the\n",
    "### goal be? Can you think of a situation where it would be beneficial?\n",
    "\n"
   ]
  },
  {
   "cell_type": "markdown",
   "id": "522bcdb8",
   "metadata": {},
   "source": [
    " Yes, it is permissible to use several import statements to import the same module. It is used in case when we have to import multiple functions from same module."
   ]
  },
  {
   "cell_type": "markdown",
   "id": "ca982ddb",
   "metadata": {},
   "source": [
    "### Q2. What are some of a module&#39;s characteristics? (Name at least one.)\n",
    "\n"
   ]
  },
  {
   "cell_type": "markdown",
   "id": "6546b83b",
   "metadata": {},
   "source": [
    "The following are some of a module's characteristics:\n",
    "\n",
    "__name__ : It returns the name of the module\n",
    "\n",
    "__doc__ : It denotes the documentation string line written in a module code.\n",
    "\n",
    "__file__ : It holds the name and path of the module file from which it is \n",
    "loaded\n",
    "\n",
    "__dict__ : It return a dictionary object of module attributes, functions and other definitions and their respective values"
   ]
  },
  {
   "cell_type": "markdown",
   "id": "20af86e4",
   "metadata": {},
   "source": [
    "### Q3. Circular importing, such as when two modules import each other, can lead to dependencies and\n",
    "### bugs that aren&#39;t visible. How can you go about creating a program that avoids mutual importing?\n",
    "\n"
   ]
  },
  {
   "cell_type": "markdown",
   "id": "090c00f8",
   "metadata": {},
   "source": [
    "Circular importing means importing the two modules in each other. If suppose we are wokring in MOD1.py file and it is importing some function say F2() from some other module say MOD2.PY file or we can do vice-versa. What will happen is: This will give an import error.\n",
    "\n",
    "This is because when we import F2() function from module MOD2.py, then this will execute MOD2.py file. And in MOD2.py file there is an another statement of importing MOD1.py module.\n",
    "\n",
    "This will result in endless loop. To avoid this error just do one thingWe can use if __name__ == '__main__'\n",
    "\n",
    "In the function, you can't directly refer to the function in the program. The addition of this sentence avoids the endless loop of the program ."
   ]
  },
  {
   "cell_type": "markdown",
   "id": "b057e94f",
   "metadata": {},
   "source": [
    "### Q4. Why is _ _all_ _ in Python?\n",
    "\n"
   ]
  },
  {
   "cell_type": "markdown",
   "id": "e424ff42",
   "metadata": {},
   "source": [
    "It provides list of all modules present in a library."
   ]
  },
  {
   "cell_type": "markdown",
   "id": "a1c94585",
   "metadata": {},
   "source": [
    "### Q5. In what situation is it useful to refer to the _ _name_ _ attribute or the string &#39;_ _main_ _&#39;?\n"
   ]
  },
  {
   "cell_type": "markdown",
   "id": "a7492c44",
   "metadata": {},
   "source": [
    "During the time of execution of the code if we want to refer the module in which we are working on then we uses name attribute. In that case it will return the module in which we are working on. Suppose if that moudle is being imported from some other module then name will have the name of that moudle from where the current module has been imported. The current module in which we are working is refer to the string __main __."
   ]
  },
  {
   "cell_type": "markdown",
   "id": "c82238cc",
   "metadata": {},
   "source": [
    "\n",
    "### Q6. What are some of the benefits of attaching a program counter to the RPN interpreter\n",
    "### application, which interprets an RPN script line by line?\n",
    "\n"
   ]
  },
  {
   "cell_type": "markdown",
   "id": "048430b1",
   "metadata": {},
   "source": [
    "Reverse Polish notation (RPN), also known as Polish postfix notation or simply postfix notation, is a mathematical notation in which operators follow their operands.\n",
    "\n",
    "Benefits :\n",
    "1.The Polish Notations (prefix or postfix) are used by programming language interpreters where Boolean and arithmetic expressions are parsed into abstract syntax trees.\n",
    "\n",
    "2.The Shunting-Yard Algorithm\n",
    "\n",
    "3.The main benefit of both the Polish Notation and of the Reverse Polish Notation over the infix notation is that they do not require the use of parentheses as long as each operator has a fixed number of operands.\n",
    "\n",
    "\n",
    "\n",
    "\n",
    "\n"
   ]
  },
  {
   "cell_type": "markdown",
   "id": "d723175b",
   "metadata": {},
   "source": [
    "### Q7. What are the minimum expressions or statements (or both) that you&#39;d need to render a basic\n",
    "### programming language like RPN primitive but complete— that is, capable of carrying out any\n",
    "### computerised task theoretically possible?"
   ]
  },
  {
   "cell_type": "markdown",
   "id": "1d505458",
   "metadata": {},
   "source": [
    "The procedure for getting the result is: \n",
    " \n",
    "\n",
    "Convert the expression in Reverse Polish notation( post-fix notation). \n",
    " \n",
    "Push the operands into the stack in the order they appear. \n",
    " \n",
    "When any operator encounters then pop two topmost operands for executing the operation. \n",
    " \n",
    "After execution push the result obtained into the stack. \n",
    " \n",
    "After the complete execution of expression, the final result remains on the top of the stack."
   ]
  },
  {
   "cell_type": "markdown",
   "id": "3c5aade5",
   "metadata": {},
   "source": []
  }
 ],
 "metadata": {
  "kernelspec": {
   "display_name": "Python 3 (ipykernel)",
   "language": "python",
   "name": "python3"
  },
  "language_info": {
   "codemirror_mode": {
    "name": "ipython",
    "version": 3
   },
   "file_extension": ".py",
   "mimetype": "text/x-python",
   "name": "python",
   "nbconvert_exporter": "python",
   "pygments_lexer": "ipython3",
   "version": "3.9.7"
  }
 },
 "nbformat": 4,
 "nbformat_minor": 5
}
