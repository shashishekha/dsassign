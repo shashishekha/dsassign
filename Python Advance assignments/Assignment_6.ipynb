{
 "cells": [
  {
   "cell_type": "markdown",
   "id": "7ce2b548",
   "metadata": {},
   "source": [
    "### Q1. Describe three applications for exception processing.\n",
    "\n",
    "\n",
    "\n",
    "\n"
   ]
  },
  {
   "cell_type": "markdown",
   "id": "39fc24c9",
   "metadata": {},
   "source": [
    "<b>ans: </b>\n",
    "1. Checking Appropriate use of input in an application\n",
    "2. Checking for Arithmetic exceptions in mathematical executions\n",
    "3. Checking File I/O exceptions during File handling"
   ]
  },
  {
   "cell_type": "markdown",
   "id": "e0e0f05e",
   "metadata": {},
   "source": [
    "### Q2. What happens if you don't do something extra to treat an exception?\n",
    "\n",
    "\n"
   ]
  },
  {
   "cell_type": "markdown",
   "id": "b1975b1f",
   "metadata": {},
   "source": [
    "<b>ans: </b>The program will crash if the exceptions are not handled carefully. In other way the program will terminate abnormally , if not handled."
   ]
  },
  {
   "cell_type": "markdown",
   "id": "79eab955",
   "metadata": {},
   "source": [
    "\n",
    "### Q3. What are your options for recovering from an exception in your script?\n",
    "\n",
    "\n"
   ]
  },
  {
   "cell_type": "markdown",
   "id": "fad4099a",
   "metadata": {},
   "source": [
    "<b>ans: </b>try and except are the options for recovering from an exception in the script."
   ]
  },
  {
   "cell_type": "markdown",
   "id": "2a461afc",
   "metadata": {},
   "source": [
    "\n",
    "### Q4. Describe two methods for triggering exceptions in your script.\n",
    "\n",
    "\n",
    "\n"
   ]
  },
  {
   "cell_type": "markdown",
   "id": "67e062d7",
   "metadata": {},
   "source": [
    "<b>ans: </b>These two methods are:\n",
    "1. raise : This method triggers an exception if condition provided to it is True.\n",
    "\n",
    "2. assert : This will allow the program to continue execution if condition  provided to it is True else exception will be raised."
   ]
  },
  {
   "cell_type": "code",
   "execution_count": 7,
   "id": "cbb0d868",
   "metadata": {},
   "outputs": [
    {
     "ename": "Exception",
     "evalue": "('value should be less than 200, current value is : ', 200)",
     "output_type": "error",
     "traceback": [
      "\u001b[1;31m---------------------------------------------------------------------------\u001b[0m",
      "\u001b[1;31mException\u001b[0m                                 Traceback (most recent call last)",
      "\u001b[1;32m~\\AppData\\Local\\Temp/ipykernel_2444/1307306155.py\u001b[0m in \u001b[0;36m<module>\u001b[1;34m\u001b[0m\n\u001b[0;32m      1\u001b[0m \u001b[0mshashi\u001b[0m \u001b[1;33m=\u001b[0m \u001b[1;36m200\u001b[0m\u001b[1;33m\u001b[0m\u001b[1;33m\u001b[0m\u001b[0m\n\u001b[1;32m----> 2\u001b[1;33m \u001b[1;32mraise\u001b[0m \u001b[0mException\u001b[0m\u001b[1;33m(\u001b[0m\u001b[1;34m\"value should be less than 200, current value is : \"\u001b[0m\u001b[1;33m,\u001b[0m \u001b[0mshashi\u001b[0m\u001b[1;33m)\u001b[0m\u001b[1;33m\u001b[0m\u001b[1;33m\u001b[0m\u001b[0m\n\u001b[0m",
      "\u001b[1;31mException\u001b[0m: ('value should be less than 200, current value is : ', 200)"
     ]
    }
   ],
   "source": [
    "shashi = 200\n",
    "raise Exception(\"value should be less than 200, current value is : \", shashi)"
   ]
  },
  {
   "cell_type": "code",
   "execution_count": 8,
   "id": "09f3c523",
   "metadata": {},
   "outputs": [
    {
     "ename": "AssertionError",
     "evalue": "200 is not equal to 400",
     "output_type": "error",
     "traceback": [
      "\u001b[1;31m---------------------------------------------------------------------------\u001b[0m",
      "\u001b[1;31mAssertionError\u001b[0m                            Traceback (most recent call last)",
      "\u001b[1;32m~\\AppData\\Local\\Temp/ipykernel_2444/392524521.py\u001b[0m in \u001b[0;36m<module>\u001b[1;34m\u001b[0m\n\u001b[1;32m----> 1\u001b[1;33m \u001b[1;32massert\u001b[0m\u001b[1;33m(\u001b[0m\u001b[0mshashi\u001b[0m\u001b[1;33m==\u001b[0m\u001b[1;36m400\u001b[0m\u001b[1;33m)\u001b[0m\u001b[1;33m,\u001b[0m \u001b[1;34m\"200 is not equal to 400\"\u001b[0m\u001b[1;33m\u001b[0m\u001b[1;33m\u001b[0m\u001b[0m\n\u001b[0m",
      "\u001b[1;31mAssertionError\u001b[0m: 200 is not equal to 400"
     ]
    }
   ],
   "source": [
    "assert(shashi==400), \"200 is not equal to 400\""
   ]
  },
  {
   "cell_type": "markdown",
   "id": "a1850ed1",
   "metadata": {},
   "source": [
    "### Q5. Identify two methods for specifying actions to be executed at termination time, regardless of whether or not an exception exists."
   ]
  },
  {
   "cell_type": "markdown",
   "id": "3bbb3a01",
   "metadata": {},
   "source": [
    "<b>ans: </b>There is finally and else blocks for specifying actions to be executed at termination time, regardless of whether or not an exception exists."
   ]
  },
  {
   "cell_type": "code",
   "execution_count": null,
   "id": "58ef3689",
   "metadata": {},
   "outputs": [],
   "source": []
  }
 ],
 "metadata": {
  "kernelspec": {
   "display_name": "Python 3 (ipykernel)",
   "language": "python",
   "name": "python3"
  },
  "language_info": {
   "codemirror_mode": {
    "name": "ipython",
    "version": 3
   },
   "file_extension": ".py",
   "mimetype": "text/x-python",
   "name": "python",
   "nbconvert_exporter": "python",
   "pygments_lexer": "ipython3",
   "version": "3.9.7"
  }
 },
 "nbformat": 4,
 "nbformat_minor": 5
}
