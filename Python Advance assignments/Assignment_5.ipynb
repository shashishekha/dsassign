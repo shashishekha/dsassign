{
 "cells": [
  {
   "cell_type": "markdown",
   "id": "31ef761a",
   "metadata": {},
   "source": [
    "### Q1. What is the meaning of multiple inheritance?"
   ]
  },
  {
   "cell_type": "markdown",
   "id": "2b938d20",
   "metadata": {},
   "source": [
    "Multiple Inheritance is a feature of C++ where a class can inherit from more than one classes."
   ]
  },
  {
   "cell_type": "code",
   "execution_count": 1,
   "id": "92f89cb1",
   "metadata": {},
   "outputs": [],
   "source": [
    "class Father:\n",
    "    pass\n",
    "class Mother:\n",
    "    pass\n",
    "class son(Father,Mother):\n",
    "    pass"
   ]
  },
  {
   "cell_type": "markdown",
   "id": "e351d584",
   "metadata": {},
   "source": [
    "### Q2. What is the concept of delegation?"
   ]
  },
  {
   "cell_type": "markdown",
   "id": "5e915cd0",
   "metadata": {},
   "source": [
    "In object oriented programming, delegation refers to evaluating a member(property or method) of one object(the receiver) in the context of another original(the sender)\n",
    "\n",
    "or \n",
    "\n",
    "an object-oriented design pattern that allows object composition to achieve the same code reuse as inheritance.\n"
   ]
  },
  {
   "cell_type": "code",
   "execution_count": 2,
   "id": "b6bdcfb7",
   "metadata": {},
   "outputs": [
    {
     "name": "stdout",
     "output_type": "stream",
     "text": [
      "This is shashi\n",
      "This is shashi\n",
      "This is shashi\n",
      "OOOOO\n"
     ]
    }
   ],
   "source": [
    "class Myclass:\n",
    "    def sH(self):\n",
    "        print(\"This is shashi\")\n",
    "    def ss(self):\n",
    "        print(\"OOOOO\")\n",
    "class NewClass:\n",
    "    def __init__(self,obj):\n",
    "        self.main=obj\n",
    "    def jj(self):\n",
    "        self.main.sH()\n",
    "m = Myclass()\n",
    "n = NewClass(m)\n",
    "m.sH()\n",
    "n.main.sH()\n",
    "n.jj()\n",
    "n.main.ss()"
   ]
  },
  {
   "cell_type": "markdown",
   "id": "846e0602",
   "metadata": {},
   "source": [
    "### Q3. What is the concept of composition?"
   ]
  },
  {
   "cell_type": "markdown",
   "id": "1e8b0a28",
   "metadata": {},
   "source": [
    "In composition(Has-A-Relation) we can only use the class we cannot modify or extend its functionality. It will not provide extra features. So, when one needs to use the class as it without any modification, the composition is recommended and when one needs to change the behaviour of the method in another class, then inheritance is recommended."
   ]
  },
  {
   "cell_type": "code",
   "execution_count": 6,
   "id": "30765020",
   "metadata": {},
   "outputs": [
    {
     "name": "stdout",
     "output_type": "stream",
     "text": [
      "I like to eat.\n",
      "I like to sleep.\n",
      "Yes i like to sleep\n",
      "Yes i like to eat\n"
     ]
    }
   ],
   "source": [
    "class component:\n",
    "    def __init__(self):\n",
    "        print('I like to eat.')\n",
    "    def m1(self):\n",
    "        print('Yes i like to eat')\n",
    "class composite:\n",
    "    def __init__(self):\n",
    "        self.obj1 = component()\n",
    "        print('I like to sleep.')\n",
    "    def m2(self):\n",
    "        print('Yes i like to sleep')\n",
    "        self.obj1.m1()\n",
    "\n",
    "\n",
    "obj2 = composite()\n",
    "obj2.m2()"
   ]
  },
  {
   "cell_type": "markdown",
   "id": "ffecfa41",
   "metadata": {},
   "source": [
    "### Q4. What are bound methods and how do we use them?"
   ]
  },
  {
   "cell_type": "markdown",
   "id": "e1545623",
   "metadata": {},
   "source": [
    "A bound method is one which is dependent on the instance of the class as the first argument. It passes the inastance as the first argument which is used to access the variables and functions.\n",
    "All functions in the class are by default bound methods."
   ]
  },
  {
   "cell_type": "code",
   "execution_count": 7,
   "id": "05c4771f",
   "metadata": {},
   "outputs": [
    {
     "name": "stdout",
     "output_type": "stream",
     "text": [
      "<bound method A.func of <__main__.A object at 0x000001D2B7351700>>\n"
     ]
    }
   ],
   "source": [
    "class A:\n",
    "    def func(self, a):\n",
    "        self.a = a\n",
    "        print(a)\n",
    "obj = A()\n",
    "print(obj.func)"
   ]
  },
  {
   "cell_type": "markdown",
   "id": "05fcac32",
   "metadata": {},
   "source": [
    "### Q5. What is the purpose of pseudoprivate"
   ]
  },
  {
   "cell_type": "markdown",
   "id": "87b0d433",
   "metadata": {},
   "source": [
    "Pseudeoprivate attributes are useful in larger framework tool, both to avoid introducing new method names that might accidentally hide definitions elsewhere in the class tree and to reduce the chance of internal methods being replaced by names defined lower in tree.\n",
    "\n",
    "Pseudoprivate names also prevent subclasses from accidentally redefining the internal method's names,"
   ]
  },
  {
   "cell_type": "code",
   "execution_count": null,
   "id": "61a4deb8",
   "metadata": {},
   "outputs": [],
   "source": []
  }
 ],
 "metadata": {
  "kernelspec": {
   "display_name": "Python 3 (ipykernel)",
   "language": "python",
   "name": "python3"
  },
  "language_info": {
   "codemirror_mode": {
    "name": "ipython",
    "version": 3
   },
   "file_extension": ".py",
   "mimetype": "text/x-python",
   "name": "python",
   "nbconvert_exporter": "python",
   "pygments_lexer": "ipython3",
   "version": "3.9.7"
  }
 },
 "nbformat": 4,
 "nbformat_minor": 5
}
