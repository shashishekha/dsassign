{
 "cells": [
  {
   "cell_type": "markdown",
   "id": "a6cac43f",
   "metadata": {},
   "source": [
    "### Q1. What is the relationship between classes and modules?"
   ]
  },
  {
   "cell_type": "markdown",
   "id": "efc056d0",
   "metadata": {},
   "source": [
    "<b>ANS : </b>Modules are collections of methods and constants.It cannot generate instances.\n",
    "\n",
    "while classes may generate instances or objects, and have instance variables."
   ]
  },
  {
   "cell_type": "markdown",
   "id": "fbd40ae0",
   "metadata": {},
   "source": [
    "### Q2. How do you make instances and classes?"
   ]
  },
  {
   "cell_type": "markdown",
   "id": "5eea626b",
   "metadata": {},
   "source": [
    "<b>ANS : </b>The creation of instance is called instantiation. An object may be varied in a number of ways.\n",
    "\n",
    "Each realized variation of that object is an instance of its class.\n",
    "\n",
    "In class based programming , objects are created from classes by subroutines called constructors, and destroyed by destructors."
   ]
  },
  {
   "cell_type": "code",
   "execution_count": 6,
   "id": "de1bb2e4",
   "metadata": {},
   "outputs": [],
   "source": [
    "#Example\n",
    "\n",
    "# class animal():\n",
    "#     def __init__(self, name):\n",
    "#         self.name = name\n",
    "    "
   ]
  },
  {
   "cell_type": "markdown",
   "id": "b1e55965",
   "metadata": {},
   "source": [
    "### Q3. Where and how should be class attributes created?"
   ]
  },
  {
   "cell_type": "markdown",
   "id": "6b904783",
   "metadata": {},
   "source": [
    "<b>ANS : </b>class attributes belong to the class. These attributes will be shared by all the instances of the class.So, these attributes are usually created in the top of class definition outside all methods."
   ]
  },
  {
   "cell_type": "code",
   "execution_count": 9,
   "id": "7034f489",
   "metadata": {},
   "outputs": [],
   "source": [
    "#example:\n",
    "class animal:\n",
    "        herbivore = 5 #it is a class attribute\n",
    "        def __init__(self,food,legs):\n",
    "            self.food = food # All these are instance attributes\n",
    "            self.legs = legs"
   ]
  },
  {
   "cell_type": "raw",
   "id": "39160ff5",
   "metadata": {},
   "source": []
  },
  {
   "cell_type": "markdown",
   "id": "62996502",
   "metadata": {},
   "source": [
    "### Q4. Where and how are instance attributes created?"
   ]
  },
  {
   "cell_type": "markdown",
   "id": "7ee0300c",
   "metadata": {},
   "source": [
    "<b>ANS : </b>Instance attributes are passed to the class when an object of the class is created.Instance attributes are not shared by all objects of the class.\n",
    "\n",
    "Each object maintains its own copy of instance attributes at object level. Whereas in case of class attributes all instances of class refer to a single copy. Usually instance attributes are defined within the __init__ method of class"
   ]
  },
  {
   "cell_type": "code",
   "execution_count": 11,
   "id": "30266806",
   "metadata": {},
   "outputs": [],
   "source": [
    "#example:\n",
    "class animal:\n",
    "        herbivore = 5 #it is a class attribute\n",
    "        def __init__(self,food,legs):\n",
    "            self.food = food # All these are instance attributes\n",
    "            self.legs = legs\n",
    "\n",
    "cow = animal('grass',4)\n",
    "giraffe = animal('leaves',4)\n",
    "\n",
    "#cow and girafffe are both instances of class animall  with different instance variables."
   ]
  },
  {
   "cell_type": "markdown",
   "id": "30b534b8",
   "metadata": {},
   "source": [
    "### Q5. What does the term \"self\" in a Python class mean?"
   ]
  },
  {
   "cell_type": "markdown",
   "id": "74438749",
   "metadata": {},
   "source": [
    "<b>ANS : </b>self represents the instance of class. With the help of self keywords we can access the attributes and methods of the class with in the class in python. It binds the attributes with the given arguments. We can use any custom name in place of self. It is just like pointer."
   ]
  },
  {
   "cell_type": "code",
   "execution_count": 13,
   "id": "386bbbec",
   "metadata": {},
   "outputs": [
    {
     "name": "stdout",
     "output_type": "stream",
     "text": [
      "{'food': 'grass', 'legs': 4}\n",
      "{'food': 'leaves', 'legs': 4}\n"
     ]
    }
   ],
   "source": [
    "class animal:\n",
    "        herbivore = 5 #it is a class attribute\n",
    "        def __init__(self,food,legs):\n",
    "            self.food = food # All these are instance attributes\n",
    "            self.legs = legs\n",
    "\n",
    "cow = animal('grass',4)\n",
    "giraffe = animal('leaves',4)\n",
    "\n",
    "print(cow.__dict__)\n",
    "print(giraffe.__dict__)"
   ]
  },
  {
   "cell_type": "markdown",
   "id": "d79418ba",
   "metadata": {},
   "source": [
    "### Q6. How does a Python class handle operator overloading?"
   ]
  },
  {
   "cell_type": "markdown",
   "id": "85eaefb6",
   "metadata": {},
   "source": [
    "<b>ANS : </b>Python classes handle operator overloading by using some special methods called Magic methods.\n",
    "\n",
    "These special methods usually begin and end with __\n",
    "example: for basic arithmetic operators are:\n",
    "\n",
    "+ : __add__()\n",
    "- : __sub__()\n",
    "* : __mul__()\n",
    "/ : __div__()"
   ]
  },
  {
   "cell_type": "code",
   "execution_count": 15,
   "id": "a42ee18f",
   "metadata": {},
   "outputs": [
    {
     "name": "stdout",
     "output_type": "stream",
     "text": [
      "The total number of notes of 50 and 100 are 5\n"
     ]
    }
   ],
   "source": [
    "class Money:\n",
    "    def __init__(self,note):\n",
    "        self.note = note\n",
    "    def __add__(self,nex):\n",
    "        return self.note + nex.note\n",
    "_50 = Money(2)\n",
    "_100 =Money(3)\n",
    "print(f'The total number of notes of 50 and 100 are {_50+_100}')"
   ]
  },
  {
   "cell_type": "markdown",
   "id": "460c07c4",
   "metadata": {},
   "source": [
    "### Q7. When do you consider allowing operator overloading of your classes?"
   ]
  },
  {
   "cell_type": "markdown",
   "id": "34fbc7e6",
   "metadata": {},
   "source": [
    "<b>ANS : </b>When we want have different meaning of the operator according to the requirement , we use operator overloading."
   ]
  },
  {
   "cell_type": "markdown",
   "id": "93d514bc",
   "metadata": {},
   "source": [
    "### Q8. What is the most popular form of operator overloading?"
   ]
  },
  {
   "cell_type": "markdown",
   "id": "56cbae2c",
   "metadata": {},
   "source": [
    "<b>ANS : </b>The most popular form of operator overloading in python is by using magic methods. Which usually begin and end with double underscore.\n",
    "    "
   ]
  },
  {
   "cell_type": "code",
   "execution_count": 17,
   "id": "33f067ce",
   "metadata": {},
   "outputs": [
    {
     "name": "stdout",
     "output_type": "stream",
     "text": [
      "mul: 6\n",
      "concatenation : shashishekhar\n"
     ]
    }
   ],
   "source": [
    "class A:\n",
    "    def __init__(self,a):\n",
    "        self.a = a\n",
    "    def __add__(self, other):\n",
    "        return self.a + other.a\n",
    "\n",
    "o1 = A(3)\n",
    "o2 = A(3)\n",
    "o3 = A('shashi')\n",
    "o4 = A('shekhar')\n",
    "print(f'mul: {o1+o2}')\n",
    "print(f'concatenation : {o3+o4}')\n"
   ]
  },
  {
   "cell_type": "markdown",
   "id": "9f5cd046",
   "metadata": {},
   "source": [
    "### Q9. What are the two most important concepts to grasp in order to comprehend Python OOP code?"
   ]
  },
  {
   "cell_type": "markdown",
   "id": "a4490b23",
   "metadata": {},
   "source": [
    "<b>ANS : </b>Class and object are two concepts to comprehend python oop code.\n",
    "Along with them we should also have grasp over the concepts like:\n",
    "\n",
    "1.Inheritance\n",
    "2.Polymorphism\n",
    "3.Abstraction\n",
    "4.Encapsulation"
   ]
  },
  {
   "cell_type": "code",
   "execution_count": null,
   "id": "bb4bec59",
   "metadata": {},
   "outputs": [],
   "source": []
  }
 ],
 "metadata": {
  "kernelspec": {
   "display_name": "Python 3 (ipykernel)",
   "language": "python",
   "name": "python3"
  },
  "language_info": {
   "codemirror_mode": {
    "name": "ipython",
    "version": 3
   },
   "file_extension": ".py",
   "mimetype": "text/x-python",
   "name": "python",
   "nbconvert_exporter": "python",
   "pygments_lexer": "ipython3",
   "version": "3.9.7"
  }
 },
 "nbformat": 4,
 "nbformat_minor": 5
}
