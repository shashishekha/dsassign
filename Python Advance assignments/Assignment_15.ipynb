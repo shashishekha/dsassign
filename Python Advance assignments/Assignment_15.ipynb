{
 "cells": [
  {
   "cell_type": "markdown",
   "id": "ac4da41a",
   "metadata": {},
   "source": [
    "### 1.What are the new features added in Python 3.8 version?\n",
    "\n"
   ]
  },
  {
   "cell_type": "code",
   "execution_count": null,
   "id": "480b75da",
   "metadata": {},
   "outputs": [],
   "source": []
  },
  {
   "cell_type": "markdown",
   "id": "4d20b1c4",
   "metadata": {},
   "source": [
    "### 2.What is monkey patching in Python?\n"
   ]
  },
  {
   "cell_type": "code",
   "execution_count": null,
   "id": "55bdb027",
   "metadata": {},
   "outputs": [],
   "source": []
  },
  {
   "cell_type": "markdown",
   "id": "226787ed",
   "metadata": {},
   "source": [
    "### 3.What is the difference between a shallow copy and deep copy?\n"
   ]
  },
  {
   "cell_type": "code",
   "execution_count": null,
   "id": "c5000dcf",
   "metadata": {},
   "outputs": [],
   "source": []
  },
  {
   "cell_type": "markdown",
   "id": "42d7da4f",
   "metadata": {},
   "source": [
    "### 4.What is the maximum possible length of an identifier?\n"
   ]
  },
  {
   "cell_type": "code",
   "execution_count": null,
   "id": "e52e8c88",
   "metadata": {},
   "outputs": [],
   "source": []
  },
  {
   "cell_type": "markdown",
   "id": "56ed21d6",
   "metadata": {},
   "source": [
    "### 5.What is generator comprehension?"
   ]
  },
  {
   "cell_type": "code",
   "execution_count": null,
   "id": "182e3908",
   "metadata": {},
   "outputs": [],
   "source": []
  }
 ],
 "metadata": {
  "kernelspec": {
   "display_name": "Python 3 (ipykernel)",
   "language": "python",
   "name": "python3"
  },
  "language_info": {
   "codemirror_mode": {
    "name": "ipython",
    "version": 3
   },
   "file_extension": ".py",
   "mimetype": "text/x-python",
   "name": "python",
   "nbconvert_exporter": "python",
   "pygments_lexer": "ipython3",
   "version": "3.9.7"
  }
 },
 "nbformat": 4,
 "nbformat_minor": 5
}
