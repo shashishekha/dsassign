{
 "cells": [
  {
   "cell_type": "markdown",
   "id": "ac4da41a",
   "metadata": {},
   "source": [
    "### 1.What are the new features added in Python 3.8 version?\n",
    "\n"
   ]
  },
  {
   "cell_type": "markdown",
   "id": "953e72e6",
   "metadata": {},
   "source": [
    "<b>ans :</b>1.The Walrus in the Room: Assignment Expressions\n",
    "\n",
    "2.Positional-Only Arguments\n",
    "\n",
    "3.More Precise Types\n",
    "\n",
    "4.Simpler Debugging With f-Strings\n",
    "\n",
    "5.The Python Steering Council\n"
   ]
  },
  {
   "cell_type": "code",
   "execution_count": 12,
   "id": "324021c3",
   "metadata": {},
   "outputs": [
    {
     "name": "stdout",
     "output_type": "stream",
     "text": [
      "False\n"
     ]
    },
    {
     "ename": "TypeError",
     "evalue": "'walrus' is an invalid keyword argument for print()",
     "output_type": "error",
     "traceback": [
      "\u001b[1;31m---------------------------------------------------------------------------\u001b[0m",
      "\u001b[1;31mTypeError\u001b[0m                                 Traceback (most recent call last)",
      "\u001b[1;32m~\\AppData\\Local\\Temp/ipykernel_7312/2967675596.py\u001b[0m in \u001b[0;36m<module>\u001b[1;34m\u001b[0m\n\u001b[0;32m      1\u001b[0m \u001b[0mwalrus\u001b[0m \u001b[1;33m=\u001b[0m \u001b[1;32mFalse\u001b[0m\u001b[1;33m\u001b[0m\u001b[1;33m\u001b[0m\u001b[0m\n\u001b[0;32m      2\u001b[0m \u001b[0mprint\u001b[0m\u001b[1;33m(\u001b[0m\u001b[0mwalrus\u001b[0m\u001b[1;33m)\u001b[0m\u001b[1;33m\u001b[0m\u001b[1;33m\u001b[0m\u001b[0m\n\u001b[1;32m----> 3\u001b[1;33m \u001b[0mprint\u001b[0m\u001b[1;33m(\u001b[0m\u001b[0mwalrus\u001b[0m \u001b[1;33m=\u001b[0m \u001b[1;32mFalse\u001b[0m\u001b[1;33m)\u001b[0m\u001b[1;33m\u001b[0m\u001b[1;33m\u001b[0m\u001b[0m\n\u001b[0m",
      "\u001b[1;31mTypeError\u001b[0m: 'walrus' is an invalid keyword argument for print()"
     ]
    }
   ],
   "source": [
    "\n",
    "walrus = False\n",
    "print(walrus)\n",
    "print(walrus = False)"
   ]
  },
  {
   "cell_type": "code",
   "execution_count": 13,
   "id": "516c4557",
   "metadata": {},
   "outputs": [
    {
     "name": "stdout",
     "output_type": "stream",
     "text": [
      "False\n"
     ]
    }
   ],
   "source": [
    "#The above written code be written as\n",
    "print(walrus := False)"
   ]
  },
  {
   "cell_type": "markdown",
   "id": "4d20b1c4",
   "metadata": {},
   "source": [
    "### 2.What is monkey patching in Python?\n"
   ]
  },
  {
   "cell_type": "markdown",
   "id": "7fb01d5b",
   "metadata": {},
   "source": [
    "<b>ans :</b>Monkey-patching is a term that refers to modifying a class or module at a run time. In simple words, a class or module's work can be changed at the runtime."
   ]
  },
  {
   "cell_type": "code",
   "execution_count": 14,
   "id": "b1df229d",
   "metadata": {},
   "outputs": [
    {
     "name": "stdout",
     "output_type": "stream",
     "text": [
      "[('__init__', <bound method MonkeyPatch.__init__ of <__main__.MonkeyPatch object at 0x0000024C60C6FBB0>>), ('add', <bound method MonkeyPatch.add of <__main__.MonkeyPatch object at 0x0000024C60C6FBB0>>)]\n"
     ]
    }
   ],
   "source": [
    "import inspect\n",
    "\n",
    "class MonkeyPatch:\n",
    "    def __init__(self,n):\n",
    "        self.n = n\n",
    "    def add(self,a):\n",
    "        return (self.n+a)\n",
    "\n",
    "obj = MonkeyPatch(20)\n",
    "obj.add(30)\n",
    "print(inspect.getmembers(obj,predicate=inspect.ismethod))"
   ]
  },
  {
   "cell_type": "markdown",
   "id": "226787ed",
   "metadata": {},
   "source": [
    "### 3.What is the difference between a shallow copy and deep copy?\n"
   ]
  },
  {
   "cell_type": "markdown",
   "id": "ab77bef7",
   "metadata": {},
   "source": [
    "<b>ans :</b>When an object is copied using copy(), it is called shallow copy as changes made in copied object will also make corresponding changes in original object, because both the objects will be referencing same address location.\n",
    "\n",
    "When an object is copied using deepcopy(), it is called deep copy as changes made in copied object will not make corresponding changes in original object, because both the objects will not be referencing same address location."
   ]
  },
  {
   "cell_type": "markdown",
   "id": "42d7da4f",
   "metadata": {},
   "source": [
    "### 4.What is the maximum possible length of an identifier?\n"
   ]
  },
  {
   "cell_type": "markdown",
   "id": "951cc43b",
   "metadata": {},
   "source": [
    "<b>ans :</b>In Python, the highest possible length of an identifier is 79 characters. Python is a high level programming language. It’s also a complex form and a collector of waste.\n",
    "\n",
    "Python, particularly when combined with identifiers, is case-sensitive.\n",
    "When writing or using identifiers in Python, it has a maximum of 79 characters.\n",
    "Unlikely, Python gives the identifiers unlimited length.\n",
    "However, the layout of PEP-8 prevents the user from breaking the rules and includes a 79-character limit"
   ]
  },
  {
   "cell_type": "markdown",
   "id": "56ed21d6",
   "metadata": {},
   "source": [
    "### 5.What is generator comprehension?"
   ]
  },
  {
   "cell_type": "markdown",
   "id": "e261466a",
   "metadata": {},
   "source": [
    "<b>ans :</b>Generator Comprehension is a way to initialize a generator to access elements from a container object or a sequence of data. "
   ]
  },
  {
   "cell_type": "code",
   "execution_count": 15,
   "id": "a01164aa",
   "metadata": {},
   "outputs": [
    {
     "name": "stdout",
     "output_type": "stream",
     "text": [
      "Values obtained from generator function are:\n",
      "1\n",
      "2\n",
      "3\n",
      "4\n",
      "5\n",
      "6\n",
      "7\n",
      "8\n",
      "9\n",
      "10\n"
     ]
    }
   ],
   "source": [
    "def num_generator():\n",
    "    for i in range(1, 11):\n",
    "        yield i\n",
    "\n",
    "\n",
    "gen = num_generator()\n",
    "print(\"Values obtained from generator function are:\")\n",
    "for element in gen:\n",
    "    print(element)"
   ]
  },
  {
   "cell_type": "code",
   "execution_count": 16,
   "id": "b9b1b31a",
   "metadata": {},
   "outputs": [
    {
     "name": "stdout",
     "output_type": "stream",
     "text": [
      "The given list is: [1, 2, 3, 4, 5, 6, 7, 8, 9, 10]\n",
      "Elements obtained from the generator are:\n",
      "1\n",
      "4\n",
      "9\n",
      "16\n",
      "25\n",
      "36\n",
      "49\n",
      "64\n",
      "81\n",
      "100\n"
     ]
    }
   ],
   "source": [
    "myList = [1, 2, 3, 4, 5, 6, 7, 8, 9, 10]\n",
    "print(\"The given list is:\",myList)\n",
    "mygen = (element**2 for element in myList)\n",
    "print(\"Elements obtained from the generator are:\")\n",
    "for ele in mygen:\n",
    "    print(ele)"
   ]
  },
  {
   "cell_type": "code",
   "execution_count": null,
   "id": "5eb68f4b",
   "metadata": {},
   "outputs": [],
   "source": []
  }
 ],
 "metadata": {
  "kernelspec": {
   "display_name": "Python 3 (ipykernel)",
   "language": "python",
   "name": "python3"
  },
  "language_info": {
   "codemirror_mode": {
    "name": "ipython",
    "version": 3
   },
   "file_extension": ".py",
   "mimetype": "text/x-python",
   "name": "python",
   "nbconvert_exporter": "python",
   "pygments_lexer": "ipython3",
   "version": "3.9.7"
  }
 },
 "nbformat": 4,
 "nbformat_minor": 5
}
