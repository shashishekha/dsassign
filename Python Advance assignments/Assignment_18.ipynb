{
 "cells": [
  {
   "cell_type": "markdown",
   "id": "2569691f",
   "metadata": {},
   "source": [
    "### Q1. Describe the differences between text and binary files in a single paragraph.\n",
    "\n",
    "\n",
    "\n"
   ]
  },
  {
   "cell_type": "markdown",
   "id": "5d13ca13",
   "metadata": {},
   "source": [
    "<b>ans :</b>The differences between Text Files and Binary Files are:\n",
    "\n",
    "Text files are special subset of binary files that are used to store human readable characters as a rich text document or plain text document. Text files also store data in sequential bytes but bits in text file represents characters.\n",
    "\n",
    "Binary files are those typical files that store data in the form of sequence of bytes grouped into eight bits or sometimes sixteen bits. These bits represent custom data and such files can store multiple types of data (images, audio, text, etc) under a single file."
   ]
  },
  {
   "cell_type": "markdown",
   "id": "a6742242",
   "metadata": {},
   "source": [
    "### Q2. What are some scenarios where using text files will be the better option? When would you like to use binary files instead of text files?\n",
    "\n",
    "\n",
    "\n",
    "\n"
   ]
  },
  {
   "cell_type": "markdown",
   "id": "f56cd561",
   "metadata": {},
   "source": [
    "<b>ans :</b>Text files are less prone to get corrupted as any undesired change may just show up once the file is opened and then can easily be removed. Whereas Use binary files instead of text files for image data."
   ]
  },
  {
   "cell_type": "markdown",
   "id": "f65634b4",
   "metadata": {},
   "source": [
    "### Q3. What are some of the issues with using binary operations to read and write a Python integer directly to disc?\n",
    "\n",
    "\n",
    "\n"
   ]
  },
  {
   "cell_type": "markdown",
   "id": "24101f62",
   "metadata": {},
   "source": [
    "<b>ans :</b>\n",
    "1. Binary operations deal with raw data\n",
    "2. One needs to identify how many bytes one would read or write."
   ]
  },
  {
   "cell_type": "markdown",
   "id": "c3817968",
   "metadata": {},
   "source": [
    "### Q4. Describe a benefit of using the with keyword instead of explicitly opening a file.\n",
    "\n",
    "\n",
    "\n"
   ]
  },
  {
   "cell_type": "markdown",
   "id": "ac597e69",
   "metadata": {},
   "source": [
    "<b>ans :</b>When a file is opened using the with keyword, if some exceptions occur after opening a file, or at the end of the file it automatically does the closing of the file. There by not leaving an file in open mode and there would no need to explicitly close a file."
   ]
  },
  {
   "cell_type": "markdown",
   "id": "1a60e640",
   "metadata": {},
   "source": [
    "### Q5. Does Python have the trailing newline while reading a line of text? Does Python append a newline when you write a line of text?\n",
    "\n",
    "\n",
    "\n"
   ]
  },
  {
   "cell_type": "markdown",
   "id": "109e03ee",
   "metadata": {},
   "source": [
    "<b>ans :</b>Yes, Python have the trailing newline while reading a line of text. When we write a newline has to be provided in python excpicitly."
   ]
  },
  {
   "cell_type": "markdown",
   "id": "f4a4903f",
   "metadata": {},
   "source": [
    "### Q6. What file operations enable for random-access operation?\n",
    "\n",
    "\n"
   ]
  },
  {
   "cell_type": "markdown",
   "id": "d0736865",
   "metadata": {},
   "source": [
    "<b>ans :</b>seek() and tell()"
   ]
  },
  {
   "cell_type": "markdown",
   "id": "a4d8d3e1",
   "metadata": {},
   "source": [
    "\n",
    "### Q7. When do you think you'll use the struct package the most?\n",
    "\n",
    "\n",
    "\n"
   ]
  },
  {
   "cell_type": "markdown",
   "id": "dd962ec6",
   "metadata": {},
   "source": [
    "<b>ans :</b>The struct package is mostly used while converting a common python types into C language types."
   ]
  },
  {
   "cell_type": "markdown",
   "id": "e29492b4",
   "metadata": {},
   "source": [
    "### Q8. When is pickling the best option?\n",
    "\n",
    "\n",
    "\n"
   ]
  },
  {
   "cell_type": "markdown",
   "id": "9e65320c",
   "metadata": {},
   "source": [
    " <b>ans :</b>Pickling is best option for creating a new binary file using python."
   ]
  },
  {
   "cell_type": "markdown",
   "id": "beb2da1c",
   "metadata": {},
   "source": [
    "### Q9. When will it be best to use the shelve package?\n",
    "\n",
    "\n",
    "\n"
   ]
  },
  {
   "cell_type": "markdown",
   "id": "f55e8b4d",
   "metadata": {},
   "source": [
    "<b>ans :</b>Shelve package is used to pickle data but treats the entire file as dictionary."
   ]
  },
  {
   "cell_type": "markdown",
   "id": "acfe445b",
   "metadata": {},
   "source": [
    "### Q10. What is a special restriction when using the shelve package, as opposed to using other data dictionaries?"
   ]
  },
  {
   "cell_type": "markdown",
   "id": "0d8cc89d",
   "metadata": {},
   "source": [
    "<b>ans :</b> Only string data type can be used as key in this special dictionary object, whereas any picklable Python object can be used as value."
   ]
  },
  {
   "cell_type": "code",
   "execution_count": null,
   "id": "f353ba89",
   "metadata": {},
   "outputs": [],
   "source": []
  }
 ],
 "metadata": {
  "kernelspec": {
   "display_name": "Python 3 (ipykernel)",
   "language": "python",
   "name": "python3"
  },
  "language_info": {
   "codemirror_mode": {
    "name": "ipython",
    "version": 3
   },
   "file_extension": ".py",
   "mimetype": "text/x-python",
   "name": "python",
   "nbconvert_exporter": "python",
   "pygments_lexer": "ipython3",
   "version": "3.9.7"
  }
 },
 "nbformat": 4,
 "nbformat_minor": 5
}
