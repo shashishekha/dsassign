{
 "cells": [
  {
   "cell_type": "markdown",
   "id": "4dfe92d6",
   "metadata": {},
   "source": [
    "### Q1. Which two operator overloading methods can you use in your classes to support iteration?"
   ]
  },
  {
   "cell_type": "markdown",
   "id": "3fe53388",
   "metadata": {},
   "source": [
    "The \\_\\_iter__ returns the iterator object and is implicitly called at the start of loops. The \\_\\_next__ method returns the next value and is implicitly called at each loop increment."
   ]
  },
  {
   "cell_type": "markdown",
   "id": "c1120dda",
   "metadata": {},
   "source": [
    "### Q2. In what contexts do the two operator overloading methods manage printing?"
   ]
  },
  {
   "cell_type": "markdown",
   "id": "78c650b9",
   "metadata": {},
   "source": [
    "\\_\\_str__ and \\_\\_repr__ are two operator overloading methods that manage printing.\n",
    "\n",
    "1. The goal of \\_\\_repr__ is to be unambiguous and that of\\_\\_str__ is to be readable.\n",
    "2.Whenever we are trying to print any object reference internally \\_\\_str__ method is called by default.\n",
    "3.Main purpose of \\_\\_Str__ is for readability.\n",
    "4.\\_\\_repr__ is used to print official string representation of an object."
   ]
  },
  {
   "cell_type": "markdown",
   "id": "effbe525",
   "metadata": {},
   "source": [
    "### Q3. In a class, how do you intercept slice operations?"
   ]
  },
  {
   "cell_type": "markdown",
   "id": "8367577a",
   "metadata": {},
   "source": [
    "We use slice() in \\_\\_getitem__ method to intercept slice operation.This slice method is provided with start integer number, stop integer number and step integer number.\n",
    "\n",
    "Example: \\_\\_getitem__(slice(start,stop,step))"
   ]
  },
  {
   "cell_type": "markdown",
   "id": "3bff79bd",
   "metadata": {},
   "source": [
    "### Q4. In a class, how do you capture in-place addition?"
   ]
  },
  {
   "cell_type": "markdown",
   "id": "c2ad9912",
   "metadata": {},
   "source": [
    "a+b is normal addition whereas a+=b is inplace addition. In in-place addition a itself will store the value of addition. In a class __iadd__ method is used for this in-place operation"
   ]
  },
  {
   "cell_type": "code",
   "execution_count": 3,
   "id": "b09b56c4",
   "metadata": {},
   "outputs": [
    {
     "ename": "TypeError",
     "evalue": "unsupported operand type(s) for +: 'Notes' and 'Notes'",
     "output_type": "error",
     "traceback": [
      "\u001b[1;31m---------------------------------------------------------------------------\u001b[0m",
      "\u001b[1;31mTypeError\u001b[0m                                 Traceback (most recent call last)",
      "\u001b[1;32m~\\AppData\\Local\\Temp/ipykernel_15440/2568408660.py\u001b[0m in \u001b[0;36m<module>\u001b[1;34m\u001b[0m\n\u001b[0;32m      6\u001b[0m \u001b[0m_50\u001b[0m \u001b[1;33m=\u001b[0m \u001b[0mNotes\u001b[0m\u001b[1;33m(\u001b[0m\u001b[1;36m10\u001b[0m\u001b[1;33m)\u001b[0m\u001b[1;33m\u001b[0m\u001b[1;33m\u001b[0m\u001b[0m\n\u001b[0;32m      7\u001b[0m \u001b[0m_100\u001b[0m \u001b[1;33m=\u001b[0m \u001b[0mNotes\u001b[0m\u001b[1;33m(\u001b[0m\u001b[1;36m200\u001b[0m\u001b[1;33m)\u001b[0m\u001b[1;33m\u001b[0m\u001b[1;33m\u001b[0m\u001b[0m\n\u001b[1;32m----> 8\u001b[1;33m \u001b[0mprint\u001b[0m\u001b[1;33m(\u001b[0m\u001b[1;34mf'Total counts of notes : {_50+_100}'\u001b[0m\u001b[1;33m)\u001b[0m\u001b[1;33m\u001b[0m\u001b[1;33m\u001b[0m\u001b[0m\n\u001b[0m",
      "\u001b[1;31mTypeError\u001b[0m: unsupported operand type(s) for +: 'Notes' and 'Notes'"
     ]
    }
   ],
   "source": [
    "class Notes:\n",
    "    def __init__(self, quant):\n",
    "        self.quant = quant\n",
    "    def __iadd__(self, oquant):\n",
    "        return self.quant+oquant.quant\n",
    "_50 = Notes(10)\n",
    "_100 = Notes(200)\n",
    "print(f'Total counts of notes : {_50+_100}')"
   ]
  },
  {
   "cell_type": "code",
   "execution_count": 5,
   "id": "25b67161",
   "metadata": {},
   "outputs": [
    {
     "name": "stdout",
     "output_type": "stream",
     "text": [
      "210\n"
     ]
    }
   ],
   "source": [
    "class Notes:\n",
    "    def __init__(self, quant):\n",
    "        self.quant = quant\n",
    "    def __iadd__(self, oquant):\n",
    "        self.quant+=oquant.quant\n",
    "        return self.quant\n",
    "_50 = Notes(10)\n",
    "_100 = Notes(200)\n",
    "_50+=_100\n",
    "print(_50)"
   ]
  },
  {
   "cell_type": "markdown",
   "id": "c5dafdb1",
   "metadata": {},
   "source": [
    "### Q5. When is it appropriate to use operator overloading?"
   ]
  },
  {
   "cell_type": "markdown",
   "id": "a7fa3879",
   "metadata": {},
   "source": [
    "When we want to use a particular operator other than its normal operation to perform different operation according to the requirement. It is basically called operator overloading."
   ]
  },
  {
   "cell_type": "code",
   "execution_count": 2,
   "id": "4553f6fb",
   "metadata": {},
   "outputs": [
    {
     "name": "stdout",
     "output_type": "stream",
     "text": [
      "Total counts of notes : 210\n"
     ]
    }
   ],
   "source": [
    "class Notes:\n",
    "    def __init__(self, quant):\n",
    "        self.quant = quant\n",
    "    def __add__(self, oquant):\n",
    "        return self.quant+oquant.quant\n",
    "_50 = Notes(10)\n",
    "_100 = Notes(200)\n",
    "print(f'Total counts of notes : {_50+_100}')"
   ]
  },
  {
   "cell_type": "code",
   "execution_count": null,
   "id": "a977ebb2",
   "metadata": {},
   "outputs": [],
   "source": []
  }
 ],
 "metadata": {
  "kernelspec": {
   "display_name": "Python 3 (ipykernel)",
   "language": "python",
   "name": "python3"
  },
  "language_info": {
   "codemirror_mode": {
    "name": "ipython",
    "version": 3
   },
   "file_extension": ".py",
   "mimetype": "text/x-python",
   "name": "python",
   "nbconvert_exporter": "python",
   "pygments_lexer": "ipython3",
   "version": "3.9.7"
  }
 },
 "nbformat": 4,
 "nbformat_minor": 5
}
