{
 "cells": [
  {
   "cell_type": "markdown",
   "id": "d3904bdf",
   "metadata": {},
   "source": [
    "### Q1. What is the distinction between a numpy array and a pandas data frame? Is there a way to\n",
    "### convert between the two if there is?\n",
    "\n"
   ]
  },
  {
   "cell_type": "markdown",
   "id": "477acfa7",
   "metadata": {},
   "source": [
    "Numpy Ndarray provides a lot of convenient and optimized methods for performing several mathematical operations on vectors.\n",
    "\n",
    "Pandas Dataframe is an in-memory 2-dimensional tabular representation of data. In simpler words, it can be seen as a spreadsheet having rows and columns.\n",
    "\n",
    "Conversion : Dataframe=pandas.DataFrame(array)"
   ]
  },
  {
   "cell_type": "markdown",
   "id": "42125004",
   "metadata": {},
   "source": [
    "### Q2. What can go wrong when an user enters in a stock-ticker symbol, and how do you handle it?\n",
    "\n"
   ]
  },
  {
   "cell_type": "markdown",
   "id": "80eabc01",
   "metadata": {},
   "source": [
    "Not all of the companies whose shares are traded on a given market appear on the ticker.\n",
    "\n",
    "Stock tickers list companies by their symbol. Unless you know the symbol of the company you’re interested, you’ll have to look it up before you consult a stock ticker.\n",
    "\n",
    "If you’re an average retail investor, you don’t need to spend your day glued to the stock ticker. It’s probably information overload."
   ]
  },
  {
   "cell_type": "markdown",
   "id": "958d7a60",
   "metadata": {},
   "source": [
    "### Q3. Identify some of the plotting techniques that are used to produce a stock-market chart.\n",
    "\n"
   ]
  },
  {
   "cell_type": "markdown",
   "id": "64d69636",
   "metadata": {},
   "source": [
    "bar chart, candlestick chart, Line chart can be used for plotting ."
   ]
  },
  {
   "cell_type": "markdown",
   "id": "902ea8a5",
   "metadata": {},
   "source": [
    "### Q4. Why is it essential to print a legend on a stock market chart?\n",
    "\n"
   ]
  },
  {
   "cell_type": "markdown",
   "id": "701ee6f3",
   "metadata": {},
   "source": [
    "Legend will help comparison between different stocks, so will be essential on a stock market chart"
   ]
  },
  {
   "cell_type": "markdown",
   "id": "b5747a95",
   "metadata": {},
   "source": [
    "### Q5. What is the best way to limit the length of a pandas data frame to less than a year?\n",
    "\n"
   ]
  },
  {
   "cell_type": "markdown",
   "id": "d8e9f585",
   "metadata": {},
   "source": [
    "We can use start and end parameters for that. In start we write the date from where we are starting and at the end we write the end date. SO within this span we can restric the duration.Also we can use the parameters like periods for how much times we need the duration and we can also use the frequency parameter."
   ]
  },
  {
   "cell_type": "markdown",
   "id": "4ef56b0c",
   "metadata": {},
   "source": [
    "### Q6. What is the definition of a 180-day moving average?\n",
    "\n"
   ]
  },
  {
   "cell_type": "markdown",
   "id": "a84717df",
   "metadata": {},
   "source": [
    "The 180-day moving average is represented as a line on charts and represents the average price over the past 180 days. The moving average can give traders a sense regarding whether the trend is up or down, while also identifying potential support or resistance areas."
   ]
  },
  {
   "cell_type": "markdown",
   "id": "d667cb5f",
   "metadata": {},
   "source": [
    "### Q7. Did the chapter&#39;s final example use &quot;indirect&quot; importing? If so, how exactly do you do it?"
   ]
  },
  {
   "cell_type": "markdown",
   "id": "2ad404df",
   "metadata": {},
   "source": [
    "a situation in which a company buys products from someone in another country using an intermediary (= a person or organization that arranges business agreements), or a product that is bought in this way: The direct or indirect import of diamonds from the country was banned. Some of these goods are indirect imports."
   ]
  }
 ],
 "metadata": {
  "kernelspec": {
   "display_name": "Python 3 (ipykernel)",
   "language": "python",
   "name": "python3"
  },
  "language_info": {
   "codemirror_mode": {
    "name": "ipython",
    "version": 3
   },
   "file_extension": ".py",
   "mimetype": "text/x-python",
   "name": "python",
   "nbconvert_exporter": "python",
   "pygments_lexer": "ipython3",
   "version": "3.9.7"
  }
 },
 "nbformat": 4,
 "nbformat_minor": 5
}
