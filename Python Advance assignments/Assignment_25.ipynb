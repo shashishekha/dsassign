{
 "cells": [
  {
   "cell_type": "markdown",
   "id": "d3904bdf",
   "metadata": {},
   "source": [
    "### Q1. What is the distinction between a numpy array and a pandas data frame? Is there a way to\n",
    "### convert between the two if there is?\n",
    "\n"
   ]
  },
  {
   "cell_type": "markdown",
   "id": "42125004",
   "metadata": {},
   "source": [
    "### Q2. What can go wrong when an user enters in a stock-ticker symbol, and how do you handle it?\n",
    "\n"
   ]
  },
  {
   "cell_type": "markdown",
   "id": "958d7a60",
   "metadata": {},
   "source": [
    "### Q3. Identify some of the plotting techniques that are used to produce a stock-market chart.\n",
    "\n"
   ]
  },
  {
   "cell_type": "markdown",
   "id": "902ea8a5",
   "metadata": {},
   "source": [
    "### Q4. Why is it essential to print a legend on a stock market chart?\n",
    "\n"
   ]
  },
  {
   "cell_type": "markdown",
   "id": "b5747a95",
   "metadata": {},
   "source": [
    "### Q5. What is the best way to limit the length of a pandas data frame to less than a year?\n",
    "\n"
   ]
  },
  {
   "cell_type": "markdown",
   "id": "4ef56b0c",
   "metadata": {},
   "source": [
    "### Q6. What is the definition of a 180-day moving average?\n",
    "\n"
   ]
  },
  {
   "cell_type": "markdown",
   "id": "d667cb5f",
   "metadata": {},
   "source": [
    "### Q7. Did the chapter&#39;s final example use &quot;indirect&quot; importing? If so, how exactly do you do it?"
   ]
  },
  {
   "cell_type": "code",
   "execution_count": null,
   "id": "cbba19dc",
   "metadata": {},
   "outputs": [],
   "source": []
  }
 ],
 "metadata": {
  "kernelspec": {
   "display_name": "Python 3 (ipykernel)",
   "language": "python",
   "name": "python3"
  },
  "language_info": {
   "codemirror_mode": {
    "name": "ipython",
    "version": 3
   },
   "file_extension": ".py",
   "mimetype": "text/x-python",
   "name": "python",
   "nbconvert_exporter": "python",
   "pygments_lexer": "ipython3",
   "version": "3.9.7"
  }
 },
 "nbformat": 4,
 "nbformat_minor": 5
}
