{
 "cells": [
  {
   "cell_type": "markdown",
   "id": "9e28eca9",
   "metadata": {},
   "source": [
    "### Q1. What is a probability distribution, exactly? If the values are meant to be random, how can you\n",
    "### predict them at all?\n",
    "\n"
   ]
  },
  {
   "cell_type": "markdown",
   "id": "ccb1132e",
   "metadata": {},
   "source": [
    "<b>ans :</b>The probability distribution tells how a random variable is distributed.It tells us which values a random variable is most likely to take on and which values are less likely. Based on the previous data and the occurences of the random event, we can predict the outcome in terms of probabilities."
   ]
  },
  {
   "cell_type": "markdown",
   "id": "16c6fd4b",
   "metadata": {},
   "source": [
    "### Q2. Is there a distinction between true random numbers and pseudo-random numbers, if there is\n",
    "### one? Why are the latter considered “good enough”?\n",
    "\n"
   ]
  },
  {
   "cell_type": "markdown",
   "id": "4eb9ef1e",
   "metadata": {},
   "source": [
    "<b>ans :</b>True Random Numbers are true physical values while pseudo-random numbers are generated internally by a program . Latter is considered good enough as they have sort of uniform distribution."
   ]
  },
  {
   "cell_type": "markdown",
   "id": "a9a9408d",
   "metadata": {},
   "source": [
    "### Q3. What are the two main factors that influence the behaviour of a &quot;normal&quot; probability distribution?\n",
    "\n"
   ]
  },
  {
   "cell_type": "markdown",
   "id": "0217282f",
   "metadata": {},
   "source": [
    "<b>ans :</b>Normal Probability Distribution are influenced by two factors mean and the variance"
   ]
  },
  {
   "cell_type": "markdown",
   "id": "9b4c6051",
   "metadata": {},
   "source": [
    "### Q4. Provide a real-life example of a normal distribution.\n",
    "\n"
   ]
  },
  {
   "cell_type": "markdown",
   "id": "4895765d",
   "metadata": {},
   "source": [
    "<b>ans :</b>A real-life example of a normal distribution are heights measurements."
   ]
  },
  {
   "cell_type": "markdown",
   "id": "62501b0e",
   "metadata": {},
   "source": [
    "### Q5. In the short term, how can you expect a probability distribution to behave? What do you think will\n",
    "### happen as the number of trials grows?\n",
    "\n"
   ]
  },
  {
   "cell_type": "markdown",
   "id": "c40be210",
   "metadata": {},
   "source": [
    "<b>ans :</b>Variance will decrease with number of trials"
   ]
  },
  {
   "cell_type": "markdown",
   "id": "d20b764d",
   "metadata": {},
   "source": [
    "### Q6. What kind of object can be shuffled by using random.shuffle?\n",
    "\n"
   ]
  },
  {
   "cell_type": "markdown",
   "id": "7fb83327",
   "metadata": {},
   "source": [
    "<b>ans :</b>lists (list), strings (str) and tuples (tuple) objects can be shuffled by using random.shuffle"
   ]
  },
  {
   "cell_type": "markdown",
   "id": "6b525fc9",
   "metadata": {},
   "source": [
    "### Q7. Describe the math package&#39;s general categories of functions.\n",
    "\n"
   ]
  },
  {
   "cell_type": "markdown",
   "id": "7fe2487f",
   "metadata": {},
   "source": [
    " <b>ans :</b>The Math package's general categories of functions are:\n",
    "\n",
    "Trigonometric functions\n",
    "\n",
    "Quadratic functions\n",
    "\n",
    "Exponential functions\n",
    "\n",
    "Hyperbolic functions\n",
    "\n",
    "Periodic functions\n",
    "\n",
    "Arithmetic functions\n",
    "\n",
    "Logarithimic functions\n",
    "\n",
    "Conversions to Integer"
   ]
  },
  {
   "cell_type": "markdown",
   "id": "f8d0a6a8",
   "metadata": {},
   "source": [
    "### Q8. What is the relationship between exponentiation and logarithms?\n",
    "\n"
   ]
  },
  {
   "cell_type": "markdown",
   "id": "ad87fd67",
   "metadata": {},
   "source": [
    "<b>ans :</b>Exponentiation and logarithms are inverse of each other."
   ]
  },
  {
   "cell_type": "markdown",
   "id": "a5724aef",
   "metadata": {},
   "source": [
    "### Q9. What are the three logarithmic functions that Python supports?"
   ]
  },
  {
   "cell_type": "markdown",
   "id": "1b2ee262",
   "metadata": {},
   "source": [
    "<b>ans :</b>The Three Logarithmic Functions that Python supports are:\n",
    "\n",
    "log2(x) - logarithmic value of x to base 2\n",
    "\n",
    "log10(x) - logarithmic value of x to base 10\n",
    "\n",
    "log1p(a) - This function is used to compute logarithm(1+a) ."
   ]
  },
  {
   "cell_type": "code",
   "execution_count": null,
   "id": "20f73174",
   "metadata": {},
   "outputs": [],
   "source": []
  }
 ],
 "metadata": {
  "kernelspec": {
   "display_name": "Python 3 (ipykernel)",
   "language": "python",
   "name": "python3"
  },
  "language_info": {
   "codemirror_mode": {
    "name": "ipython",
    "version": 3
   },
   "file_extension": ".py",
   "mimetype": "text/x-python",
   "name": "python",
   "nbconvert_exporter": "python",
   "pygments_lexer": "ipython3",
   "version": "3.9.7"
  }
 },
 "nbformat": 4,
 "nbformat_minor": 5
}
