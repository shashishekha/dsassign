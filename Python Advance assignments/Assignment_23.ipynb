{
 "cells": [
  {
   "cell_type": "markdown",
   "id": "f7fd8f26",
   "metadata": {},
   "source": [
    "### Q1. If you have any, what are your choices for increasing the comparison between different figures on\n",
    "### the same graph?\n"
   ]
  },
  {
   "cell_type": "code",
   "execution_count": null,
   "id": "cb18e028",
   "metadata": {},
   "outputs": [],
   "source": []
  },
  {
   "cell_type": "markdown",
   "id": "ad49ef90",
   "metadata": {},
   "source": [
    "\n",
    "### Q2. Can you explain the benefit of compound interest over a higher rate of interest that does not\n",
    "### compound after reading this chapter?\n",
    "\n"
   ]
  },
  {
   "cell_type": "code",
   "execution_count": null,
   "id": "60f43ea5",
   "metadata": {},
   "outputs": [],
   "source": []
  },
  {
   "cell_type": "markdown",
   "id": "d889a2ac",
   "metadata": {},
   "source": [
    "### Q3. What is a histogram, exactly? Name a numpy method for creating such a graph.\n"
   ]
  },
  {
   "cell_type": "code",
   "execution_count": null,
   "id": "8b6319d0",
   "metadata": {},
   "outputs": [],
   "source": []
  },
  {
   "cell_type": "markdown",
   "id": "43e60a09",
   "metadata": {},
   "source": [
    "\n",
    "### Q4. If necessary, how do you change the aspect ratios between the X and Y axes?\n",
    "\n"
   ]
  },
  {
   "cell_type": "code",
   "execution_count": null,
   "id": "d4afeda6",
   "metadata": {},
   "outputs": [],
   "source": []
  },
  {
   "cell_type": "markdown",
   "id": "28a5fbc8",
   "metadata": {},
   "source": [
    "### Q5. Compare and contrast the three types of array multiplication between two numpy arrays: dot\n",
    "### product, outer product, and regular multiplication of two numpy arrays.\n",
    "\n"
   ]
  },
  {
   "cell_type": "code",
   "execution_count": null,
   "id": "a4766324",
   "metadata": {},
   "outputs": [],
   "source": []
  },
  {
   "cell_type": "markdown",
   "id": "b7a3c940",
   "metadata": {},
   "source": [
    "### Q6. Before you buy a home, which numpy function will you use to measure your monthly mortgage\n",
    "### payment?\n",
    "\n"
   ]
  },
  {
   "cell_type": "code",
   "execution_count": null,
   "id": "720cc5d1",
   "metadata": {},
   "outputs": [],
   "source": []
  },
  {
   "cell_type": "markdown",
   "id": "fe27784e",
   "metadata": {},
   "source": [
    "### Q7. Can string data be stored in numpy arrays? If so, list at least one restriction that applies to this\n",
    "### data."
   ]
  },
  {
   "cell_type": "code",
   "execution_count": null,
   "id": "59b99e99",
   "metadata": {},
   "outputs": [],
   "source": []
  }
 ],
 "metadata": {
  "kernelspec": {
   "display_name": "Python 3 (ipykernel)",
   "language": "python",
   "name": "python3"
  },
  "language_info": {
   "codemirror_mode": {
    "name": "ipython",
    "version": 3
   },
   "file_extension": ".py",
   "mimetype": "text/x-python",
   "name": "python",
   "nbconvert_exporter": "python",
   "pygments_lexer": "ipython3",
   "version": "3.9.7"
  }
 },
 "nbformat": 4,
 "nbformat_minor": 5
}
