{
 "cells": [
  {
   "cell_type": "markdown",
   "id": "56a4e781",
   "metadata": {},
   "source": [
    "### Q1. What is the concept of a metaclass?\n",
    "\n",
    "\n",
    "\n",
    "\n"
   ]
  },
  {
   "cell_type": "markdown",
   "id": "0de9f178",
   "metadata": {},
   "source": [
    "<b>ans: </b>A metaclass in Python is a class of a class that defines how a class behaves. A class is itself an instance of metaclass. A class in Python defines how the instance of the class will behave."
   ]
  },
  {
   "cell_type": "markdown",
   "id": "7b4f286d",
   "metadata": {},
   "source": [
    "### Q2. What is the best way to declare a class's metaclass?\n",
    "\n",
    "\n",
    "\n"
   ]
  },
  {
   "cell_type": "markdown",
   "id": "d0287ee5",
   "metadata": {},
   "source": [
    "One way to declare a class's metaclass is by using metaclass keyword in class definition."
   ]
  },
  {
   "cell_type": "code",
   "execution_count": 1,
   "id": "83f10b0f",
   "metadata": {},
   "outputs": [
    {
     "name": "stdout",
     "output_type": "stream",
     "text": [
      "<class 'type'>\n",
      "<class '__main__.m'>\n"
     ]
    }
   ],
   "source": [
    "class m(type):\n",
    "    pass\n",
    "class m2(metaclass = m):\n",
    "    pass\n",
    "print(type(m))\n",
    "print(type(m2))"
   ]
  },
  {
   "cell_type": "markdown",
   "id": "2571133e",
   "metadata": {},
   "source": [
    "### Q3. How do class decorators overlap with metaclasses for handling classes?\n",
    "\n",
    "\n",
    "\n"
   ]
  },
  {
   "cell_type": "markdown",
   "id": "9dc69b18",
   "metadata": {},
   "source": [
    "<b>ans: </b>There are many things we can do in a custom metaclass but not in a decorator. In python 3, there are things we can only do with a custom metaclass. Just apply the functionality of the decorator function, i.e., the one that takes a class object and modifies it, in the course of the meataclass's __new__ or __init__ that make class object."
   ]
  },
  {
   "cell_type": "markdown",
   "id": "50b7545e",
   "metadata": {},
   "source": [
    "### Q4. How do class decorators overlap with metaclasses for handling instances?"
   ]
  },
  {
   "cell_type": "markdown",
   "id": "e4dce5e0",
   "metadata": {},
   "source": [
    "<b>ans: </b>There are many things we can do in a custom metaclass but not in a decorator. In python 3, there are things we can only do with a custom metaclass. Just apply the functionality of the decorator function, i.e., the one that takes a class object and modifies it, in the course of the meataclass's __new__ or __init__ that make class object."
   ]
  },
  {
   "cell_type": "code",
   "execution_count": null,
   "id": "38c6921b",
   "metadata": {},
   "outputs": [],
   "source": []
  }
 ],
 "metadata": {
  "kernelspec": {
   "display_name": "Python 3 (ipykernel)",
   "language": "python",
   "name": "python3"
  },
  "language_info": {
   "codemirror_mode": {
    "name": "ipython",
    "version": 3
   },
   "file_extension": ".py",
   "mimetype": "text/x-python",
   "name": "python",
   "nbconvert_exporter": "python",
   "pygments_lexer": "ipython3",
   "version": "3.9.7"
  }
 },
 "nbformat": 4,
 "nbformat_minor": 5
}
