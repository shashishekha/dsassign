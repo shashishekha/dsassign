{
 "cells": [
  {
   "cell_type": "markdown",
   "id": "628a69d2",
   "metadata": {},
   "source": [
    "### Q1. In Python 3.X, what are the names and functions of string object types?\n",
    "\n",
    "\n",
    "\n",
    "\n"
   ]
  },
  {
   "cell_type": "raw",
   "id": "57d268dc",
   "metadata": {},
   "source": [
    "capitalize() : Converts the first character to upper case\n",
    "\n",
    "casefold()\t : Converts string into lower case\n",
    "\n",
    "center()\t : Returns a centered string\n",
    "\n",
    "count()\t     : Returns the number of times a specified value occurs in a string\n",
    "\n",
    "encode()\t : Returns an encoded version of the string\n",
    "\n",
    "endswith()\t : Returns true if the string ends with the specified value\n",
    "\n",
    "expandtabs() : Sets the tab size of the string\n",
    "\n",
    "find()\t     : Searches the string for a specified value and returns the \n",
    "\n",
    "position of where it was found\n",
    "\n",
    "format()\t : Formats specified values in a string\n",
    "\n",
    "format_map() : Formats specified values in a string\n",
    "\n",
    "index()\t     : Searches the string for a specified value and returns the \n",
    "\n",
    "position of where it was found\n",
    "\n",
    "isalnum()\t : Returns True if all characters in the string are \n",
    "alphanumeric\n",
    "\n",
    "isalpha()\t : Returns True if all characters in the string are in the alphabet\n",
    "\n",
    "isascii()\t : Returns True if all characters in the string are ascii characters\n",
    "\n",
    "isdecimal()\t : Returns True if all characters in the string are decimals\n",
    "\n",
    "isdigit()\t : Returns True if all characters in the string are digits\n",
    "\n",
    "isidentifier(): Returns True if the string is an identifier\n",
    "\n",
    "islower()\t : Returns True if all characters in the string are lower case\n",
    "\n",
    "isnumeric()\t : Returns True if all characters in the string are numeric\n",
    "\n",
    "isprintable() :\tReturns True if all characters in the string are printable\n",
    "\n",
    "isspace()\t: Returns True if all characters in the string are whitespaces\n",
    "\n",
    "istitle()\t: Returns True if the string follows the rules of a title\n",
    "\n",
    "isupper()\t: Returns True if all characters in the string are upper case\n",
    "\n",
    "join()\t    : Converts the elements of an iterable into a string\n",
    "\n",
    "ljust()\t    : Returns a left justified version of the string\n",
    "\n",
    "lower()\t    : Converts a string into lower case\n",
    "\n",
    "lstrip()\t: Returns a left trim version of the string\n",
    "\n",
    "maketrans()\t: Returns a translation table to be used in translations\n",
    "\n",
    "partition()\t: Returns a tuple where the string is parted into three parts\n",
    "\n",
    "replace()\t: Returns a string where a specified value is replaced with a specified value\n",
    "\n",
    "rfind()\t    : Searches the string for a specified value and returns the last position of where it was found\n",
    "\n",
    "rindex()\t: Searches the string for a specified value and returns the last position of where it was found\n",
    "\n",
    "rjust()\t    : Returns a right justified version of the string\n",
    "\n",
    "rpartition(): Returns a tuple where the string is parted into three parts\n",
    "\n",
    "rsplit()\t: Splits the string at the specified separator, and returns a list\n",
    "\n",
    "rstrip()\t: Returns a right trim version of the string\n",
    "\n",
    "split()\t: Splits the string at the specified separator, and returns a list\n",
    "\n",
    "splitlines()\t: Splits the string at line breaks and returns a list\n",
    "\n",
    "startswith()\t: Returns true if the string starts with the specified value\n",
    "\n",
    "strip() : \tReturns a trimmed version of the string\n",
    "\n",
    "swapcase()\t: Swaps cases, lower case becomes upper case and vice versa\n",
    "\n",
    "title()\t: Converts the first character of each word to upper case\n",
    "\n",
    "translate()\t: Returns a translated string\n",
    "\n",
    "upper()\t: Converts a string into upper case\n",
    "\n",
    "zfill()\t: Fills the string with a specified number of 0 values at the beginning"
   ]
  },
  {
   "cell_type": "markdown",
   "id": "d4e50ffb",
   "metadata": {},
   "source": [
    "### Q2. How do the string forms in Python 3.X vary in terms of operations?\n",
    "\n",
    "\n",
    "\n"
   ]
  },
  {
   "cell_type": "markdown",
   "id": "1d98b87f",
   "metadata": {},
   "source": [
    "<b>Ans: </b>In python 3 default format for strings is unicode. In python 2 we have to explicitly mention Unicode value using u."
   ]
  },
  {
   "cell_type": "markdown",
   "id": "0bea85d5",
   "metadata": {},
   "source": [
    "### Q3. In 3.X, how do you put non-ASCII Unicode characters in a string?\n",
    "\n",
    "\n",
    "\n"
   ]
  },
  {
   "cell_type": "markdown",
   "id": "e3e1c882",
   "metadata": {},
   "source": [
    "<b>Ans: </b>we use unidecode() method form unidecode library to put non-ASCII Unicode Characters in a string."
   ]
  },
  {
   "cell_type": "code",
   "execution_count": 1,
   "id": "f8156baa",
   "metadata": {},
   "outputs": [
    {
     "name": "stdout",
     "output_type": "stream",
     "text": [
      "my name is shashi\n"
     ]
    }
   ],
   "source": [
    "from unidecode import unidecode\n",
    "print(unidecode(\"my name is shashi\"))"
   ]
  },
  {
   "cell_type": "markdown",
   "id": "8307bee7",
   "metadata": {},
   "source": [
    "### Q4. In Python 3.X, what are the key differences between text-mode and binary-mode files?\n",
    "\n",
    "\n",
    "\n"
   ]
  },
  {
   "cell_type": "markdown",
   "id": "186557ec",
   "metadata": {},
   "source": [
    "<b>Ans:</b>text file contains textual information in the form of alphabets,digits,etc.Whereas a binary file contains bytes or a compiled version of a text file.\n",
    "\n",
    "when a file is opened in text mode reading data automatically decodes its content , and returns it as str. writing operation takes a str, and automatically encodes it before transferring to the file. Text mode files also support universal end-of-line translation , and encoding specification arguments.\n",
    "\n",
    "when a file is opened in binary mode by adding a b to the mode sting argument in the open() call, reading its data does not decode it in any way, and simply returns its content raw and unchanged, as a bytes object.\n",
    "Writing takes a bytes object and transfers it to the file unchanged.Binary-mode files also accept a bytearray object for the content to be written to the file."
   ]
  },
  {
   "cell_type": "markdown",
   "id": "2cb0fd46",
   "metadata": {},
   "source": [
    "### Q5. How can you interpret a Unicode text file containing text encoded in a different encoding than your platform's default?\n",
    "\n",
    "\n",
    "\n"
   ]
  },
  {
   "cell_type": "markdown",
   "id": "4d8fbbb4",
   "metadata": {},
   "source": [
    "<b>Ans: </b>encode() and decode() methods can be used to interpret a Unicode text file containing text encoded in a different encoding than your platform's default, by default encoding parameter is UTF-8"
   ]
  },
  {
   "cell_type": "markdown",
   "id": "beba2148",
   "metadata": {},
   "source": [
    "### Q6. What is the best way to make a Unicode text file in a particular encoding format?\n",
    "\n",
    "\n",
    "\n"
   ]
  },
  {
   "cell_type": "markdown",
   "id": "e1f9183e",
   "metadata": {},
   "source": [
    "<b>Ans: </b>str.encode() and file.write() can be used to make a Unicode text file in a particular encoding format, default encoding format is UTF-18"
   ]
  },
  {
   "cell_type": "markdown",
   "id": "febe79b4",
   "metadata": {},
   "source": [
    "### Q7. What qualifies ASCII text as a form of Unicode text?\n",
    "\n",
    "\n",
    "\n"
   ]
  },
  {
   "cell_type": "markdown",
   "id": "6814035c",
   "metadata": {},
   "source": [
    "<b>Ans: </b>For backward compatibility the first 128 Unicode code points represent the equivalent ASCII characters. Since UTF-8 encodes each of these characters with a single byte, any ASCII text is also a UTF-8 text. Unicode is a superset of ASCII.\n",
    "\n",
    "Many Unicode files cannot be used in an ASCII context. Any character that is out-of-bounds will be displayed in an unexpected manner, often with substituted characters that are completely different from those that were intended."
   ]
  },
  {
   "cell_type": "markdown",
   "id": "b30084bd",
   "metadata": {},
   "source": [
    "### Q8. How much of an effect does the change in string types in Python 3.X have on your code?"
   ]
  },
  {
   "cell_type": "markdown",
   "id": "a230b5b7",
   "metadata": {},
   "source": [
    "<b>Ans: </b>if we use parentheses in python 2.x then there is no issue but if we don’t use parentheses in python 3.x, we get SyntaxError.\n",
    "\n",
    "In Python 2, an implicit str type is ASCII. But in Python 3.x implicit str type is Unicode. Python 2 requires to make a string with a u if we want to store it as Unicode.Unicode strings are more versatile than ASCII strings.\n",
    "\n"
   ]
  },
  {
   "cell_type": "code",
   "execution_count": null,
   "id": "9000985a",
   "metadata": {},
   "outputs": [],
   "source": []
  }
 ],
 "metadata": {
  "kernelspec": {
   "display_name": "Python 3 (ipykernel)",
   "language": "python",
   "name": "python3"
  },
  "language_info": {
   "codemirror_mode": {
    "name": "ipython",
    "version": 3
   },
   "file_extension": ".py",
   "mimetype": "text/x-python",
   "name": "python",
   "nbconvert_exporter": "python",
   "pygments_lexer": "ipython3",
   "version": "3.9.7"
  }
 },
 "nbformat": 4,
 "nbformat_minor": 5
}
