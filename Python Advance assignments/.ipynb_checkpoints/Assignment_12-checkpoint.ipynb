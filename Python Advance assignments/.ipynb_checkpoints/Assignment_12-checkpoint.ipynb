{
 "cells": [
  {
   "cell_type": "markdown",
   "id": "a0793765",
   "metadata": {},
   "source": [
    "### Q1. Does assigning a value to a string's indexed character violate Python's string immutability?\n",
    "\n",
    "\n",
    "\n"
   ]
  },
  {
   "cell_type": "markdown",
   "id": "4b757339",
   "metadata": {},
   "source": [
    "<b>ans :</b>A string is immutable. we cannot overwrite the values of immutable objects. We can assign the variable again but it is not modifying the string object rather it is creating a new string object."
   ]
  },
  {
   "cell_type": "code",
   "execution_count": 28,
   "id": "f95be681",
   "metadata": {},
   "outputs": [
    {
     "ename": "TypeError",
     "evalue": "'str' object does not support item assignment",
     "output_type": "error",
     "traceback": [
      "\u001b[1;31m---------------------------------------------------------------------------\u001b[0m",
      "\u001b[1;31mTypeError\u001b[0m                                 Traceback (most recent call last)",
      "\u001b[1;32m~\\AppData\\Local\\Temp/ipykernel_7636/2446212847.py\u001b[0m in \u001b[0;36m<module>\u001b[1;34m\u001b[0m\n\u001b[0;32m      1\u001b[0m \u001b[0ma\u001b[0m \u001b[1;33m=\u001b[0m \u001b[1;34m'shashi'\u001b[0m\u001b[1;33m\u001b[0m\u001b[1;33m\u001b[0m\u001b[0m\n\u001b[1;32m----> 2\u001b[1;33m \u001b[0ma\u001b[0m\u001b[1;33m[\u001b[0m\u001b[1;36m1\u001b[0m\u001b[1;33m]\u001b[0m \u001b[1;33m=\u001b[0m \u001b[1;34m'k'\u001b[0m\u001b[1;33m\u001b[0m\u001b[1;33m\u001b[0m\u001b[0m\n\u001b[0m\u001b[0;32m      3\u001b[0m \u001b[0mprint\u001b[0m\u001b[1;33m(\u001b[0m\u001b[0ma\u001b[0m\u001b[1;33m)\u001b[0m\u001b[1;33m\u001b[0m\u001b[1;33m\u001b[0m\u001b[0m\n",
      "\u001b[1;31mTypeError\u001b[0m: 'str' object does not support item assignment"
     ]
    }
   ],
   "source": [
    "a = 'shashi'\n",
    "a[1] = 'k'\n",
    "print(a)"
   ]
  },
  {
   "cell_type": "code",
   "execution_count": 29,
   "id": "c63f5695",
   "metadata": {},
   "outputs": [
    {
     "name": "stdout",
     "output_type": "stream",
     "text": [
      "2785121968816\n"
     ]
    }
   ],
   "source": [
    "print(id(a))"
   ]
  },
  {
   "cell_type": "markdown",
   "id": "66b090ce",
   "metadata": {},
   "source": [
    "### Q2. Does using the += operator to concatenate strings violate Python's string immutability? Why or why not?\n",
    "\n",
    "\n",
    "\n"
   ]
  },
  {
   "cell_type": "markdown",
   "id": "1ceba337",
   "metadata": {},
   "source": [
    "<b>ans :</b>The use of += operator is to concatenate strings, it does not violate Python's string immutability.There is no string data is modified rather it is just appended kind of thing."
   ]
  },
  {
   "cell_type": "code",
   "execution_count": 30,
   "id": "4451aebc",
   "metadata": {},
   "outputs": [
    {
     "name": "stdout",
     "output_type": "stream",
     "text": [
      "shashishekhar\n"
     ]
    }
   ],
   "source": [
    "a = 'shashi'\n",
    "b = 'shekhar'\n",
    "a += b\n",
    "print(a)"
   ]
  },
  {
   "cell_type": "markdown",
   "id": "7a41de28",
   "metadata": {},
   "source": [
    "### Q3. In Python, how many different ways are there to index a character?\n",
    "\n",
    "\n",
    "\n"
   ]
  },
  {
   "cell_type": "markdown",
   "id": "a2175cd8",
   "metadata": {},
   "source": [
    "<b>ans :</b>There are two different ways to index a character:\n",
    "\n",
    "1. Positive Indexing\n",
    "2. Negative Indexing\n"
   ]
  },
  {
   "cell_type": "code",
   "execution_count": 31,
   "id": "aa0cc75b",
   "metadata": {},
   "outputs": [
    {
     "name": "stdout",
     "output_type": "stream",
     "text": [
      "a\n",
      "k\n"
     ]
    }
   ],
   "source": [
    "name = 'shashi shekhar'\n",
    "print(name[2]) #positive indexing\n",
    "print(name[-4]) #negative indexing"
   ]
  },
  {
   "cell_type": "markdown",
   "id": "ffd1c6f3",
   "metadata": {},
   "source": [
    "### Q4. What is the relationship between indexing and slicing?\n",
    "\n",
    "\n"
   ]
  },
  {
   "cell_type": "markdown",
   "id": "87798ab9",
   "metadata": {},
   "source": [
    "<b>ans :</b>Indexing and slicing both are used to access the elements assigned to a variable. In indexing, we can access the element at a particular index. While in case of slicing we can access the elements in a range as specified."
   ]
  },
  {
   "cell_type": "code",
   "execution_count": 32,
   "id": "909d20ad",
   "metadata": {},
   "outputs": [
    {
     "name": "stdout",
     "output_type": "stream",
     "text": [
      "s\n",
      "ash\n"
     ]
    }
   ],
   "source": [
    "name = \"shashi shekhar\"\n",
    "print(name[0]) #Indexing\n",
    "print(name[2:5]) #Slicing"
   ]
  },
  {
   "cell_type": "markdown",
   "id": "4d457fde",
   "metadata": {},
   "source": [
    "\n",
    "### Q5. What is an indexed character's exact data type? What is the data form of a slicing-generated substring?\n",
    "\n",
    "\n"
   ]
  },
  {
   "cell_type": "markdown",
   "id": "c185713c",
   "metadata": {},
   "source": [
    "<b>ans :</b>The exact data type of indexed character is string. For the sliced generated substring it is also sting data type."
   ]
  },
  {
   "cell_type": "code",
   "execution_count": 33,
   "id": "96ade502",
   "metadata": {},
   "outputs": [
    {
     "name": "stdout",
     "output_type": "stream",
     "text": [
      "<class 'str'>\n",
      "<class 'str'>\n"
     ]
    }
   ],
   "source": [
    "name = \"shashi shekhar\"\n",
    "print(type(name[2])) #indexing\n",
    "print(type(name[4:8])) #slicing"
   ]
  },
  {
   "cell_type": "markdown",
   "id": "a2fa8cb8",
   "metadata": {},
   "source": [
    "\n",
    "### Q6. What is the relationship between string and character \"types\" in Python?\n",
    "\n",
    "\n",
    "\n"
   ]
  },
  {
   "cell_type": "markdown",
   "id": "d330beb5",
   "metadata": {},
   "source": [
    "<b>ans :</b>Object that contains sequence of character datatypes are called string."
   ]
  },
  {
   "cell_type": "markdown",
   "id": "9f0c2ea8",
   "metadata": {},
   "source": [
    "### Q7. Identify at least two operators and one method that allow you to combine one or more smaller strings to create a larger string.\n",
    "\n",
    "\n"
   ]
  },
  {
   "cell_type": "markdown",
   "id": "b0a9b380",
   "metadata": {},
   "source": [
    "<b>ans :</b>The operators like + , += can be used to combine one or more smaller strings to create a larger string. join() method can be used to join elements of iterable type like list, tuple."
   ]
  },
  {
   "cell_type": "code",
   "execution_count": 34,
   "id": "c6703fe9",
   "metadata": {},
   "outputs": [
    {
     "name": "stdout",
     "output_type": "stream",
     "text": [
      "shashi shekhar\n",
      "s h a s h i\n",
      "s h a s h i\n"
     ]
    }
   ],
   "source": [
    "name = \"shashi\"\n",
    "name2 = \"shekhar\"\n",
    "print(name+\" \"+ name2)\n",
    "print(\" \".join([\"s\",\"h\",\"a\",\"s\",\"h\",\"i\"]))\n",
    "print(\" \".join(('s','h','a','s','h','i')))"
   ]
  },
  {
   "cell_type": "markdown",
   "id": "306ff3bf",
   "metadata": {},
   "source": [
    "\n",
    "### Q8. What is the benefit of first checking the target string with in or not in before using the index method to find a substring?\n",
    "\n",
    "\n",
    "\n"
   ]
  },
  {
   "cell_type": "code",
   "execution_count": 35,
   "id": "a9b74667",
   "metadata": {},
   "outputs": [
    {
     "data": {
      "text/plain": [
       "2"
      ]
     },
     "execution_count": 35,
     "metadata": {},
     "output_type": "execute_result"
    }
   ],
   "source": [
    "\n",
    "name = 'shashi shekhar'\n",
    "name.index('a')\n"
   ]
  },
  {
   "cell_type": "code",
   "execution_count": 36,
   "id": "d8f5ed21",
   "metadata": {},
   "outputs": [
    {
     "ename": "ValueError",
     "evalue": "substring not found",
     "output_type": "error",
     "traceback": [
      "\u001b[1;31m---------------------------------------------------------------------------\u001b[0m",
      "\u001b[1;31mValueError\u001b[0m                                Traceback (most recent call last)",
      "\u001b[1;32m~\\AppData\\Local\\Temp/ipykernel_7636/366041397.py\u001b[0m in \u001b[0;36m<module>\u001b[1;34m\u001b[0m\n\u001b[1;32m----> 1\u001b[1;33m \u001b[0mname\u001b[0m\u001b[1;33m.\u001b[0m\u001b[0mindex\u001b[0m\u001b[1;33m(\u001b[0m\u001b[1;34m'm'\u001b[0m\u001b[1;33m)\u001b[0m\u001b[1;33m\u001b[0m\u001b[1;33m\u001b[0m\u001b[0m\n\u001b[0m",
      "\u001b[1;31mValueError\u001b[0m: substring not found"
     ]
    }
   ],
   "source": [
    "name.index('m')"
   ]
  },
  {
   "cell_type": "markdown",
   "id": "6a5fc6a0",
   "metadata": {},
   "source": [
    "The benefit of first checking the target string with in or not in before using the index method to confirm availability of substing otherwise it will give valueError as shown above."
   ]
  },
  {
   "cell_type": "markdown",
   "id": "c640e3d4",
   "metadata": {},
   "source": [
    "### Q9. Which operators and built-in string methods produce simple Boolean (true/false) results?"
   ]
  },
  {
   "cell_type": "markdown",
   "id": "607021b2",
   "metadata": {},
   "source": [
    "<b>ans :</b>isalpha()\n",
    "isalnum()\n",
    "islower()\n",
    "isnumeric()\n",
    "isspace()\n",
    "isdigit()\n",
    "istitle()"
   ]
  },
  {
   "cell_type": "markdown",
   "id": "80f24980",
   "metadata": {},
   "source": [
    "There are others as well."
   ]
  },
  {
   "cell_type": "code",
   "execution_count": null,
   "id": "1ecf2c8a",
   "metadata": {},
   "outputs": [],
   "source": []
  }
 ],
 "metadata": {
  "kernelspec": {
   "display_name": "Python 3 (ipykernel)",
   "language": "python",
   "name": "python3"
  },
  "language_info": {
   "codemirror_mode": {
    "name": "ipython",
    "version": 3
   },
   "file_extension": ".py",
   "mimetype": "text/x-python",
   "name": "python",
   "nbconvert_exporter": "python",
   "pygments_lexer": "ipython3",
   "version": "3.9.7"
  }
 },
 "nbformat": 4,
 "nbformat_minor": 5
}
