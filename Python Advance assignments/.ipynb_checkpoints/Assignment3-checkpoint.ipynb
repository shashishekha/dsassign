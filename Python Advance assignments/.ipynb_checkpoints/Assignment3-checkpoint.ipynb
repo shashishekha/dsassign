{
 "cells": [
  {
   "cell_type": "markdown",
   "id": "5784ea4f",
   "metadata": {},
   "source": [
    "### 1. What is the concept of an abstract superclass?"
   ]
  },
  {
   "cell_type": "markdown",
   "id": "e9796bde",
   "metadata": {},
   "source": [
    "<b>ANS : </b>An abstract class can be considered as a blueprint for other classes. It allows us to create a set of methods that must be created within any child class built from the abstract class.\n",
    "\n",
    "A class which contain one or more abstract method is called abstract class."
   ]
  },
  {
   "cell_type": "code",
   "execution_count": 1,
   "id": "7b9d495c",
   "metadata": {},
   "outputs": [
    {
     "name": "stdout",
     "output_type": "stream",
     "text": [
      "I have 3 sides\n"
     ]
    }
   ],
   "source": [
    "from abc import ABC, abstractmethod\n",
    "\n",
    "class Polygon(ABC):\n",
    "    @abstractmethod\n",
    "    def noofsides(self):\n",
    "        pass\n",
    "class triangle(Polygon):\n",
    "    def noofsides(self):\n",
    "        print(\"I have 3 sides\")\n",
    "   \n",
    "R = triangle()\n",
    "R.noofsides()"
   ]
  },
  {
   "cell_type": "markdown",
   "id": "4396c35a",
   "metadata": {},
   "source": [
    "### 2. What happens when a class statement's top level contains a basic assignment statement?"
   ]
  },
  {
   "cell_type": "markdown",
   "id": "4286ce5e",
   "metadata": {},
   "source": [
    "<b>ANS : </b>when a class statement's top level contains a basic assignment statement , it is usually treated as a class attribute or class level variable.\n",
    "\n",
    "Where as assignment statements inside methods are treated as instance attributes or local attributes.\n",
    "\n",
    "When an instance of a class is created a single copy of class attributes is maintained and shared to all instances of class. Where as each instance object maintains its own copy of instance variables"
   ]
  },
  {
   "cell_type": "code",
   "execution_count": 3,
   "id": "782b1e84",
   "metadata": {},
   "outputs": [],
   "source": [
    "class car:\n",
    "    color = 'black' #class attribute\n",
    "    def __init__(self,name,price):\n",
    "        self.name = name  #instance attribute\n",
    "        self.price = price"
   ]
  },
  {
   "cell_type": "markdown",
   "id": "3b7b4aec",
   "metadata": {},
   "source": [
    "\n",
    "### 3. Why does a class need to manually call a superclass's __init__ method?"
   ]
  },
  {
   "cell_type": "markdown",
   "id": "b6eabf6d",
   "metadata": {},
   "source": [
    "<b>ANS : </b>The init method of the child class overrides the init method of the parent class. That is why we have to manually call a parent superclass's init using super() keyword."
   ]
  },
  {
   "cell_type": "code",
   "execution_count": 6,
   "id": "6e9a9ef0",
   "metadata": {},
   "outputs": [
    {
     "name": "stdout",
     "output_type": "stream",
     "text": [
      "{'name': 'Arjun', 'age': 45, 'job': 'yes'}\n"
     ]
    }
   ],
   "source": [
    "class Person:\n",
    "    def __init__(self, name, age):\n",
    "        self.name = name\n",
    "        self.age = age\n",
    "class Father(Person):\n",
    "    def __init__(self,name, age, job):\n",
    "        super().__init__(name,age)\n",
    "        self.job = job\n",
    "\n",
    "F1 = Father('Arjun',45,'yes')\n",
    "print(F1.__dict__)"
   ]
  },
  {
   "cell_type": "markdown",
   "id": "1e5ff064",
   "metadata": {},
   "source": [
    "\n",
    "### 4. How can you augment, instead of completely replacing, an inherited method?"
   ]
  },
  {
   "cell_type": "markdown",
   "id": "b93e083f",
   "metadata": {},
   "source": [
    "<b>ANS : </b>we can use super() method that can be used to augment, instead of completely replacing, an inherited method."
   ]
  },
  {
   "cell_type": "code",
   "execution_count": 7,
   "id": "a6612c6d",
   "metadata": {},
   "outputs": [
    {
     "name": "stdout",
     "output_type": "stream",
     "text": [
      "{'name': 'Arjun', 'age': 45, 'job': 'yes'}\n"
     ]
    }
   ],
   "source": [
    "class Person:\n",
    "    def __init__(self, name, age):\n",
    "        self.name = name\n",
    "        self.age = age\n",
    "class Father(Person):\n",
    "    def __init__(self,name, age, job):\n",
    "        super().__init__(name,age)\n",
    "        self.job = job\n",
    "\n",
    "F1 = Father('Arjun',45,'yes')\n",
    "print(F1.__dict__)"
   ]
  },
  {
   "cell_type": "markdown",
   "id": "68593612",
   "metadata": {},
   "source": [
    "### 5. How is the local scope of a class different from that of a function?"
   ]
  },
  {
   "cell_type": "markdown",
   "id": "0395bccf",
   "metadata": {},
   "source": [
    "<b>ANS : </b>The variable which is defined inside a function is local to that function.It exists as long as the function exists.\n",
    "\n",
    "Similarly a variable inside of a class also has a local variable scope. Variables which are defined in the class body are called as class level variables or class attributes. They can be called by there bare name within the same scope,but they can also be accessed from outside this scope if we use the attribute access operator(.) on an instance of the class."
   ]
  },
  {
   "cell_type": "code",
   "execution_count": 8,
   "id": "aedd5300",
   "metadata": {},
   "outputs": [
    {
     "ename": "AttributeError",
     "evalue": "type object 'Fruits' has no attribute 'kingdom'",
     "output_type": "error",
     "traceback": [
      "\u001b[1;31m---------------------------------------------------------------------------\u001b[0m",
      "\u001b[1;31mAttributeError\u001b[0m                            Traceback (most recent call last)",
      "\u001b[1;32m~\\AppData\\Local\\Temp/ipykernel_14252/3475137770.py\u001b[0m in \u001b[0;36m<module>\u001b[1;34m\u001b[0m\n\u001b[0;32m      3\u001b[0m     \u001b[1;32mdef\u001b[0m \u001b[0m__init__\u001b[0m\u001b[1;33m(\u001b[0m\u001b[0mself\u001b[0m\u001b[1;33m)\u001b[0m\u001b[1;33m:\u001b[0m\u001b[1;33m\u001b[0m\u001b[1;33m\u001b[0m\u001b[0m\n\u001b[0;32m      4\u001b[0m         \u001b[1;32mpass\u001b[0m\u001b[1;33m\u001b[0m\u001b[1;33m\u001b[0m\u001b[0m\n\u001b[1;32m----> 5\u001b[1;33m \u001b[0mprint\u001b[0m\u001b[1;33m(\u001b[0m\u001b[0mFruits\u001b[0m\u001b[1;33m.\u001b[0m\u001b[0mkingdom\u001b[0m\u001b[1;33m)\u001b[0m \u001b[1;31m#accessing kigdom using class name\u001b[0m\u001b[1;33m\u001b[0m\u001b[1;33m\u001b[0m\u001b[0m\n\u001b[0m\u001b[0;32m      6\u001b[0m \u001b[0mMango\u001b[0m \u001b[1;33m=\u001b[0m \u001b[0mFruits\u001b[0m\u001b[1;33m(\u001b[0m\u001b[1;33m)\u001b[0m\u001b[1;33m\u001b[0m\u001b[1;33m\u001b[0m\u001b[0m\n\u001b[0;32m      7\u001b[0m \u001b[0mprint\u001b[0m\u001b[1;33m(\u001b[0m\u001b[0mMango\u001b[0m\u001b[1;33m.\u001b[0m\u001b[0mkingdom\u001b[0m\u001b[1;33m)\u001b[0m  \u001b[1;31m#accessing kingdom using instance of a class\u001b[0m\u001b[1;33m\u001b[0m\u001b[1;33m\u001b[0m\u001b[0m\n",
      "\u001b[1;31mAttributeError\u001b[0m: type object 'Fruits' has no attribute 'kingdom'"
     ]
    }
   ],
   "source": [
    "class Fruits:\n",
    "    Kingdom = 'Plantae'\n",
    "    def __init__(self):\n",
    "        pass\n",
    "print(Fruits.kingdom) #accessing kigdom using class name\n",
    "Mango = Fruits()\n",
    "print(Mango.kingdom)  #accessing kingdom using instance of a class"
   ]
  },
  {
   "cell_type": "code",
   "execution_count": null,
   "id": "9eb27c87",
   "metadata": {},
   "outputs": [],
   "source": []
  }
 ],
 "metadata": {
  "kernelspec": {
   "display_name": "Python 3 (ipykernel)",
   "language": "python",
   "name": "python3"
  },
  "language_info": {
   "codemirror_mode": {
    "name": "ipython",
    "version": 3
   },
   "file_extension": ".py",
   "mimetype": "text/x-python",
   "name": "python",
   "nbconvert_exporter": "python",
   "pygments_lexer": "ipython3",
   "version": "3.9.7"
  }
 },
 "nbformat": 4,
 "nbformat_minor": 5
}
