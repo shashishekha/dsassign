{
 "cells": [
  {
   "cell_type": "markdown",
   "id": "f385cd94",
   "metadata": {},
   "source": [
    "### Q1. Explain the difference between greedy and non-greedy syntax with visual terms in as few words\n",
    "### as possible. What is the bare minimum effort required to transform a greedy pattern into a non-greedy\n",
    "### one? What characters or characters can you introduce or change?\n"
   ]
  },
  {
   "cell_type": "markdown",
   "id": "e18d04c7",
   "metadata": {},
   "source": [
    "\n",
    "### Q2. When exactly does greedy versus non-greedy make a difference?  What if you&#39;re looking for a\n",
    "### non-greedy match but the only one available is greedy?\n",
    "\n"
   ]
  },
  {
   "cell_type": "markdown",
   "id": "bb61b559",
   "metadata": {},
   "source": [
    "### Q3. In a simple match of a string, which looks only for one match and does not do any replacement, is\n",
    "### the use of a nontagged group likely to make any practical difference?\n",
    "\n"
   ]
  },
  {
   "cell_type": "markdown",
   "id": "5013e8c9",
   "metadata": {},
   "source": [
    "### Q4. Describe a scenario in which using a nontagged category would have a significant impact on the\n",
    "### program&#39;s outcomes.\n",
    "\n"
   ]
  },
  {
   "cell_type": "markdown",
   "id": "6317abf4",
   "metadata": {},
   "source": [
    "### Q5. Unlike a normal regex pattern, a look-ahead condition does not consume the characters it\n",
    "### examines. Describe a situation in which this could make a difference in the results of your\n",
    "### programme.\n",
    "\n"
   ]
  },
  {
   "cell_type": "markdown",
   "id": "376f8c7d",
   "metadata": {},
   "source": [
    "### Q6. In standard expressions, what is the difference between positive look-ahead and negative look-\n",
    "### ahead?\n",
    "\n"
   ]
  },
  {
   "cell_type": "markdown",
   "id": "78a70232",
   "metadata": {},
   "source": [
    "### Q7. What is the benefit of referring to groups by name rather than by number in a standard\n",
    "### expression?\n",
    "\n"
   ]
  },
  {
   "cell_type": "markdown",
   "id": "3f3c1e23",
   "metadata": {},
   "source": [
    "### Q8. Can you identify repeated items within a target string using named groups, as in &quot;The cow\n",
    "### jumped over the moon&quot;?\n",
    "\n"
   ]
  },
  {
   "cell_type": "markdown",
   "id": "d59a6a1d",
   "metadata": {},
   "source": [
    "### Q9. When parsing a string, what is at least one thing that the Scanner interface does for you that the\n",
    "### re.findall feature does not?\n",
    "\n"
   ]
  },
  {
   "cell_type": "markdown",
   "id": "52346d3b",
   "metadata": {},
   "source": [
    "### Q10. Does a scanner object have to be named scanner?"
   ]
  },
  {
   "cell_type": "markdown",
   "id": "83b8bda5",
   "metadata": {},
   "source": []
  }
 ],
 "metadata": {
  "kernelspec": {
   "display_name": "Python 3 (ipykernel)",
   "language": "python",
   "name": "python3"
  },
  "language_info": {
   "codemirror_mode": {
    "name": "ipython",
    "version": 3
   },
   "file_extension": ".py",
   "mimetype": "text/x-python",
   "name": "python",
   "nbconvert_exporter": "python",
   "pygments_lexer": "ipython3",
   "version": "3.9.7"
  }
 },
 "nbformat": 4,
 "nbformat_minor": 5
}
