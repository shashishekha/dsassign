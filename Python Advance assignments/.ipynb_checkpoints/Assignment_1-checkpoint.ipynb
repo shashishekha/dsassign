{
 "cells": [
  {
   "cell_type": "markdown",
   "id": "57c7a571",
   "metadata": {},
   "source": [
    "### Q1. What is the purpose of Python's OOP?\n",
    "\n",
    "\n",
    "\n",
    "\n"
   ]
  },
  {
   "cell_type": "markdown",
   "id": "313ccc8e",
   "metadata": {},
   "source": [
    "<b>ANS: </b>Python is a multi paradigm programming language. It supports different programming approaches. Object oriented programming is a programming paradigm that provides a means of structuring programs so that properties and behaviours are bundled into individual objects.\n",
    "\n",
    "1.OOP language allows to break the program into the bit-sized problems that can be solved easily (one object at a time).\n",
    "\n",
    "2.It is very easy to partition the work in a project based on objects.\n",
    "\n",
    "3.The principle of data hiding helps the programmer to build secure programs which cannot be invaded by the code in other parts of the program.\n",
    "\n",
    "4.It is possible to map the objects in problem domain to those in the program.\n",
    "\n",
    "5.By using inheritance, we can eliminate redundant code and extend the use of existing classes.\n",
    "\n",
    "6.Message passing techniques is used for communication between objects which makes the interface descriptions with external systems much simpler.\n",
    "\n",
    "7.The data-centered design approach enables us to capture more details of model in an implementable form.\n"
   ]
  },
  {
   "cell_type": "markdown",
   "id": "4c9ce427",
   "metadata": {},
   "source": [
    "### Q2. Where does an inheritance search look for an attribute?\n",
    "\n",
    "\n"
   ]
  },
  {
   "cell_type": "markdown",
   "id": "87bc2b23",
   "metadata": {},
   "source": [
    "<b>ANS: </b>Python searches for an attribute in an upward tree of attributes, it first searches for the attribute in its instance , then it looks in the class from which it is generated, to all super classes listed in ints class header."
   ]
  },
  {
   "cell_type": "markdown",
   "id": "64fb55de",
   "metadata": {},
   "source": [
    "\n",
    "### Q3. How do you distinguish between a class object and an instance object?\n",
    "\n",
    "\n",
    "\n"
   ]
  },
  {
   "cell_type": "markdown",
   "id": "d6e6be73",
   "metadata": {},
   "source": [
    "<b>ANS: </b>The difference between class object and instance object are as follows:\n",
    "\n",
    "1.Class is a template for creating objects whereas object is an instance of class\n",
    "\n",
    "2.Seperate memory is allocated for each object whenever an object is created. but for a class this doesnot happens.\n",
    "\n",
    "3.A Class is created once. Many objects are created using a class.\n",
    "\n",
    "4.As Classes have no allocated memory. they can't be manipulated. but objects can be manipulated."
   ]
  },
  {
   "cell_type": "markdown",
   "id": "de025fbf",
   "metadata": {},
   "source": [
    "### Q4. What makes the first argument in a class’s method function special?\n",
    "\n",
    "\n"
   ]
  },
  {
   "cell_type": "markdown",
   "id": "4ad17d56",
   "metadata": {},
   "source": [
    "<b>ANS: </b>The first argument of every class method, including init, is always a reference to the current instance of the class. By convention, this argument is always named self. In the init method, self refers to the newly created object; in other class methods, it refers to the instance whose method was called."
   ]
  },
  {
   "cell_type": "markdown",
   "id": "7ec9b58a",
   "metadata": {},
   "source": [
    "\n",
    "### Q5. What is the purpose of the __init__ method?\n",
    "\n",
    "\n",
    "\n"
   ]
  },
  {
   "cell_type": "markdown",
   "id": "6f06a57b",
   "metadata": {},
   "source": [
    "<b>ANS: </b>The __init__ function is called every time an object is created from a class. The __init__ method lets the class initialize the object's attributes and serves no other purpose. It is only used within classes."
   ]
  },
  {
   "cell_type": "markdown",
   "id": "15adace1",
   "metadata": {},
   "source": [
    "### Q6. What is the process for creating a class instance?\n",
    "\n",
    "\n"
   ]
  },
  {
   "cell_type": "markdown",
   "id": "4e7498be",
   "metadata": {},
   "source": [
    "<b>ANS: </b>TUse the class name to create a new instance\n",
    "\n",
    "Call ClassName() to create a new instance of the class ClassName . To pass parameters to the class instance, the class must have an __init__() method. Pass the parameters in the constructor of the class."
   ]
  },
  {
   "cell_type": "markdown",
   "id": "c33e9e4b",
   "metadata": {},
   "source": [
    "\n",
    "### Q7. What is the process for creating a class?\n",
    "\n",
    "\n"
   ]
  },
  {
   "cell_type": "markdown",
   "id": "8a631d6f",
   "metadata": {},
   "source": [
    "<b>ANS: </b>To create a class use class keyword. The syntax to create a class in python is : class <classname>:"
   ]
  },
  {
   "cell_type": "markdown",
   "id": "4798feff",
   "metadata": {},
   "source": [
    "\n",
    "### Q8. How would you define the superclasses of a class?"
   ]
  },
  {
   "cell_type": "markdown",
   "id": "eeee0468",
   "metadata": {},
   "source": [
    "<b>ANS: </b>Superclass/Parent class is given as a arugment to the child class.\n",
    "example: class Dog(Animal): Here child class Dog inherits attributes and methods from superclass Animal"
   ]
  },
  {
   "cell_type": "code",
   "execution_count": null,
   "id": "479594c8",
   "metadata": {},
   "outputs": [],
   "source": []
  }
 ],
 "metadata": {
  "kernelspec": {
   "display_name": "Python 3 (ipykernel)",
   "language": "python",
   "name": "python3"
  },
  "language_info": {
   "codemirror_mode": {
    "name": "ipython",
    "version": 3
   },
   "file_extension": ".py",
   "mimetype": "text/x-python",
   "name": "python",
   "nbconvert_exporter": "python",
   "pygments_lexer": "ipython3",
   "version": "3.9.7"
  }
 },
 "nbformat": 4,
 "nbformat_minor": 5
}
