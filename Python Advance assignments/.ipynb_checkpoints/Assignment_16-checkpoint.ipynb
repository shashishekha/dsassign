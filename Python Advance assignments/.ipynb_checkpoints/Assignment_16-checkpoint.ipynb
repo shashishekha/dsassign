{
 "cells": [
  {
   "cell_type": "markdown",
   "id": "eb88b016",
   "metadata": {},
   "source": [
    "### Q1. What is the benefit of regular expressions?\n",
    "\n"
   ]
  },
  {
   "cell_type": "markdown",
   "id": "5bec132f",
   "metadata": {},
   "source": [
    "### Q2. Describe the difference between the effects of &quot;(ab)c+&quot; and &quot;a(bc)+.&quot; Which of these, if any, is the\n",
    "### unqualified pattern &quot;abc+&quot;?\n",
    "\n"
   ]
  },
  {
   "cell_type": "markdown",
   "id": "43fda25d",
   "metadata": {},
   "source": [
    "### Q3. How much do you need to use the following sentence while using regular expressions?\n",
    "\n",
    "### import re\n",
    "\n"
   ]
  },
  {
   "cell_type": "markdown",
   "id": "2c3af0a7",
   "metadata": {},
   "source": [
    "### Q4. Which characters have special significance in square brackets when expressing a range, and\n",
    "### under what circumstances?\n",
    "\n"
   ]
  },
  {
   "cell_type": "markdown",
   "id": "4fe36ed8",
   "metadata": {},
   "source": [
    "### Q5. How does compiling a regular-expression object benefit you?\n",
    "\n"
   ]
  },
  {
   "cell_type": "markdown",
   "id": "e71ee6e0",
   "metadata": {},
   "source": [
    "### Q6. What are some examples of how to use the match object returned by re.match and re.search?\n",
    "\n"
   ]
  },
  {
   "cell_type": "markdown",
   "id": "d980d01b",
   "metadata": {},
   "source": [
    "### Q7. What is the difference between using a vertical bar (|) as an alteration and using square brackets\n",
    "### as a character set?\n",
    "\n"
   ]
  },
  {
   "cell_type": "markdown",
   "id": "8a1893e6",
   "metadata": {},
   "source": [
    "### Q8. In regular-expression search patterns, why is it necessary to use the raw-string indicator (r)? In  \n",
    "### replacement strings?"
   ]
  },
  {
   "cell_type": "code",
   "execution_count": null,
   "id": "7b7f8ef3",
   "metadata": {},
   "outputs": [],
   "source": []
  }
 ],
 "metadata": {
  "kernelspec": {
   "display_name": "Python 3 (ipykernel)",
   "language": "python",
   "name": "python3"
  },
  "language_info": {
   "codemirror_mode": {
    "name": "ipython",
    "version": 3
   },
   "file_extension": ".py",
   "mimetype": "text/x-python",
   "name": "python",
   "nbconvert_exporter": "python",
   "pygments_lexer": "ipython3",
   "version": "3.9.7"
  }
 },
 "nbformat": 4,
 "nbformat_minor": 5
}
