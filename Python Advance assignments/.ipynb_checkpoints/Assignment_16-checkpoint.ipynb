{
 "cells": [
  {
   "cell_type": "markdown",
   "id": "eb88b016",
   "metadata": {},
   "source": [
    "### Q1. What is the benefit of regular expressions?\n",
    "\n"
   ]
  },
  {
   "cell_type": "markdown",
   "id": "a1b21716",
   "metadata": {},
   "source": [
    "<b>ans :</b>A Regular Expression is used for identifying a search pattern in a text string. It also helps in finding out the correctness of the data and even operations such as finding, replacing and formatting the data is possible using Regular Expressions"
   ]
  },
  {
   "cell_type": "markdown",
   "id": "5bec132f",
   "metadata": {},
   "source": [
    "### Q2. Describe the difference between the effects of &quot;(ab)c+&quot; and &quot;a(bc)+.&quot; Which of these, if any, is the\n",
    "### unqualified pattern &quot;abc+&quot;?\n",
    "\n"
   ]
  },
  {
   "cell_type": "markdown",
   "id": "8e79c2ae",
   "metadata": {},
   "source": [
    "<b>ans :</b>Both of them are valid. The difference between both of these patterns is in (ab)c+ , ab is group whereas in a(bc)+, bc is a group."
   ]
  },
  {
   "cell_type": "markdown",
   "id": "43fda25d",
   "metadata": {},
   "source": [
    "### Q3. How much do you need to use the following sentence while using regular expressions?\n",
    "\n",
    "### import re\n",
    "\n"
   ]
  },
  {
   "cell_type": "markdown",
   "id": "5eb7f2ca",
   "metadata": {},
   "source": [
    "<b>ans :</b>import re statement always has to be imported before using regular expressions."
   ]
  },
  {
   "cell_type": "markdown",
   "id": "2c3af0a7",
   "metadata": {},
   "source": [
    "### Q4. Which characters have special significance in square brackets when expressing a range, and\n",
    "### under what circumstances?\n",
    "\n"
   ]
  },
  {
   "cell_type": "markdown",
   "id": "5bd31c17",
   "metadata": {},
   "source": [
    "<b>ans :</b> .,*?,^,() these characters have a special significance when used with square brackets. They need not be explicitly escaped by \\ as in case of pattern texts in a raw string."
   ]
  },
  {
   "cell_type": "markdown",
   "id": "4fe36ed8",
   "metadata": {},
   "source": [
    "### Q5. How does compiling a regular-expression object benefit you?\n",
    "\n"
   ]
  },
  {
   "cell_type": "markdown",
   "id": "3fdbd9e9",
   "metadata": {},
   "source": [
    "<b>ans :</b>We can Combine a regular expression pattern into pattern Objects.Which can be used for pattern matching. it also helps to search a pattern again without rewritting it."
   ]
  },
  {
   "cell_type": "markdown",
   "id": "e71ee6e0",
   "metadata": {},
   "source": [
    "### Q6. What are some examples of how to use the match object returned by re.match and re.search?\n",
    "\n"
   ]
  },
  {
   "cell_type": "markdown",
   "id": "50d66b91",
   "metadata": {},
   "source": [
    "<b>ans :</b>The re.search() and re.match() both are functions of re module in python. These functions are very efficient and fast for searching in strings. The function searches for some substring in a string and returns a match object if found, else it returns none.\n",
    "\n",
    "There is a difference between the use of both functions. Both return the first match of a substring found in the string, but re.match() searches only from the beginning of the string and return match object if found. But if a match of substring is found somewhere in the middle of the string, it returns none.\n",
    "\n",
    "While re.search() searches for the whole string even if the string contains multi-lines and tries to find a match of the substring in all the lines of string"
   ]
  },
  {
   "cell_type": "markdown",
   "id": "d980d01b",
   "metadata": {},
   "source": [
    "### Q7. What is the difference between using a vertical bar (|) as an alteration and using square brackets\n",
    "### as a character set?\n",
    "\n"
   ]
  },
  {
   "cell_type": "markdown",
   "id": "841522d2",
   "metadata": {},
   "source": [
    "<b>ans :</b>When | us used then patterns searches for or option. i.e <pattern_1>|<pattern_2> means it searches as <pattern_1>or<<pattern_2> in the searched string. the first occurance of matched string will be returned as the Match Object. Using Character set in square Brackets searches for all the character set in the square bracket and if match is found, it returns it."
   ]
  },
  {
   "cell_type": "markdown",
   "id": "8a1893e6",
   "metadata": {},
   "source": [
    "### Q8. In regular-expression search patterns, why is it necessary to use the raw-string indicator (r)? In  \n",
    "### replacement strings?"
   ]
  },
  {
   "cell_type": "markdown",
   "id": "c97c4afe",
   "metadata": {},
   "source": [
    "<b>ans :</b>Raw Strings are used in the regular-expression search patterns, so that blackslashes donot have to be escaped."
   ]
  },
  {
   "cell_type": "code",
   "execution_count": null,
   "id": "7ca6d1df",
   "metadata": {},
   "outputs": [],
   "source": []
  }
 ],
 "metadata": {
  "kernelspec": {
   "display_name": "Python 3 (ipykernel)",
   "language": "python",
   "name": "python3"
  },
  "language_info": {
   "codemirror_mode": {
    "name": "ipython",
    "version": 3
   },
   "file_extension": ".py",
   "mimetype": "text/x-python",
   "name": "python",
   "nbconvert_exporter": "python",
   "pygments_lexer": "ipython3",
   "version": "3.9.7"
  }
 },
 "nbformat": 4,
 "nbformat_minor": 5
}
