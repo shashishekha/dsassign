{
 "cells": [
  {
   "cell_type": "markdown",
   "id": "d11d5538",
   "metadata": {},
   "source": [
    "### Q1. What are the two latest user-defined exception constraints in Python 3.X?\n",
    "\n",
    "\n",
    "\n",
    "\n"
   ]
  },
  {
   "cell_type": "markdown",
   "id": "a5b1e782",
   "metadata": {},
   "source": [
    "<b>Ans: </b><b>raise</b> and <b>assert</b> are the two latest user-defined exception constraints in python 3.X"
   ]
  },
  {
   "cell_type": "markdown",
   "id": "6c96ac18",
   "metadata": {},
   "source": [
    "### Q2. How are class-based exceptions that have been raised matched to handlers?\n",
    "\n",
    "\n",
    "\n"
   ]
  },
  {
   "cell_type": "markdown",
   "id": "e5945e52",
   "metadata": {},
   "source": [
    "<b>Ans: </b>In python we can define custom exceptions by creating a new class. We have to derive it directly or indirectly from built in Exception class. These exception can also be raised using raise statement."
   ]
  },
  {
   "cell_type": "code",
   "execution_count": 12,
   "id": "a89cbb93",
   "metadata": {},
   "outputs": [
    {
     "ename": "newExcept",
     "evalue": "year is 2022 or greater",
     "output_type": "error",
     "traceback": [
      "\u001b[1;31m---------------------------------------------------------------------------\u001b[0m",
      "\u001b[1;31mnewExcept\u001b[0m                                 Traceback (most recent call last)",
      "\u001b[1;32m~\\AppData\\Local\\Temp/ipykernel_5080/277887812.py\u001b[0m in \u001b[0;36m<module>\u001b[1;34m\u001b[0m\n\u001b[0;32m      4\u001b[0m \u001b[0myear\u001b[0m \u001b[1;33m=\u001b[0m\u001b[1;36m2022\u001b[0m\u001b[1;33m\u001b[0m\u001b[1;33m\u001b[0m\u001b[0m\n\u001b[0;32m      5\u001b[0m \u001b[1;32mif\u001b[0m \u001b[0myear\u001b[0m\u001b[1;33m>=\u001b[0m\u001b[1;36m2022\u001b[0m\u001b[1;33m:\u001b[0m\u001b[1;33m\u001b[0m\u001b[1;33m\u001b[0m\u001b[0m\n\u001b[1;32m----> 6\u001b[1;33m     \u001b[1;32mraise\u001b[0m \u001b[0mnewExcept\u001b[0m\u001b[1;33m(\u001b[0m\u001b[1;34m'year is 2022 or greater'\u001b[0m\u001b[1;33m)\u001b[0m\u001b[1;33m\u001b[0m\u001b[1;33m\u001b[0m\u001b[0m\n\u001b[0m",
      "\u001b[1;31mnewExcept\u001b[0m: year is 2022 or greater"
     ]
    }
   ],
   "source": [
    "class newExcept(Exception):\n",
    "    def __init__(self,a):\n",
    "        self.a  = a\n",
    "year =2022\n",
    "if year>=2022:\n",
    "    raise newExcept('year is 2022 or greater')"
   ]
  },
  {
   "cell_type": "markdown",
   "id": "453e8241",
   "metadata": {},
   "source": [
    "### Q3. Describe two methods for attaching context information to exception artefacts.\n",
    "\n",
    "\n",
    "\n"
   ]
  },
  {
   "cell_type": "markdown",
   "id": "979fcd0e",
   "metadata": {},
   "source": [
    "<b>Ans: </b>The process() method of LoggerAdapter is one of the method where the contextual information is added to the logging output. It passes the message and keyword arguments of the logging call, and it passes back modified versions of these to use in the call to the underlying logger."
   ]
  },
  {
   "cell_type": "markdown",
   "id": "e9444a18",
   "metadata": {},
   "source": [
    "The other method is exception() , Logs a message with level ERROR on this logger. The arguments are interpreted as for debug(). Exception info is added to the logging message."
   ]
  },
  {
   "cell_type": "markdown",
   "id": "512a5611",
   "metadata": {},
   "source": [
    "### Q4. Describe two methods for specifying the text of an exception object's error message.\n",
    "\n",
    "\n",
    "\n"
   ]
  },
  {
   "cell_type": "markdown",
   "id": "ac5f32b5",
   "metadata": {},
   "source": [
    "<b>Ans: </b>raise and assert are the two methods for specifying the text of an exception object's error message.\n",
    "\n",
    "The raise statement is used for explicit exception, if the condition is not behaving according to the programmer.\n",
    "\n",
    "There are few assertions that programmer always want to be True to avoid code failure. This type of requirement is fulfilled by assert statement. This statement takes a Boolean Condition output of which if True, further program executes. If output of assert statement is False it raises an Assertion Error."
   ]
  },
  {
   "cell_type": "markdown",
   "id": "fbd229fe",
   "metadata": {},
   "source": [
    "### Q5. Why do you no longer use string-based exceptions?"
   ]
  },
  {
   "cell_type": "markdown",
   "id": "d5bc460d",
   "metadata": {},
   "source": [
    "<b>Ans: </b>String based exceptions does not inherit from exceptions . so plain exceptions catch all exceptions and not only system."
   ]
  },
  {
   "cell_type": "code",
   "execution_count": null,
   "id": "60af1f55",
   "metadata": {},
   "outputs": [],
   "source": []
  }
 ],
 "metadata": {
  "kernelspec": {
   "display_name": "Python 3 (ipykernel)",
   "language": "python",
   "name": "python3"
  },
  "language_info": {
   "codemirror_mode": {
    "name": "ipython",
    "version": 3
   },
   "file_extension": ".py",
   "mimetype": "text/x-python",
   "name": "python",
   "nbconvert_exporter": "python",
   "pygments_lexer": "ipython3",
   "version": "3.9.7"
  }
 },
 "nbformat": 4,
 "nbformat_minor": 5
}
