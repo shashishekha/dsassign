{
 "cells": [
  {
   "cell_type": "markdown",
   "id": "aeabcf98",
   "metadata": {},
   "source": [
    "1. Given a sentence as txt, return True if any two adjacent words have this\n",
    "property: One word ends with a vowel, while the word immediately after\n",
    "begins with a vowel (a e i o u).\n",
    "\n",
    "Examples\n",
    "\n",
    "vowel_links(&quot;a very large appliance&quot;) ➞ True\n",
    "\n",
    "vowel_links(&quot;go to edabit&quot;) ➞ True\n",
    "\n",
    "vowel_links(&quot;an open fire&quot;) ➞ False\n",
    "\n",
    "vowel_links(&quot;a sudden applause&quot;) ➞ False\n"
   ]
  },
  {
   "cell_type": "code",
   "execution_count": null,
   "id": "912db6a6",
   "metadata": {},
   "outputs": [],
   "source": [
    "def vowel_links(in_string):\n",
    "    in_list = in_string.split(\" \")\n",
    "    vowel_list = ['a','e','i','o','u']\n",
    "    end,start,output = False, False,False\n",
    "    for ele in range(len(in_list)):\n",
    "        temp = True if in_list[ele][-1] in vowel_list else False\n",
    "        start = True if in_list[ele][0] in vowel_list else False\n",
    "        if start == end == True:\n",
    "            output=True\n",
    "            break\n",
    "        end=temp\n",
    "    print(f'vowel_links({in_string}) ➞ {output}')\n",
    "                \n",
    "vowel_links(\"a very large appliance\")\n",
    "vowel_links(\"go to edabit\")\n",
    "vowel_links(\"an open fire\")\n",
    "vowel_links(\"a sudden applause\")"
   ]
  },
  {
   "cell_type": "markdown",
   "id": "0d85492c",
   "metadata": {},
   "source": [
    "2. You are given three inputs: a string, one letter, and a second letter.\n",
    "Write a function that returns True if every instance of the first letter occurs\n",
    "before every instance of the second letter.\n",
    "\n",
    "Examples\n",
    "\n",
    "first_before_second(&quot;a rabbit jumps joyfully&quot;, &quot;a&quot;, &quot;j&quot;) ➞ True\n",
    "# Every instance of &quot;a&quot; occurs before every instance of &quot;j&quot;.\n",
    "\n",
    "first_before_second(&quot;knaves knew about waterfalls&quot;, &quot;k&quot;, &quot;w&quot;) ➞ True\n",
    "\n",
    "first_before_second(&quot;happy birthday&quot;, &quot;a&quot;, &quot;y&quot;) ➞ False\n",
    "# The &quot;a&quot; in &quot;birthday&quot; occurs after the &quot;y&quot; in &quot;happy&quot;.\n",
    "\n",
    "first_before_second(&quot;precarious kangaroos&quot;, &quot;k&quot;, &quot;a&quot;) ➞ False\n"
   ]
  },
  {
   "cell_type": "code",
   "execution_count": null,
   "id": "9270d538",
   "metadata": {},
   "outputs": [],
   "source": [
    "# Approach 1 Using index() and() rindex() functions\n",
    "def first_before_second_index(in_string,in_first,in_second):\n",
    "    last_occur_first = in_string.rindex(in_first)\n",
    "    first_occur_second = in_string.index(in_second)\n",
    "    output = True if last_occur_first < first_occur_second else False\n",
    "    print(f'first_before_second_index({in_string}, {in_first}, {in_second}) ➞ {output}')\n",
    "\n",
    "# Approach 2 Using find() and() rfind() functions\n",
    "def first_before_second_find(in_string,in_first,in_second):\n",
    "    last_occur_first = in_string.rfind(in_first)\n",
    "    first_occur_second = in_string.find(in_second)\n",
    "    output = True if last_occur_first < first_occur_second else False\n",
    "    print(f'first_before_second_find({in_string}, {in_first}, {in_second}) ➞ {output}')\n",
    "\n",
    "first_before_second_index(\"a rabbit jumps joyfully\", \"a\", \"j\")\n",
    "first_before_second_index(\"knaves knew about waterfalls\", \"k\", \"w\")\n",
    "first_before_second_index(\"happy birthday\", \"a\", \"y\")\n",
    "first_before_second_index(\"precarious kangaroos\", \"k\", \"a\")\n",
    "print()\n",
    "first_before_second_find(\"a rabbit jumps joyfully\", \"a\", \"j\")\n",
    "first_before_second_find(\"knaves knew about waterfalls\", \"k\", \"w\")\n",
    "first_before_second_find(\"happy birthday\", \"a\", \"y\")\n",
    "first_before_second_find(\"precarious kangaroos\", \"k\", \"a\")"
   ]
  },
  {
   "cell_type": "markdown",
   "id": "4a79678a",
   "metadata": {},
   "source": [
    "3. Create a function that returns the characters from a list or string r on odd or\n",
    "even positions, depending on the specifier s. The specifier will be &quot;odd&quot; for\n",
    "items on odd positions (1, 3, 5, ...) and &quot;even&quot; for items on even positions (2,\n",
    "4, 6, ...).\n",
    "\n",
    "Examples\n",
    "\n",
    "char_at_pos([2, 4, 6, 8, 10], &quot;even&quot;) ➞ [4, 8]\n",
    "# 4 &amp; 8 occupy the 2nd &amp; 4th positions\n",
    "\n",
    "char_at_pos(&quot;EDABIT&quot;, &quot;odd&quot;) ➞ &quot;EAI&quot;\n",
    "# &quot;E&quot;, &quot;A&quot; and &quot;I&quot; occupy the 1st, 3rd and 5th positions\n",
    "\n",
    "char_at_pos([&quot;A&quot;, &quot;R&quot;, &quot;B&quot;, &quot;I&quot;, &quot;T&quot;, &quot;R&quot;, &quot;A&quot;, &quot;R&quot;, &quot;I&quot;, &quot;L&quot;, &quot;Y&quot;], &quot;odd&quot;) ➞ [&quot;A&quot;,\n",
    "&quot;B&quot;, &quot;T&quot;, &quot;A&quot;, &quot;I&quot;, &quot;Y&quot;]\n"
   ]
  },
  {
   "cell_type": "code",
   "execution_count": null,
   "id": "0191e01d",
   "metadata": {},
   "outputs": [],
   "source": [
    "def char_at_pos(in_list,mode):\n",
    "    out_list = []\n",
    "    for ele in range(len(in_list)):\n",
    "        if mode == 'even' and (ele+1)%2 == 0:\n",
    "            out_list.append(in_list[ele])\n",
    "        elif mode == 'odd' and (ele+1)%2 != 0:\n",
    "            out_list.append(in_list[ele])            \n",
    "    print(f'char_at_pos{in_list,mode} ➞ {out_list}')\n",
    "        \n",
    "        \n",
    "char_at_pos([2, 4, 6, 8, 10], \"even\")\n",
    "char_at_pos(\"EDABIT\", \"odd\")\n",
    "char_at_pos([\"A\", \"R\", \"B\", \"I\", \"T\", \"R\", \"A\", \"R\", \"I\", \"L\", \"Y\"], \"odd\")"
   ]
  },
  {
   "cell_type": "markdown",
   "id": "1afe8db7",
   "metadata": {},
   "source": [
    "4. Write a function that returns the greatest common divisor of all list\n",
    "elements. If the greatest common divisor is 1, return 1.\n",
    "\n",
    "Examples\n",
    "\n",
    "GCD([10, 20, 40]) ➞ 10\n",
    "\n",
    "GCD([1, 2, 3, 100]) ➞ 1\n",
    "\n",
    "GCD([1024, 192, 2048, 512]) ➞ 64\n"
   ]
  },
  {
   "cell_type": "code",
   "execution_count": null,
   "id": "867887b9",
   "metadata": {},
   "outputs": [],
   "source": [
    "def GCD(in_list):\n",
    "    small = min(in_list)\n",
    "    gcd = -1\n",
    "    for i in range(1, small+1):\n",
    "        output = []\n",
    "        for ele in in_list:\n",
    "            output.append(ele%i)\n",
    "        if len(set(output)) == 1 and list(set(output))[0] == 0:\n",
    "            gcd = i\n",
    "    print(f'GCD({in_list}) ➞ {gcd}')\n",
    "    \n",
    "GCD([10, 20, 40])\n",
    "GCD([1, 2, 3, 100])\n",
    "GCD([1024, 192, 2048, 512])"
   ]
  },
  {
   "cell_type": "markdown",
   "id": "3da18c0b",
   "metadata": {},
   "source": [
    "5. A number/string is a palindrome if the digits/characters are the same when\n",
    "read both forward and backward. Examples include &quot;racecar&quot; and 12321.\n",
    "Given a positive number n, check if n or the binary representation of n is\n",
    "palindromic. Return the following:\n",
    "\n",
    "    - &quot;Decimal only.&quot; if only n is a palindrome.\n",
    "\n",
    "    - &quot;Binary only.&quot; if only the binary representation of n is a palindrome.\n",
    "\n",
    "    - &quot;Decimal and binary.&quot; if both are palindromes.\n",
    "\n",
    "    - &quot;Neither!&quot; if neither are palindromes.\n",
    "\n",
    "    Examples\n",
    "\n",
    "    palindrome_type(1306031) ➞ &quot;Decimal only.&quot;\n",
    "# decimal = 1306031\n",
    "# binary = &quot;100111110110110101111&quot;\n",
    "\n",
    "palindrome_type(427787) ➞ &quot;Binary only.&quot;\n",
    "# decimal = 427787\n",
    "# binary = &quot;1101000011100001011&quot;\n",
    "\n",
    "palindrome_type(313) ➞ &quot;Decimal and binary.&quot;\n",
    "# decimal = 313\n",
    "# binary = 100111001\n",
    "\n",
    "palindrome_type(934) ➞ &quot;Neither!&quot;\n",
    "# decimal = 934\n",
    "# binary = &quot;1110100110&quot;"
   ]
  },
  {
   "cell_type": "code",
   "execution_count": null,
   "id": "ea18bdbc",
   "metadata": {},
   "outputs": [],
   "source": [
    "def palindrome_type(in_num):\n",
    "    output = None\n",
    "    if str(in_num) == str(in_num)[::-1] and str(bin(in_num)[2:]) == str(bin(in_num)[2:])[::-1]:\n",
    "        output = 'Decimal and binary.'\n",
    "    elif str(in_num) == str(in_num)[::-1] and str(bin(in_num)[2:]) != str(bin(in_num)[2:])[::-1]:\n",
    "        output = 'Decimal only.'\n",
    "    elif str(bin(in_num)[2:]) != str(bin(in_num)[2:])[::-1] and str(in_num) == str(in_num)[::-1]:\n",
    "        output = 'Binary only.'\n",
    "    else:\n",
    "        output = 'Neither!'\n",
    "    print(f'palindrome({in_num}) ➞ {output}')\n",
    "\n",
    "palindrome_type(1306031)\n",
    "palindrome_type(427787)\n",
    "palindrome_type(313)\n",
    "palindrome_type(934)"
   ]
  },
  {
   "cell_type": "code",
   "execution_count": null,
   "id": "e94fd00a",
   "metadata": {},
   "outputs": [],
   "source": []
  }
 ],
 "metadata": {
  "kernelspec": {
   "display_name": "Python 3 (ipykernel)",
   "language": "python",
   "name": "python3"
  },
  "language_info": {
   "codemirror_mode": {
    "name": "ipython",
    "version": 3
   },
   "file_extension": ".py",
   "mimetype": "text/x-python",
   "name": "python",
   "nbconvert_exporter": "python",
   "pygments_lexer": "ipython3",
   "version": "3.9.7"
  }
 },
 "nbformat": 4,
 "nbformat_minor": 5
}
