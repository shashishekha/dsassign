{
 "cells": [
  {
   "cell_type": "markdown",
   "id": "b889dfcd",
   "metadata": {},
   "source": [
    "1. Create a function that takes a number n (integer greater than zero) as an\n",
    "argument, and returns 2 if n is odd and 8 if n is even.\n",
    "\n",
    "You can only use the following arithmetic operators: addition of numbers +,\n",
    "subtraction of numbers -, multiplication of number *, division of number /, and\n",
    "exponentiation **.\n",
    "\n",
    "You are not allowed to use any other methods in this challenge (i.e. no if\n",
    "statements, comparison operators, etc).\n",
    "\n",
    "Examples\n",
    "\n",
    "f(1) ➞ 2\n",
    "\n",
    "f(2) ➞ 8\n",
    "\n",
    "f(3) ➞ 2\n",
    "\n"
   ]
  },
  {
   "cell_type": "code",
   "execution_count": 1,
   "id": "15ad6406",
   "metadata": {},
   "outputs": [
    {
     "name": "stdout",
     "output_type": "stream",
     "text": [
      "f(1) ➞ 2\n",
      "f(2) ➞ 8\n",
      "f(3) ➞ 2\n"
     ]
    }
   ],
   "source": [
    "def f(num):\n",
    "    lst = [8,2]\n",
    "    print(f'f({num}) ➞ {lst[num&1]}' )\n",
    "\n",
    "f(1)\n",
    "f(2)\n",
    "f(3)"
   ]
  },
  {
   "cell_type": "markdown",
   "id": "bbfbfe39",
   "metadata": {},
   "source": [
    "2. Create a function that returns the majority vote in a list. A majority vote is\n",
    "an element that occurs &gt; N/2 times in a list (where N is the length of the list).\n",
    "\n",
    "Examples\n",
    "\n",
    "majority_vote([&quot;A&quot;, &quot;A&quot;, &quot;B&quot;]) ➞ &quot;A&quot;\n",
    "\n",
    "majority_vote([&quot;A&quot;, &quot;A&quot;, &quot;A&quot;, &quot;B&quot;, &quot;C&quot;, &quot;A&quot;]) ➞ &quot;A&quot;\n",
    "\n",
    "majority_vote([&quot;A&quot;, &quot;B&quot;, &quot;B&quot;, &quot;A&quot;, &quot;C&quot;, &quot;C&quot;]) ➞ None\n",
    "\n"
   ]
  },
  {
   "cell_type": "code",
   "execution_count": 2,
   "id": "c3a31626",
   "metadata": {},
   "outputs": [
    {
     "name": "stdout",
     "output_type": "stream",
     "text": [
      "majority_vote(['A', 'A', 'B']) ➞ A\n",
      "majority_vote(['A', 'A', 'A', 'B', 'C', 'A']) ➞ A\n",
      "majority_vote(['A', 'B', 'B', 'A', 'C', 'C']) ➞ None\n"
     ]
    }
   ],
   "source": [
    "def majority_vote(lst):\n",
    "    lst1 = None\n",
    "    for ele in set(lst):\n",
    "        if lst.count(ele) > (len(lst)/2):\n",
    "            lst1 = ele\n",
    "    print(f'majority_vote({lst}) ➞ {lst1}')\n",
    "\n",
    "majority_vote([\"A\", \"A\", \"B\"])\n",
    "majority_vote([\"A\", \"A\", \"A\", \"B\", \"C\", \"A\"])\n",
    "majority_vote([\"A\", \"B\", \"B\", \"A\", \"C\", \"C\"])"
   ]
  },
  {
   "cell_type": "markdown",
   "id": "1b8feb8e",
   "metadata": {},
   "source": [
    "3. Create a function that takes a string txt and censors any word from a given\n",
    "list lst. The text removed must be replaced by the given character char.\n",
    "\n",
    "Examples\n",
    "\n",
    "censor_string(&quot;Today is a Wednesday!&quot;, [&quot;Today&quot;, &quot;a&quot;], &quot;-&quot;) ➞ &quot;----- is -\n",
    "Wednesday!&quot;\n",
    "\n",
    "censor_string(&quot;The cow jumped over the moon.&quot;, [&quot;cow&quot;, &quot;over&quot;], &quot;*&quot;), &quot;The ***\n",
    "jumped **** the moon.&quot;)\n",
    "\n",
    "censor_string(&quot;Why did the chicken cross the road?&quot;, [&quot;Did&quot;, &quot;chicken&quot;,\n",
    "&quot;road&quot;], &quot;*&quot;) ➞ &quot;Why *** the ******* cross the ****?&quot;\n",
    "\n"
   ]
  },
  {
   "cell_type": "code",
   "execution_count": 3,
   "id": "7291ebcc",
   "metadata": {},
   "outputs": [
    {
     "name": "stdout",
     "output_type": "stream",
     "text": [
      "censor_string(Today is a Wednesday!) ➞ ----- is - Wednesday!\n",
      "censor_string(The cow jumped over the moon.) ➞ The *** jumped **** the moon.\n",
      "censor_string(Why did the chicken cross the road ?) ➞ Why *** the ******* cross the **** ?\n"
     ]
    }
   ],
   "source": [
    "def censor_string(in_string_1, in_string_2, rep_char):\n",
    "    out_string = []\n",
    "    for ele in in_string_1.split():\n",
    "        if ele.title() in in_string_2 or ele.lower() in in_string_2 or ele.upper() in in_string_2:\n",
    "            out_string.append(rep_char*len(ele))\n",
    "        else:\n",
    "            out_string.append(ele)\n",
    "    print(f'censor_string({in_string_1}) ➞ {\" \".join(out_string)}')\n",
    "\n",
    "censor_string(\"Today is a Wednesday!\", [\"Today\", \"a\"], \"-\")\n",
    "censor_string(\"The cow jumped over the moon.\", [\"cow\", \"over\"], \"*\")\n",
    "censor_string(\"Why did the chicken cross the road ?\", [\"Did\", \"chicken\", \"road\"], \"*\")"
   ]
  },
  {
   "cell_type": "markdown",
   "id": "faa6a562",
   "metadata": {},
   "source": [
    "4. In mathematics a Polydivisible Number (or magic number) is a number in a\n",
    "given number base with digits abcde... that has the following properties:\n",
    "    \n",
    "- Its first digit a is not 0.\n",
    "\n",
    "- The number formed by its first two digits ab is a multiple of 2.\n",
    "\n",
    "- The number formed by its first three digits abc is a multiple of 3.\n",
    "\n",
    "- The number formed by its first four digits abcd is a multiple of 4.\n",
    "\n",
    "Create a function which takes an integer n and returns True if the given\n",
    "number is a Polydivisible Number and False otherwise.\n",
    "\n",
    "Examples\n",
    "\n",
    "is_polydivisible(1232) ➞ True\n",
    "# 1 / 1 = 1\n",
    "# 12 / 2 = 6\n",
    "# 123 / 3 = 41\n",
    "# 1232 / 4 = 308\n",
    "\n",
    "is_polydivisible(123220 ) ➞ False\n",
    "# 1 / 1 = 1\n",
    "# 12 / 2 = 6\n",
    "# 123 / 3 = 41\n",
    "# 1232 / 4 = 308\n",
    "# 12322 / 5 = 2464.4 # Not a Whole Number\n",
    "# 123220 /6 = 220536.333... # Not a Whole Number\n",
    "\n"
   ]
  },
  {
   "cell_type": "code",
   "execution_count": 4,
   "id": "1fe54f12",
   "metadata": {},
   "outputs": [
    {
     "name": "stdout",
     "output_type": "stream",
     "text": [
      "is_polydivisible(1232) ➞ True\n",
      "is_polydivisible(123220) ➞ False\n"
     ]
    }
   ],
   "source": [
    "def is_polydivisible(in_num):\n",
    "    output = False\n",
    "    in_num_temp = str(in_num)\n",
    "    for ele in range(len(in_num_temp)):\n",
    "        if(int(in_num_temp[:ele+1])%(ele+1) == 0):\n",
    "            output = True\n",
    "        else:\n",
    "            output = False\n",
    "            break\n",
    "    print(f'is_polydivisible({in_num}) ➞ {output}')\n",
    "        \n",
    "is_polydivisible(1232)\n",
    "is_polydivisible(123220)"
   ]
  },
  {
   "cell_type": "markdown",
   "id": "fdfb1012",
   "metadata": {},
   "source": [
    "5. Create a function that takes a list of numbers and returns the sum of all\n",
    "prime numbers in the list.\n",
    "\n",
    "Examples\n",
    "\n",
    "sum_primes([1, 2, 3, 4, 5, 6, 7, 8, 9, 10]) ➞ 17\n",
    "\n",
    "sum_primes([2, 3, 4, 11, 20, 50, 71]) ➞ 87\n",
    "\n",
    "sum_primes([]) ➞ None"
   ]
  },
  {
   "cell_type": "code",
   "execution_count": 5,
   "id": "1a0403bb",
   "metadata": {},
   "outputs": [
    {
     "name": "stdout",
     "output_type": "stream",
     "text": [
      "sum_prices([1, 2, 3, 4, 5, 6, 7, 8, 9, 10]) ➞ 17\n",
      "sum_prices([2, 3, 4, 11, 20, 50, 71]) ➞ 87\n",
      "sum_prices([]) ➞ None\n"
     ]
    }
   ],
   "source": [
    "def sum_primes(in_list):\n",
    "    out_string = []\n",
    "    for ele in in_list:\n",
    "        if ele in [2,3]:\n",
    "            out_string.append(ele)\n",
    "        elif ele in [6*n-1 for n in range(0,ele)] or ele in [6*n+1 for n in range(0,ele)]:\n",
    "            out_string.append(ele)\n",
    "    if 1 in out_string:\n",
    "        out_string.remove(1)\n",
    "    print(f'sum_prices({in_list}) ➞ {sum(out_string) if len(out_string) > 0 else None}')\n",
    "        \n",
    "sum_primes([1, 2, 3, 4, 5, 6, 7, 8, 9, 10])\n",
    "sum_primes([2, 3, 4, 11, 20, 50, 71])\n",
    "sum_primes([])"
   ]
  },
  {
   "cell_type": "code",
   "execution_count": null,
   "id": "e6141e60",
   "metadata": {},
   "outputs": [],
   "source": []
  }
 ],
 "metadata": {
  "kernelspec": {
   "display_name": "Python 3 (ipykernel)",
   "language": "python",
   "name": "python3"
  },
  "language_info": {
   "codemirror_mode": {
    "name": "ipython",
    "version": 3
   },
   "file_extension": ".py",
   "mimetype": "text/x-python",
   "name": "python",
   "nbconvert_exporter": "python",
   "pygments_lexer": "ipython3",
   "version": "3.9.7"
  }
 },
 "nbformat": 4,
 "nbformat_minor": 5
}
